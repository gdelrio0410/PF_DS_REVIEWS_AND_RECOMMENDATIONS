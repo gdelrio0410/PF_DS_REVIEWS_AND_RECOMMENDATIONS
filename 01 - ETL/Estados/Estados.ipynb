{
 "cells": [
  {
   "cell_type": "code",
   "execution_count": 1,
   "metadata": {},
   "outputs": [],
   "source": [
    "\n",
    "import json\n",
    "import pandas as pd\n",
    "\n",
    "def abrir_json_y_crear_pandas(ruta_archivo):\n",
    "    data = []\n",
    "    with open(ruta_archivo, 'r') as archivo:\n",
    "        for linea in archivo:\n",
    "            try:\n",
    "                objeto = json.loads(linea)\n",
    "                data.append(objeto)\n",
    "            except json.JSONDecodeError as e:\n",
    "                print(f\"Error al cargar el JSON en la línea {e.lineno}: {e.msg}\")\n",
    "\n",
    "    df = pd.DataFrame(data)\n",
    "    \n",
    "    return df\n",
    "\n",
    "\n"
   ]
  },
  {
   "cell_type": "code",
   "execution_count": 2,
   "metadata": {},
   "outputs": [],
   "source": [
    "import os\n",
    "\n",
    "def ejecutar_archivos_carpeta(carpeta):\n",
    "    Estado=str(carpeta)\n",
    "    df_concatenado=pd.DataFrame()\n",
    "    for archivo in os.listdir(carpeta):\n",
    "        ruta_archivo = os.path.join(carpeta, archivo)\n",
    "        a=abrir_json_y_crear_pandas(ruta_archivo)\n",
    "        df_concatenado = pd.concat([df_concatenado, a], axis=0)\n",
    "        df_concatenado=pd.DataFrame(df_concatenado[\"gmap_id\"])\n",
    "        df_concatenado = df_concatenado.drop_duplicates(subset=\"gmap_id\")\n",
    "        df_concatenado[Estado] = df_concatenado[Estado] = Estado\n",
    "        df_concatenado.rename(columns={Estado: 'Estado'},inplace=True)\n",
    "\n",
    "        \n",
    "\n",
    "    \n",
    "    return df_concatenado\n"
   ]
  },
  {
   "cell_type": "code",
   "execution_count": 3,
   "metadata": {},
   "outputs": [],
   "source": [
    "def todas(carpeta):\n",
    "    \n",
    "    df=pd.DataFrame()\n",
    "    for archivo in os.listdir(carpeta):\n",
    "        gf=\"../Estados/review -Estados/\"+archivo\n",
    "        data=ejecutar_archivos_carpeta(gf)\n",
    "        df= pd.concat([df, data], axis=0)\n",
    "        \n",
    "    return df"
   ]
  },
  {
   "cell_type": "code",
   "execution_count": 4,
   "metadata": {},
   "outputs": [
    {
     "ename": "OSError",
     "evalue": "[WinError 123] El nombre de archivo, el nombre de directorio o la sintaxis de la etiqueta del volumen no son correctos: 'https://drive.google.com/drive/folders/19QNXr_BcqekFNFNYlKd0kcTXJ0Zg7lI6'",
     "output_type": "error",
     "traceback": [
      "\u001b[1;31m---------------------------------------------------------------------------\u001b[0m",
      "\u001b[1;31mOSError\u001b[0m                                   Traceback (most recent call last)",
      "\u001b[1;32mc:\\Users\\victo\\OneDrive\\Escritorio\\Io\\PF_DS_REVIEWS_AND_RECOMMENDATIONS\\01 - ETL\\Estados\\Estados.ipynb Celda 4\u001b[0m line \u001b[0;36m1\n\u001b[1;32m----> <a href='vscode-notebook-cell:/c%3A/Users/victo/OneDrive/Escritorio/Io/PF_DS_REVIEWS_AND_RECOMMENDATIONS/01%20-%20ETL/Estados/Estados.ipynb#W3sZmlsZQ%3D%3D?line=0'>1</a>\u001b[0m Estados\u001b[39m=\u001b[39mtodas(\u001b[39m\"\u001b[39;49m\u001b[39mhttps://drive.google.com/drive/folders/19QNXr_BcqekFNFNYlKd0kcTXJ0Zg7lI6\u001b[39;49m\u001b[39m\"\u001b[39;49m)\n",
      "\u001b[1;32mc:\\Users\\victo\\OneDrive\\Escritorio\\Io\\PF_DS_REVIEWS_AND_RECOMMENDATIONS\\01 - ETL\\Estados\\Estados.ipynb Celda 4\u001b[0m line \u001b[0;36m4\n\u001b[0;32m      <a href='vscode-notebook-cell:/c%3A/Users/victo/OneDrive/Escritorio/Io/PF_DS_REVIEWS_AND_RECOMMENDATIONS/01%20-%20ETL/Estados/Estados.ipynb#W3sZmlsZQ%3D%3D?line=0'>1</a>\u001b[0m \u001b[39mdef\u001b[39;00m \u001b[39mtodas\u001b[39m(carpeta):\n\u001b[0;32m      <a href='vscode-notebook-cell:/c%3A/Users/victo/OneDrive/Escritorio/Io/PF_DS_REVIEWS_AND_RECOMMENDATIONS/01%20-%20ETL/Estados/Estados.ipynb#W3sZmlsZQ%3D%3D?line=2'>3</a>\u001b[0m     df\u001b[39m=\u001b[39mpd\u001b[39m.\u001b[39mDataFrame()\n\u001b[1;32m----> <a href='vscode-notebook-cell:/c%3A/Users/victo/OneDrive/Escritorio/Io/PF_DS_REVIEWS_AND_RECOMMENDATIONS/01%20-%20ETL/Estados/Estados.ipynb#W3sZmlsZQ%3D%3D?line=3'>4</a>\u001b[0m     \u001b[39mfor\u001b[39;00m archivo \u001b[39min\u001b[39;00m os\u001b[39m.\u001b[39;49mlistdir(carpeta):\n\u001b[0;32m      <a href='vscode-notebook-cell:/c%3A/Users/victo/OneDrive/Escritorio/Io/PF_DS_REVIEWS_AND_RECOMMENDATIONS/01%20-%20ETL/Estados/Estados.ipynb#W3sZmlsZQ%3D%3D?line=4'>5</a>\u001b[0m         gf\u001b[39m=\u001b[39m\u001b[39m\"\u001b[39m\u001b[39m../Estados/review -Estados/\u001b[39m\u001b[39m\"\u001b[39m\u001b[39m+\u001b[39marchivo\n\u001b[0;32m      <a href='vscode-notebook-cell:/c%3A/Users/victo/OneDrive/Escritorio/Io/PF_DS_REVIEWS_AND_RECOMMENDATIONS/01%20-%20ETL/Estados/Estados.ipynb#W3sZmlsZQ%3D%3D?line=5'>6</a>\u001b[0m         data\u001b[39m=\u001b[39mejecutar_archivos_carpeta(gf)\n",
      "\u001b[1;31mOSError\u001b[0m: [WinError 123] El nombre de archivo, el nombre de directorio o la sintaxis de la etiqueta del volumen no son correctos: 'https://drive.google.com/drive/folders/19QNXr_BcqekFNFNYlKd0kcTXJ0Zg7lI6'"
     ]
    }
   ],
   "source": [
    "Estados=todas(\"../Estados/review -Estados\")"
   ]
  },
  {
   "cell_type": "code",
   "execution_count": 24,
   "metadata": {},
   "outputs": [],
   "source": [
    "def sacar(i):\n",
    "    i=i.str.replace(\"../Estados/review -Estados/review-\",\"\")\n",
    "    return i  "
   ]
  },
  {
   "cell_type": "code",
   "execution_count": 25,
   "metadata": {},
   "outputs": [],
   "source": [
    "\n",
    "category=pd.DataFrame(Estados[\"Estado\"].astype(str))\n",
    "category=category.apply(sacar, axis=1)\n",
    "Estados=Estados.drop(\"Estado\",axis=1)\n",
    "Estados.insert(1, \"Estado\", category)"
   ]
  },
  {
   "cell_type": "code",
   "execution_count": 26,
   "metadata": {},
   "outputs": [
    {
     "data": {
      "text/html": [
       "<div>\n",
       "<style scoped>\n",
       "    .dataframe tbody tr th:only-of-type {\n",
       "        vertical-align: middle;\n",
       "    }\n",
       "\n",
       "    .dataframe tbody tr th {\n",
       "        vertical-align: top;\n",
       "    }\n",
       "\n",
       "    .dataframe thead th {\n",
       "        text-align: right;\n",
       "    }\n",
       "</style>\n",
       "<table border=\"1\" class=\"dataframe\">\n",
       "  <thead>\n",
       "    <tr style=\"text-align: right;\">\n",
       "      <th></th>\n",
       "      <th>gmap_id</th>\n",
       "      <th>Estado</th>\n",
       "    </tr>\n",
       "  </thead>\n",
       "  <tbody>\n",
       "    <tr>\n",
       "      <th>0</th>\n",
       "      <td>0x8862134e67ff5c87:0x38b5e2ae99cd1fcf</td>\n",
       "      <td>Alabama</td>\n",
       "    </tr>\n",
       "    <tr>\n",
       "      <th>5</th>\n",
       "      <td>0x886268e8fdc4fd2f:0x746533eb9aa4d4df</td>\n",
       "      <td>Alabama</td>\n",
       "    </tr>\n",
       "    <tr>\n",
       "      <th>24</th>\n",
       "      <td>0x8889aeaec69d4d49:0xb5c343f9d441acf2</td>\n",
       "      <td>Alabama</td>\n",
       "    </tr>\n",
       "    <tr>\n",
       "      <th>37</th>\n",
       "      <td>0x88626b2e333be6d9:0x2a00a09a7045984f</td>\n",
       "      <td>Alabama</td>\n",
       "    </tr>\n",
       "    <tr>\n",
       "      <th>58</th>\n",
       "      <td>0x88890c0ff1fb3a1d:0x2b4463747ed6a8a</td>\n",
       "      <td>Alabama</td>\n",
       "    </tr>\n",
       "    <tr>\n",
       "      <th>...</th>\n",
       "      <td>...</td>\n",
       "      <td>...</td>\n",
       "    </tr>\n",
       "    <tr>\n",
       "      <th>149686</th>\n",
       "      <td>0x54905ea486e1817f:0xc96b16d3a19c2630</td>\n",
       "      <td>Washington</td>\n",
       "    </tr>\n",
       "    <tr>\n",
       "      <th>149716</th>\n",
       "      <td>0x5490f7c23e557ca3:0x9ab5bc936ace4a3b</td>\n",
       "      <td>Washington</td>\n",
       "    </tr>\n",
       "    <tr>\n",
       "      <th>149825</th>\n",
       "      <td>0x5490594f83e49d6d:0x4e77bd04e0fd72f8</td>\n",
       "      <td>Washington</td>\n",
       "    </tr>\n",
       "    <tr>\n",
       "      <th>149850</th>\n",
       "      <td>0x54905e98e7d5f58d:0xa93f0e72b84ee40b</td>\n",
       "      <td>Washington</td>\n",
       "    </tr>\n",
       "    <tr>\n",
       "      <th>149898</th>\n",
       "      <td>0x5490f8388d138169:0xc64616ee8cb521ec</td>\n",
       "      <td>Washington</td>\n",
       "    </tr>\n",
       "  </tbody>\n",
       "</table>\n",
       "<p>1458623 rows × 2 columns</p>\n",
       "</div>"
      ],
      "text/plain": [
       "                                      gmap_id      Estado\n",
       "0       0x8862134e67ff5c87:0x38b5e2ae99cd1fcf     Alabama\n",
       "5       0x886268e8fdc4fd2f:0x746533eb9aa4d4df     Alabama\n",
       "24      0x8889aeaec69d4d49:0xb5c343f9d441acf2     Alabama\n",
       "37      0x88626b2e333be6d9:0x2a00a09a7045984f     Alabama\n",
       "58       0x88890c0ff1fb3a1d:0x2b4463747ed6a8a     Alabama\n",
       "...                                       ...         ...\n",
       "149686  0x54905ea486e1817f:0xc96b16d3a19c2630  Washington\n",
       "149716  0x5490f7c23e557ca3:0x9ab5bc936ace4a3b  Washington\n",
       "149825  0x5490594f83e49d6d:0x4e77bd04e0fd72f8  Washington\n",
       "149850  0x54905e98e7d5f58d:0xa93f0e72b84ee40b  Washington\n",
       "149898  0x5490f8388d138169:0xc64616ee8cb521ec  Washington\n",
       "\n",
       "[1458623 rows x 2 columns]"
      ]
     },
     "execution_count": 26,
     "metadata": {},
     "output_type": "execute_result"
    }
   ],
   "source": [
    "Estados"
   ]
  },
  {
   "cell_type": "code",
   "execution_count": 27,
   "metadata": {},
   "outputs": [],
   "source": [
    "Estados.to_csv(\"Estados.csv\")"
   ]
  }
 ],
 "metadata": {
  "kernelspec": {
   "display_name": "tr",
   "language": "python",
   "name": "python3"
  },
  "language_info": {
   "codemirror_mode": {
    "name": "ipython",
    "version": 3
   },
   "file_extension": ".py",
   "mimetype": "text/x-python",
   "name": "python",
   "nbconvert_exporter": "python",
   "pygments_lexer": "ipython3",
   "version": "3.11.5"
  },
  "orig_nbformat": 4
 },
 "nbformat": 4,
 "nbformat_minor": 2
}
