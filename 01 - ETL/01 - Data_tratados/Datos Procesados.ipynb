{
 "cells": [
  {
   "cell_type": "code",
   "execution_count": 2,
   "metadata": {},
   "outputs": [],
   "source": [
    "import pandas as pd\n"
   ]
  },
  {
   "cell_type": "markdown",
   "metadata": {},
   "source": [
    "# Abrimos el archivo  para el tratamiento de los data de Sitios"
   ]
  },
  {
   "cell_type": "code",
   "execution_count": 3,
   "metadata": {},
   "outputs": [],
   "source": [
    "sitio=pd.read_csv(\"../01 - Data_tratados/Sitios_Unidos.csv\")"
   ]
  },
  {
   "cell_type": "code",
   "execution_count": 4,
   "metadata": {},
   "outputs": [
    {
     "data": {
      "text/html": [
       "<div>\n",
       "<style scoped>\n",
       "    .dataframe tbody tr th:only-of-type {\n",
       "        vertical-align: middle;\n",
       "    }\n",
       "\n",
       "    .dataframe tbody tr th {\n",
       "        vertical-align: top;\n",
       "    }\n",
       "\n",
       "    .dataframe thead th {\n",
       "        text-align: right;\n",
       "    }\n",
       "</style>\n",
       "<table border=\"1\" class=\"dataframe\">\n",
       "  <thead>\n",
       "    <tr style=\"text-align: right;\">\n",
       "      <th></th>\n",
       "      <th>Unnamed: 0</th>\n",
       "      <th>name</th>\n",
       "      <th>address</th>\n",
       "      <th>gmap_id</th>\n",
       "      <th>description</th>\n",
       "      <th>latitude</th>\n",
       "      <th>longitude</th>\n",
       "      <th>category</th>\n",
       "      <th>avg_rating</th>\n",
       "      <th>num_of_reviews</th>\n",
       "      <th>price</th>\n",
       "      <th>hours</th>\n",
       "      <th>MISC</th>\n",
       "      <th>state</th>\n",
       "      <th>relative_results</th>\n",
       "      <th>url</th>\n",
       "    </tr>\n",
       "  </thead>\n",
       "  <tbody>\n",
       "    <tr>\n",
       "      <th>0</th>\n",
       "      <td>0</td>\n",
       "      <td>Porter Pharmacy</td>\n",
       "      <td>Porter Pharmacy, 129 N Second St, Cochran, GA ...</td>\n",
       "      <td>0x88f16e41928ff687:0x883dad4fd048e8f8</td>\n",
       "      <td>NaN</td>\n",
       "      <td>32.3883</td>\n",
       "      <td>-83.3571</td>\n",
       "      <td>['Pharmacy']</td>\n",
       "      <td>4.9</td>\n",
       "      <td>16</td>\n",
       "      <td>NaN</td>\n",
       "      <td>[['Friday', '8AM–6PM'], ['Saturday', '8AM–12PM...</td>\n",
       "      <td>{'Service options': ['In-store shopping', 'Sam...</td>\n",
       "      <td>Open ⋅ Closes 6PM</td>\n",
       "      <td>['0x88f16e41929435cf:0x5b2532a2885e9ef6', '0x8...</td>\n",
       "      <td>https://www.google.com/maps/place//data=!4m2!3...</td>\n",
       "    </tr>\n",
       "  </tbody>\n",
       "</table>\n",
       "</div>"
      ],
      "text/plain": [
       "   Unnamed: 0             name  \\\n",
       "0           0  Porter Pharmacy   \n",
       "\n",
       "                                             address  \\\n",
       "0  Porter Pharmacy, 129 N Second St, Cochran, GA ...   \n",
       "\n",
       "                                 gmap_id description  latitude  longitude  \\\n",
       "0  0x88f16e41928ff687:0x883dad4fd048e8f8         NaN   32.3883   -83.3571   \n",
       "\n",
       "       category  avg_rating  num_of_reviews price  \\\n",
       "0  ['Pharmacy']         4.9              16   NaN   \n",
       "\n",
       "                                               hours  \\\n",
       "0  [['Friday', '8AM–6PM'], ['Saturday', '8AM–12PM...   \n",
       "\n",
       "                                                MISC              state  \\\n",
       "0  {'Service options': ['In-store shopping', 'Sam...  Open ⋅ Closes 6PM   \n",
       "\n",
       "                                    relative_results  \\\n",
       "0  ['0x88f16e41929435cf:0x5b2532a2885e9ef6', '0x8...   \n",
       "\n",
       "                                                 url  \n",
       "0  https://www.google.com/maps/place//data=!4m2!3...  "
      ]
     },
     "execution_count": 4,
     "metadata": {},
     "output_type": "execute_result"
    }
   ],
   "source": [
    "sitio.head(1)"
   ]
  },
  {
   "cell_type": "markdown",
   "metadata": {},
   "source": [
    "# Nos Quedamos solo con las columnas necesarias"
   ]
  },
  {
   "cell_type": "code",
   "execution_count": 5,
   "metadata": {},
   "outputs": [],
   "source": [
    "sitio=sitio[[\"category\",\"latitude\",\"longitude\",\"gmap_id\",\"name\"]]"
   ]
  },
  {
   "cell_type": "code",
   "execution_count": 6,
   "metadata": {},
   "outputs": [
    {
     "name": "stdout",
     "output_type": "stream",
     "text": [
      "<class 'pandas.core.frame.DataFrame'>\n",
      "RangeIndex: 3025011 entries, 0 to 3025010\n",
      "Data columns (total 5 columns):\n",
      " #   Column     Dtype  \n",
      "---  ------     -----  \n",
      " 0   category   object \n",
      " 1   latitude   float64\n",
      " 2   longitude  float64\n",
      " 3   gmap_id    object \n",
      " 4   name       object \n",
      "dtypes: float64(2), object(3)\n",
      "memory usage: 115.4+ MB\n"
     ]
    }
   ],
   "source": [
    "sitio.info()"
   ]
  },
  {
   "cell_type": "code",
   "execution_count": 7,
   "metadata": {},
   "outputs": [
    {
     "data": {
      "text/html": [
       "<div>\n",
       "<style scoped>\n",
       "    .dataframe tbody tr th:only-of-type {\n",
       "        vertical-align: middle;\n",
       "    }\n",
       "\n",
       "    .dataframe tbody tr th {\n",
       "        vertical-align: top;\n",
       "    }\n",
       "\n",
       "    .dataframe thead th {\n",
       "        text-align: right;\n",
       "    }\n",
       "</style>\n",
       "<table border=\"1\" class=\"dataframe\">\n",
       "  <thead>\n",
       "    <tr style=\"text-align: right;\">\n",
       "      <th></th>\n",
       "      <th>category</th>\n",
       "      <th>latitude</th>\n",
       "      <th>longitude</th>\n",
       "      <th>gmap_id</th>\n",
       "      <th>name</th>\n",
       "    </tr>\n",
       "  </thead>\n",
       "  <tbody>\n",
       "    <tr>\n",
       "      <th>0</th>\n",
       "      <td>['Pharmacy']</td>\n",
       "      <td>32.3883</td>\n",
       "      <td>-83.3571</td>\n",
       "      <td>0x88f16e41928ff687:0x883dad4fd048e8f8</td>\n",
       "      <td>Porter Pharmacy</td>\n",
       "    </tr>\n",
       "  </tbody>\n",
       "</table>\n",
       "</div>"
      ],
      "text/plain": [
       "       category  latitude  longitude                                gmap_id  \\\n",
       "0  ['Pharmacy']   32.3883   -83.3571  0x88f16e41928ff687:0x883dad4fd048e8f8   \n",
       "\n",
       "              name  \n",
       "0  Porter Pharmacy  "
      ]
     },
     "execution_count": 7,
     "metadata": {},
     "output_type": "execute_result"
    }
   ],
   "source": [
    "sitio.head(1)"
   ]
  },
  {
   "cell_type": "markdown",
   "metadata": {},
   "source": [
    "# Abrimos el archivo  para el tratamiento de los data de Estados"
   ]
  },
  {
   "cell_type": "code",
   "execution_count": 8,
   "metadata": {},
   "outputs": [],
   "source": [
    "Estado=pd.read_csv(\"Estados.csv\")"
   ]
  },
  {
   "cell_type": "markdown",
   "metadata": {},
   "source": [
    "# Nos quedamos con las columnas necesarias"
   ]
  },
  {
   "cell_type": "code",
   "execution_count": 9,
   "metadata": {},
   "outputs": [],
   "source": [
    "Estado=Estado[[\"gmap_id\",\"Estado\"]]"
   ]
  },
  {
   "cell_type": "code",
   "execution_count": 10,
   "metadata": {},
   "outputs": [
    {
     "data": {
      "text/html": [
       "<div>\n",
       "<style scoped>\n",
       "    .dataframe tbody tr th:only-of-type {\n",
       "        vertical-align: middle;\n",
       "    }\n",
       "\n",
       "    .dataframe tbody tr th {\n",
       "        vertical-align: top;\n",
       "    }\n",
       "\n",
       "    .dataframe thead th {\n",
       "        text-align: right;\n",
       "    }\n",
       "</style>\n",
       "<table border=\"1\" class=\"dataframe\">\n",
       "  <thead>\n",
       "    <tr style=\"text-align: right;\">\n",
       "      <th></th>\n",
       "      <th>gmap_id</th>\n",
       "      <th>Estado</th>\n",
       "    </tr>\n",
       "  </thead>\n",
       "  <tbody>\n",
       "    <tr>\n",
       "      <th>0</th>\n",
       "      <td>0x8862134e67ff5c87:0x38b5e2ae99cd1fcf</td>\n",
       "      <td>Alabama</td>\n",
       "    </tr>\n",
       "    <tr>\n",
       "      <th>1</th>\n",
       "      <td>0x886268e8fdc4fd2f:0x746533eb9aa4d4df</td>\n",
       "      <td>Alabama</td>\n",
       "    </tr>\n",
       "    <tr>\n",
       "      <th>2</th>\n",
       "      <td>0x8889aeaec69d4d49:0xb5c343f9d441acf2</td>\n",
       "      <td>Alabama</td>\n",
       "    </tr>\n",
       "    <tr>\n",
       "      <th>3</th>\n",
       "      <td>0x88626b2e333be6d9:0x2a00a09a7045984f</td>\n",
       "      <td>Alabama</td>\n",
       "    </tr>\n",
       "    <tr>\n",
       "      <th>4</th>\n",
       "      <td>0x88890c0ff1fb3a1d:0x2b4463747ed6a8a</td>\n",
       "      <td>Alabama</td>\n",
       "    </tr>\n",
       "  </tbody>\n",
       "</table>\n",
       "</div>"
      ],
      "text/plain": [
       "                                 gmap_id   Estado\n",
       "0  0x8862134e67ff5c87:0x38b5e2ae99cd1fcf  Alabama\n",
       "1  0x886268e8fdc4fd2f:0x746533eb9aa4d4df  Alabama\n",
       "2  0x8889aeaec69d4d49:0xb5c343f9d441acf2  Alabama\n",
       "3  0x88626b2e333be6d9:0x2a00a09a7045984f  Alabama\n",
       "4   0x88890c0ff1fb3a1d:0x2b4463747ed6a8a  Alabama"
      ]
     },
     "execution_count": 10,
     "metadata": {},
     "output_type": "execute_result"
    }
   ],
   "source": [
    "Estado.head()"
   ]
  },
  {
   "cell_type": "markdown",
   "metadata": {},
   "source": [
    "# Creamos un Dataframe uniendo el csv de Estados y el csv de sitios"
   ]
  },
  {
   "cell_type": "code",
   "execution_count": 11,
   "metadata": {},
   "outputs": [],
   "source": [
    "Dataframe = pd.merge(Estado,sitio, on='gmap_id')"
   ]
  },
  {
   "cell_type": "markdown",
   "metadata": {},
   "source": [
    "## Limpiamos los datos faltantes y separamos solo para la categoria de Restaurant"
   ]
  },
  {
   "cell_type": "code",
   "execution_count": 12,
   "metadata": {},
   "outputs": [],
   "source": [
    "Dataframe .dropna(subset=[\"category\"], inplace=True)"
   ]
  },
  {
   "cell_type": "code",
   "execution_count": 13,
   "metadata": {},
   "outputs": [],
   "source": [
    "def filtrar_dataframe(dataframe, columna, frase):\n",
    "    nuevo_dataframe = dataframe[dataframe[columna].str.contains(frase)]\n",
    "    return nuevo_dataframe"
   ]
  },
  {
   "cell_type": "code",
   "execution_count": 14,
   "metadata": {},
   "outputs": [],
   "source": [
    "data=filtrar_dataframe(Dataframe,\"category\",\"restaurant\")"
   ]
  },
  {
   "cell_type": "code",
   "execution_count": 15,
   "metadata": {},
   "outputs": [],
   "source": [
    "def sacar(i):\n",
    "    i=i.str.replace(\"[\",\"\")\n",
    "    i=i.str.replace(\"]\",\"\")\n",
    "    i=i.str.replace(\"'\",\"\")\n",
    "  \n",
    "    return i  \n"
   ]
  },
  {
   "cell_type": "code",
   "execution_count": 22,
   "metadata": {},
   "outputs": [
    {
     "name": "stderr",
     "output_type": "stream",
     "text": [
      "C:\\Users\\victo\\AppData\\Local\\Temp\\ipykernel_3264\\2260634179.py:2: FutureWarning: The default value of regex will change from True to False in a future version. In addition, single character regular expressions will *not* be treated as literal strings when regex=True.\n",
      "  i=i.str.replace(\"[\",\"\")\n",
      "C:\\Users\\victo\\AppData\\Local\\Temp\\ipykernel_3264\\2260634179.py:3: FutureWarning: The default value of regex will change from True to False in a future version. In addition, single character regular expressions will *not* be treated as literal strings when regex=True.\n",
      "  i=i.str.replace(\"]\",\"\")\n"
     ]
    }
   ],
   "source": [
    "data.dropna(subset=[\"category\"], inplace=True)\n",
    "category=pd.DataFrame(data[\"category\"].astype(str))\n",
    "category=category.apply(sacar, axis=1)\n",
    "data=data.drop(\"category\",axis=1)\n",
    "data.insert(5, \"category\", category)\n",
    "Datos_Procesados=data[[\"latitude\",\"longitude\",\"category\",\"name\",\"Estado\"]]"
   ]
  },
  {
   "cell_type": "code",
   "execution_count": 23,
   "metadata": {},
   "outputs": [
    {
     "data": {
      "text/html": [
       "<div>\n",
       "<style scoped>\n",
       "    .dataframe tbody tr th:only-of-type {\n",
       "        vertical-align: middle;\n",
       "    }\n",
       "\n",
       "    .dataframe tbody tr th {\n",
       "        vertical-align: top;\n",
       "    }\n",
       "\n",
       "    .dataframe thead th {\n",
       "        text-align: right;\n",
       "    }\n",
       "</style>\n",
       "<table border=\"1\" class=\"dataframe\">\n",
       "  <thead>\n",
       "    <tr style=\"text-align: right;\">\n",
       "      <th></th>\n",
       "      <th>latitude</th>\n",
       "      <th>longitude</th>\n",
       "      <th>category</th>\n",
       "      <th>name</th>\n",
       "      <th>Estado</th>\n",
       "    </tr>\n",
       "  </thead>\n",
       "  <tbody>\n",
       "    <tr>\n",
       "      <th>12</th>\n",
       "      <td>33.381416</td>\n",
       "      <td>-86.807040</td>\n",
       "      <td>Pizza restaurant</td>\n",
       "      <td>California Pizza Kitchen at Riverchase Galleria</td>\n",
       "      <td>Alabama</td>\n",
       "    </tr>\n",
       "    <tr>\n",
       "      <th>13</th>\n",
       "      <td>33.381416</td>\n",
       "      <td>-86.807040</td>\n",
       "      <td>Pizza restaurant</td>\n",
       "      <td>California Pizza Kitchen at Riverchase Galleria</td>\n",
       "      <td>Alabama</td>\n",
       "    </tr>\n",
       "    <tr>\n",
       "      <th>14</th>\n",
       "      <td>33.100547</td>\n",
       "      <td>-86.861968</td>\n",
       "      <td>Pizza delivery, Chicken wings restaurant, Pizz...</td>\n",
       "      <td>Pizza Hut</td>\n",
       "      <td>Alabama</td>\n",
       "    </tr>\n",
       "    <tr>\n",
       "      <th>15</th>\n",
       "      <td>33.100547</td>\n",
       "      <td>-86.861968</td>\n",
       "      <td>Pizza delivery, Chicken wings restaurant, Pizz...</td>\n",
       "      <td>Pizza Hut</td>\n",
       "      <td>Alabama</td>\n",
       "    </tr>\n",
       "    <tr>\n",
       "      <th>18</th>\n",
       "      <td>32.631013</td>\n",
       "      <td>-85.437473</td>\n",
       "      <td>Asian fusion restaurant, Dessert restaurant</td>\n",
       "      <td>Cheetos</td>\n",
       "      <td>Alabama</td>\n",
       "    </tr>\n",
       "    <tr>\n",
       "      <th>...</th>\n",
       "      <td>...</td>\n",
       "      <td>...</td>\n",
       "      <td>...</td>\n",
       "      <td>...</td>\n",
       "      <td>...</td>\n",
       "    </tr>\n",
       "    <tr>\n",
       "      <th>1084531</th>\n",
       "      <td>47.042392</td>\n",
       "      <td>-122.936001</td>\n",
       "      <td>Asian fusion restaurant, Fast food restaurant,...</td>\n",
       "      <td>MiSo</td>\n",
       "      <td>Washington</td>\n",
       "    </tr>\n",
       "    <tr>\n",
       "      <th>1084536</th>\n",
       "      <td>48.512617</td>\n",
       "      <td>-121.469734</td>\n",
       "      <td>Restaurant, ATM, Country food restaurant, Stea...</td>\n",
       "      <td>Glacier Peak Resort &amp; Winery</td>\n",
       "      <td>Washington</td>\n",
       "    </tr>\n",
       "    <tr>\n",
       "      <th>1084542</th>\n",
       "      <td>48.179205</td>\n",
       "      <td>-117.044331</td>\n",
       "      <td>Pizza restaurant, Italian restaurant</td>\n",
       "      <td>Newport Pizza</td>\n",
       "      <td>Washington</td>\n",
       "    </tr>\n",
       "    <tr>\n",
       "      <th>1084545</th>\n",
       "      <td>47.878470</td>\n",
       "      <td>-122.166333</td>\n",
       "      <td>Sushi restaurant</td>\n",
       "      <td>Fatty Fish Sushi Restaurant</td>\n",
       "      <td>Washington</td>\n",
       "    </tr>\n",
       "    <tr>\n",
       "      <th>1084554</th>\n",
       "      <td>47.543108</td>\n",
       "      <td>-122.019312</td>\n",
       "      <td>Sandwich shop, Caterer, Fast food restaurant, ...</td>\n",
       "      <td>Jimmy John's</td>\n",
       "      <td>Washington</td>\n",
       "    </tr>\n",
       "  </tbody>\n",
       "</table>\n",
       "<p>95992 rows × 5 columns</p>\n",
       "</div>"
      ],
      "text/plain": [
       "          latitude   longitude  \\\n",
       "12       33.381416  -86.807040   \n",
       "13       33.381416  -86.807040   \n",
       "14       33.100547  -86.861968   \n",
       "15       33.100547  -86.861968   \n",
       "18       32.631013  -85.437473   \n",
       "...            ...         ...   \n",
       "1084531  47.042392 -122.936001   \n",
       "1084536  48.512617 -121.469734   \n",
       "1084542  48.179205 -117.044331   \n",
       "1084545  47.878470 -122.166333   \n",
       "1084554  47.543108 -122.019312   \n",
       "\n",
       "                                                  category  \\\n",
       "12                                        Pizza restaurant   \n",
       "13                                        Pizza restaurant   \n",
       "14       Pizza delivery, Chicken wings restaurant, Pizz...   \n",
       "15       Pizza delivery, Chicken wings restaurant, Pizz...   \n",
       "18             Asian fusion restaurant, Dessert restaurant   \n",
       "...                                                    ...   \n",
       "1084531  Asian fusion restaurant, Fast food restaurant,...   \n",
       "1084536  Restaurant, ATM, Country food restaurant, Stea...   \n",
       "1084542               Pizza restaurant, Italian restaurant   \n",
       "1084545                                   Sushi restaurant   \n",
       "1084554  Sandwich shop, Caterer, Fast food restaurant, ...   \n",
       "\n",
       "                                                    name      Estado  \n",
       "12       California Pizza Kitchen at Riverchase Galleria     Alabama  \n",
       "13       California Pizza Kitchen at Riverchase Galleria     Alabama  \n",
       "14                                             Pizza Hut     Alabama  \n",
       "15                                             Pizza Hut     Alabama  \n",
       "18                                               Cheetos     Alabama  \n",
       "...                                                  ...         ...  \n",
       "1084531                                             MiSo  Washington  \n",
       "1084536                     Glacier Peak Resort & Winery  Washington  \n",
       "1084542                                    Newport Pizza  Washington  \n",
       "1084545                      Fatty Fish Sushi Restaurant  Washington  \n",
       "1084554                                     Jimmy John's  Washington  \n",
       "\n",
       "[95992 rows x 5 columns]"
      ]
     },
     "execution_count": 23,
     "metadata": {},
     "output_type": "execute_result"
    }
   ],
   "source": [
    "Datos_Procesados"
   ]
  },
  {
   "cell_type": "markdown",
   "metadata": {},
   "source": [
    "### Generamos el csv procesado"
   ]
  },
  {
   "cell_type": "code",
   "execution_count": 24,
   "metadata": {},
   "outputs": [],
   "source": [
    "Datos_Procesados.to_csv(\"../01 - Data_tratados/Datos_Procesados.csv\")"
   ]
  }
 ],
 "metadata": {
  "kernelspec": {
   "display_name": "tr",
   "language": "python",
   "name": "python3"
  },
  "language_info": {
   "codemirror_mode": {
    "name": "ipython",
    "version": 3
   },
   "file_extension": ".py",
   "mimetype": "text/x-python",
   "name": "python",
   "nbconvert_exporter": "python",
   "pygments_lexer": "ipython3",
   "version": "3.11.5"
  },
  "orig_nbformat": 4
 },
 "nbformat": 4,
 "nbformat_minor": 2
}
