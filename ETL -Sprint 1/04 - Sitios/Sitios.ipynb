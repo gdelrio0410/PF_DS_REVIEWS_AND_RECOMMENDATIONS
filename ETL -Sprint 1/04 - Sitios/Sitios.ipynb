{
 "cells": [
  {
   "cell_type": "code",
   "execution_count": 2,
   "metadata": {},
   "outputs": [],
   "source": [
    "\n",
    "import json\n",
    "import pandas as pd\n",
    "import seaborn as sns\n",
    "import os\n"
   ]
  },
  {
   "cell_type": "markdown",
   "metadata": {},
   "source": [
    "# Programa para extraer los archivos"
   ]
  },
  {
   "cell_type": "code",
   "execution_count": 3,
   "metadata": {},
   "outputs": [],
   "source": [
    "\n",
    "\n",
    "\n",
    "def abrir_json_y_crear_pandas(ruta_archivo):\n",
    "    data = []\n",
    "    with open(ruta_archivo, 'r') as archivo:\n",
    "        for linea in archivo:\n",
    "            try:\n",
    "                objeto = json.loads(linea)\n",
    "                data.append(objeto)\n",
    "            except json.JSONDecodeError as e:\n",
    "                print(f\"Error al cargar el JSON en la línea {e.lineno}: {e.msg}\")\n",
    "\n",
    "    df = pd.DataFrame(data)\n",
    "    \n",
    "    return df\n",
    "\n"
   ]
  },
  {
   "cell_type": "code",
   "execution_count": 4,
   "metadata": {},
   "outputs": [],
   "source": [
    "\n",
    "\n",
    "def ejecutar_archivos_carpeta(carpeta):\n",
    "    \n",
    "    df_concatenado=pd.DataFrame()\n",
    "    for archivo in os.listdir(carpeta):\n",
    "        ruta_archivo = os.path.join(carpeta, archivo)\n",
    "        a=abrir_json_y_crear_pandas(ruta_archivo)\n",
    "        df_concatenado = pd.concat([df_concatenado, a], axis=0)\n",
    "\n",
    "    \n",
    "    return df_concatenado\n",
    "\n",
    "       \n"
   ]
  },
  {
   "cell_type": "code",
   "execution_count": 5,
   "metadata": {},
   "outputs": [],
   "source": [
    "def sacar(i):\n",
    "    i=i.str.replace(\"[\",\"\")\n",
    "    i=i.str.replace(\"]\",\"\")\n",
    "    i=i.str.replace(\"'\",\"\")\n",
    "  \n",
    "    return i  "
   ]
  },
  {
   "cell_type": "markdown",
   "metadata": {},
   "source": [
    "# Extrayendo archivos"
   ]
  },
  {
   "cell_type": "code",
   "execution_count": 6,
   "metadata": {},
   "outputs": [
    {
     "ename": "FileNotFoundError",
     "evalue": "[WinError 3] El sistema no puede encontrar la ruta especificada: '../Sitios/metadata-sitios/1'",
     "output_type": "error",
     "traceback": [
      "\u001b[1;31m---------------------------------------------------------------------------\u001b[0m",
      "\u001b[1;31mFileNotFoundError\u001b[0m                         Traceback (most recent call last)",
      "\u001b[1;32mc:\\Users\\victo\\OneDrive\\Escritorio\\Io\\PF_DS_REVIEWS_AND_RECOMMENDATIONS\\01 - ETL\\Sitios\\Sitios.ipynb Celda 7\u001b[0m line \u001b[0;36m1\n\u001b[1;32m----> <a href='vscode-notebook-cell:/c%3A/Users/victo/OneDrive/Escritorio/Io/PF_DS_REVIEWS_AND_RECOMMENDATIONS/01%20-%20ETL/Sitios/Sitios.ipynb#W6sZmlsZQ%3D%3D?line=0'>1</a>\u001b[0m data1\u001b[39m=\u001b[39mejecutar_archivos_carpeta(\u001b[39m\"\u001b[39;49m\u001b[39m../Sitios/metadata-sitios/1\u001b[39;49m\u001b[39m\"\u001b[39;49m)\n",
      "\u001b[1;32mc:\\Users\\victo\\OneDrive\\Escritorio\\Io\\PF_DS_REVIEWS_AND_RECOMMENDATIONS\\01 - ETL\\Sitios\\Sitios.ipynb Celda 7\u001b[0m line \u001b[0;36m4\n\u001b[0;32m      <a href='vscode-notebook-cell:/c%3A/Users/victo/OneDrive/Escritorio/Io/PF_DS_REVIEWS_AND_RECOMMENDATIONS/01%20-%20ETL/Sitios/Sitios.ipynb#W6sZmlsZQ%3D%3D?line=0'>1</a>\u001b[0m \u001b[39mdef\u001b[39;00m \u001b[39mejecutar_archivos_carpeta\u001b[39m(carpeta):\n\u001b[0;32m      <a href='vscode-notebook-cell:/c%3A/Users/victo/OneDrive/Escritorio/Io/PF_DS_REVIEWS_AND_RECOMMENDATIONS/01%20-%20ETL/Sitios/Sitios.ipynb#W6sZmlsZQ%3D%3D?line=2'>3</a>\u001b[0m     df_concatenado\u001b[39m=\u001b[39mpd\u001b[39m.\u001b[39mDataFrame()\n\u001b[1;32m----> <a href='vscode-notebook-cell:/c%3A/Users/victo/OneDrive/Escritorio/Io/PF_DS_REVIEWS_AND_RECOMMENDATIONS/01%20-%20ETL/Sitios/Sitios.ipynb#W6sZmlsZQ%3D%3D?line=3'>4</a>\u001b[0m     \u001b[39mfor\u001b[39;00m archivo \u001b[39min\u001b[39;00m os\u001b[39m.\u001b[39;49mlistdir(carpeta):\n\u001b[0;32m      <a href='vscode-notebook-cell:/c%3A/Users/victo/OneDrive/Escritorio/Io/PF_DS_REVIEWS_AND_RECOMMENDATIONS/01%20-%20ETL/Sitios/Sitios.ipynb#W6sZmlsZQ%3D%3D?line=4'>5</a>\u001b[0m         ruta_archivo \u001b[39m=\u001b[39m os\u001b[39m.\u001b[39mpath\u001b[39m.\u001b[39mjoin(carpeta, archivo)\n\u001b[0;32m      <a href='vscode-notebook-cell:/c%3A/Users/victo/OneDrive/Escritorio/Io/PF_DS_REVIEWS_AND_RECOMMENDATIONS/01%20-%20ETL/Sitios/Sitios.ipynb#W6sZmlsZQ%3D%3D?line=5'>6</a>\u001b[0m         a\u001b[39m=\u001b[39mabrir_json_y_crear_pandas(ruta_archivo)\n",
      "\u001b[1;31mFileNotFoundError\u001b[0m: [WinError 3] El sistema no puede encontrar la ruta especificada: '../Sitios/metadata-sitios/1'"
     ]
    }
   ],
   "source": [
    "data1=ejecutar_archivos_carpeta(\"../Sitios/metadata-sitios/1\")"
   ]
  },
  {
   "cell_type": "code",
   "execution_count": null,
   "metadata": {},
   "outputs": [],
   "source": [
    "data2=ejecutar_archivos_carpeta(\"../Sitios/metadata-sitios/2\")"
   ]
  },
  {
   "cell_type": "code",
   "execution_count": null,
   "metadata": {},
   "outputs": [],
   "source": [
    "data3=ejecutar_archivos_carpeta(\"../Sitios/metadata-sitios/3\")"
   ]
  },
  {
   "cell_type": "markdown",
   "metadata": {},
   "source": [
    "# Concatenar archivos y generamos CSV para continuar el modelo"
   ]
  },
  {
   "cell_type": "code",
   "execution_count": null,
   "metadata": {},
   "outputs": [],
   "source": [
    "Sitios_Unidos=pd.concat([data1, data2, data3])"
   ]
  },
  {
   "cell_type": "code",
   "execution_count": null,
   "metadata": {},
   "outputs": [
    {
     "ename": "NameError",
     "evalue": "name 'Sitios_Unidos' is not defined",
     "output_type": "error",
     "traceback": [
      "\u001b[1;31m---------------------------------------------------------------------------\u001b[0m",
      "\u001b[1;31mNameError\u001b[0m                                 Traceback (most recent call last)",
      "\u001b[1;32mc:\\Users\\victo\\OneDrive\\Escritorio\\Io\\PF_DS_REVIEWS_AND_RECOMMENDATIONS\\01 - ETL\\Sitios\\Sitios.ipynb Celda 12\u001b[0m line \u001b[0;36m1\n\u001b[1;32m----> <a href='vscode-notebook-cell:/c%3A/Users/victo/OneDrive/Escritorio/Io/PF_DS_REVIEWS_AND_RECOMMENDATIONS/01%20-%20ETL/Sitios/Sitios.ipynb#X14sZmlsZQ%3D%3D?line=0'>1</a>\u001b[0m Sitios_Unidos\u001b[39m.\u001b[39mto_csv(\u001b[39m\"\u001b[39m\u001b[39m../Data_tratados/Sitios_Unidos.csv\u001b[39m\u001b[39m\"\u001b[39m,index\u001b[39m=\u001b[39m\u001b[39mFalse\u001b[39;00m)\n",
      "\u001b[1;31mNameError\u001b[0m: name 'Sitios_Unidos' is not defined"
     ]
    }
   ],
   "source": [
    "Sitios_Unidos.to_csv(\"../Data_tratados/Sitios_Unidos.csv\",index=False)"
   ]
  }
 ],
 "metadata": {
  "kernelspec": {
   "display_name": "tr",
   "language": "python",
   "name": "python3"
  },
  "language_info": {
   "codemirror_mode": {
    "name": "ipython",
    "version": 3
   },
   "file_extension": ".py",
   "mimetype": "text/x-python",
   "name": "python",
   "nbconvert_exporter": "python",
   "pygments_lexer": "ipython3",
   "version": "3.11.5"
  },
  "orig_nbformat": 4
 },
 "nbformat": 4,
 "nbformat_minor": 2
}
