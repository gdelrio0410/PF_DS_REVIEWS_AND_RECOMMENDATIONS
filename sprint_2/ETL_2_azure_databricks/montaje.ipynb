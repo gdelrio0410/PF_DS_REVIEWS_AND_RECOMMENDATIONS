{
 "cells": [
  {
   "cell_type": "markdown",
   "metadata": {
    "application/vnd.databricks.v1+cell": {
     "cellMetadata": {},
     "inputWidgets": {},
     "nuid": "71e929aa-ccc9-4d16-948b-49a8aa78a028",
     "showTitle": false,
     "title": ""
    }
   },
   "source": [
    "### Definir variables para la conexion hacia ADLS\n"
   ]
  },
  {
   "cell_type": "code",
   "execution_count": 0,
   "metadata": {
    "application/vnd.databricks.v1+cell": {
     "cellMetadata": {
      "byteLimit": 2048000,
      "rowLimit": 10000
     },
     "inputWidgets": {},
     "nuid": "6762c010-f242-4518-9caa-f32d23fda618",
     "showTitle": false,
     "title": ""
    }
   },
   "outputs": [],
   "source": [
    "# Configura la información de la cuenta de almacenamiento\n",
    "storageAccount = \"datosproyecto\"\n",
    "container = \"conjuntodedatos\"\n",
    "sasKey = \"?sv=2022-11-02&ss=bfqt&srt=sco&sp=rwdlacupyx&se=2023-12-31T12:23:33Z&st=2023-09-28T04:23:33Z&spr=https&sig=9kQo5ORC4j8iwCjk74iiU85CwVpFacgjAwKP3IM%2BM5k%3D\"\n"
   ]
  },
  {
   "cell_type": "code",
   "execution_count": 0,
   "metadata": {
    "application/vnd.databricks.v1+cell": {
     "cellMetadata": {
      "byteLimit": 2048000,
      "rowLimit": 10000
     },
     "inputWidgets": {},
     "nuid": "7cecb787-4a46-4cbe-a677-2f3432b287fb",
     "showTitle": false,
     "title": ""
    }
   },
   "outputs": [],
   "source": [
    "# configuracion\n",
    "conf = \"fs.azure.sas.\" + container + \".\" + storageAccount + \".blob.core.windows.net\""
   ]
  },
  {
   "cell_type": "markdown",
   "metadata": {
    "application/vnd.databricks.v1+cell": {
     "cellMetadata": {},
     "inputWidgets": {},
     "nuid": "f60f2123-6ee1-4b9c-a463-a1b2ce7f1367",
     "showTitle": false,
     "title": ""
    }
   },
   "source": [
    "### Mount y Unmount ADLS"
   ]
  },
  {
   "cell_type": "code",
   "execution_count": 0,
   "metadata": {
    "application/vnd.databricks.v1+cell": {
     "cellMetadata": {
      "byteLimit": 2048000,
      "rowLimit": 10000
     },
     "inputWidgets": {},
     "nuid": "2542b182-a377-49a1-943e-49ffe73a145a",
     "showTitle": false,
     "title": ""
    }
   },
   "outputs": [
    {
     "output_type": "execute_result",
     "data": {
      "text/plain": [
       "True"
      ]
     },
     "execution_count": 6,
     "metadata": {},
     "output_type": "execute_result"
    }
   ],
   "source": [
    "# Montar ADLS\n",
    "dbutils.fs.mount(source=\"wasbs://\" + container + \"@\" + storageAccount + \".blob.core.windows.net\", mount_point=\"/mnt/\" + container, extra_configs={conf: sasKey})\n"
   ]
  },
  {
   "cell_type": "code",
   "execution_count": 0,
   "metadata": {
    "application/vnd.databricks.v1+cell": {
     "cellMetadata": {
      "byteLimit": 2048000,
      "rowLimit": 10000
     },
     "inputWidgets": {},
     "nuid": "81ce515b-1503-42cc-8288-7127b471e003",
     "showTitle": false,
     "title": ""
    }
   },
   "outputs": [
    {
     "output_type": "stream",
     "name": "stdout",
     "output_type": "stream",
     "text": [
      "/mnt/conjuntodedatos has been unmounted.\n"
     ]
    },
    {
     "output_type": "execute_result",
     "data": {
      "text/plain": [
       "True"
      ]
     },
     "execution_count": 5,
     "metadata": {},
     "output_type": "execute_result"
    }
   ],
   "source": [
    "# desmontar\n",
    "dbutils.fs.unmount(\"/mnt/\"+container)"
   ]
  },
  {
   "cell_type": "markdown",
   "metadata": {
    "application/vnd.databricks.v1+cell": {
     "cellMetadata": {},
     "inputWidgets": {},
     "nuid": "2886d7d9-8bbc-436c-8ec5-f79c71865211",
     "showTitle": false,
     "title": ""
    }
   },
   "source": [
    "### Listar\n"
   ]
  },
  {
   "cell_type": "code",
   "execution_count": 0,
   "metadata": {
    "application/vnd.databricks.v1+cell": {
     "cellMetadata": {
      "byteLimit": 2048000,
      "rowLimit": 10000
     },
     "inputWidgets": {},
     "nuid": "0d5f67ea-623f-468f-afd1-bb6f5d3d2760",
     "showTitle": false,
     "title": ""
    }
   },
   "outputs": [
    {
     "output_type": "display_data",
     "data": {
      "text/html": [
       "<style scoped>\n",
       "  .table-result-container {\n",
       "    max-height: 300px;\n",
       "    overflow: auto;\n",
       "  }\n",
       "  table, th, td {\n",
       "    border: 1px solid black;\n",
       "    border-collapse: collapse;\n",
       "  }\n",
       "  th, td {\n",
       "    padding: 5px;\n",
       "  }\n",
       "  th {\n",
       "    text-align: left;\n",
       "  }\n",
       "</style><div class='table-result-container'><table class='table-result'><thead style='background-color: white'><tr><th>path</th><th>name</th><th>size</th><th>modificationTime</th></tr></thead><tbody><tr><td>dbfs:/mnt/conjuntodedatos/bronze/</td><td>bronze/</td><td>0</td><td>0</td></tr><tr><td>dbfs:/mnt/conjuntodedatos/gold/</td><td>gold/</td><td>0</td><td>0</td></tr><tr><td>dbfs:/mnt/conjuntodedatos/silver/</td><td>silver/</td><td>0</td><td>0</td></tr><tr><td>dbfs:/mnt/conjuntodedatos/temporal/</td><td>temporal/</td><td>0</td><td>0</td></tr></tbody></table></div>"
      ]
     },
     "metadata": {
      "application/vnd.databricks.v1+output": {
       "addedWidgets": {},
       "aggData": [],
       "aggError": "",
       "aggOverflow": false,
       "aggSchema": [],
       "aggSeriesLimitReached": false,
       "aggType": "",
       "arguments": {},
       "columnCustomDisplayInfos": {},
       "data": [
        [
         "dbfs:/mnt/conjuntodedatos/bronze/",
         "bronze/",
         0,
         0
        ],
        [
         "dbfs:/mnt/conjuntodedatos/gold/",
         "gold/",
         0,
         0
        ],
        [
         "dbfs:/mnt/conjuntodedatos/silver/",
         "silver/",
         0,
         0
        ],
        [
         "dbfs:/mnt/conjuntodedatos/temporal/",
         "temporal/",
         0,
         0
        ]
       ],
       "datasetInfos": [],
       "dbfsResultPath": null,
       "isJsonSchema": true,
       "metadata": {},
       "overflow": false,
       "plotOptions": {
        "customPlotOptions": {},
        "displayType": "table",
        "pivotAggregation": null,
        "pivotColumns": null,
        "xColumns": null,
        "yColumns": null
       },
       "removedWidgets": [],
       "schema": [
        {
         "metadata": "{}",
         "name": "path",
         "type": "\"string\""
        },
        {
         "metadata": "{}",
         "name": "name",
         "type": "\"string\""
        },
        {
         "metadata": "{}",
         "name": "size",
         "type": "\"long\""
        },
        {
         "metadata": "{}",
         "name": "modificationTime",
         "type": "\"long\""
        }
       ],
       "type": "table"
      }
     },
     "output_type": "display_data"
    }
   ],
   "source": [
    "# listar carpetas del contenedor\n",
    "display(dbutils.fs.ls(\"/mnt/conjuntodedatos\"))"
   ]
  },
  {
   "cell_type": "code",
   "execution_count": 0,
   "metadata": {
    "application/vnd.databricks.v1+cell": {
     "cellMetadata": {
      "byteLimit": 2048000,
      "rowLimit": 10000
     },
     "inputWidgets": {},
     "nuid": "afa7d440-2e7f-419e-a8a4-fe228999f660",
     "showTitle": false,
     "title": ""
    }
   },
   "outputs": [
    {
     "output_type": "display_data",
     "data": {
      "text/html": [
       "<style scoped>\n",
       "  .table-result-container {\n",
       "    max-height: 300px;\n",
       "    overflow: auto;\n",
       "  }\n",
       "  table, th, td {\n",
       "    border: 1px solid black;\n",
       "    border-collapse: collapse;\n",
       "  }\n",
       "  th, td {\n",
       "    padding: 5px;\n",
       "  }\n",
       "  th {\n",
       "    text-align: left;\n",
       "  }\n",
       "</style><div class='table-result-container'><table class='table-result'><thead style='background-color: white'><tr><th>path</th><th>name</th><th>size</th><th>modificationTime</th></tr></thead><tbody><tr><td>dbfs:/mnt/conjuntodedatos/temporal/Population_limpio.csv</td><td>Population_limpio.csv</td><td>1344</td><td>1695866395000</td></tr><tr><td>dbfs:/mnt/conjuntodedatos/temporal/google.csv</td><td>google.csv</td><td>11545313</td><td>1695866429000</td></tr><tr><td>dbfs:/mnt/conjuntodedatos/temporal/inversion_franquicias.csv</td><td>inversion_franquicias.csv</td><td>42945</td><td>1696205072000</td></tr><tr><td>dbfs:/mnt/conjuntodedatos/temporal/yelp.csv</td><td>yelp.csv</td><td>87353030</td><td>1695866578000</td></tr></tbody></table></div>"
      ]
     },
     "metadata": {
      "application/vnd.databricks.v1+output": {
       "addedWidgets": {},
       "aggData": [],
       "aggError": "",
       "aggOverflow": false,
       "aggSchema": [],
       "aggSeriesLimitReached": false,
       "aggType": "",
       "arguments": {},
       "columnCustomDisplayInfos": {},
       "data": [
        [
         "dbfs:/mnt/conjuntodedatos/temporal/Population_limpio.csv",
         "Population_limpio.csv",
         1344,
         1695866395000
        ],
        [
         "dbfs:/mnt/conjuntodedatos/temporal/google.csv",
         "google.csv",
         11545313,
         1695866429000
        ],
        [
         "dbfs:/mnt/conjuntodedatos/temporal/inversion_franquicias.csv",
         "inversion_franquicias.csv",
         42945,
         1696205072000
        ],
        [
         "dbfs:/mnt/conjuntodedatos/temporal/yelp.csv",
         "yelp.csv",
         87353030,
         1695866578000
        ]
       ],
       "datasetInfos": [],
       "dbfsResultPath": null,
       "isJsonSchema": true,
       "metadata": {},
       "overflow": false,
       "plotOptions": {
        "customPlotOptions": {},
        "displayType": "table",
        "pivotAggregation": null,
        "pivotColumns": null,
        "xColumns": null,
        "yColumns": null
       },
       "removedWidgets": [],
       "schema": [
        {
         "metadata": "{}",
         "name": "path",
         "type": "\"string\""
        },
        {
         "metadata": "{}",
         "name": "name",
         "type": "\"string\""
        },
        {
         "metadata": "{}",
         "name": "size",
         "type": "\"long\""
        },
        {
         "metadata": "{}",
         "name": "modificationTime",
         "type": "\"long\""
        }
       ],
       "type": "table"
      }
     },
     "output_type": "display_data"
    }
   ],
   "source": [
    "# listar carpeta temporal (datos en crudo)\n",
    "display(dbutils.fs.ls(\"/mnt/conjuntodedatos/temporal\"))"
   ]
  }
 ],
 "metadata": {
  "application/vnd.databricks.v1+notebook": {
   "dashboards": [],
   "language": "python",
   "notebookMetadata": {
    "pythonIndentUnit": 4
   },
   "notebookName": "montaje",
   "widgets": {}
  }
 },
 "nbformat": 4,
 "nbformat_minor": 0
}
