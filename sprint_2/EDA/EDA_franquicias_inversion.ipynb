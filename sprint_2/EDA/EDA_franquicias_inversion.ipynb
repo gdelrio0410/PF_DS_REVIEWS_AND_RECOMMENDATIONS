{
 "cells": [
  {
   "cell_type": "code",
   "execution_count": 1,
   "metadata": {},
   "outputs": [],
   "source": [
    "import pandas as pd\n",
    "import numpy as np\n",
    "import matplotlib.pyplot as plt\n",
    "import seaborn as sns\n",
    "import plotly.express as px\n",
    "import plotly.graph_objects as go\n",
    "import re\n",
    "import folium\n",
    "import geopandas as gpd\n",
    "from folium.plugins import HeatMap\n",
    "from folium.plugins import MarkerCluster "
   ]
  },
  {
   "cell_type": "code",
   "execution_count": 2,
   "metadata": {},
   "outputs": [],
   "source": [
    "# Importar archivo para trabajar\n",
    "df_fran = pd.read_csv('/Users/benjaminzelaya/Desktop/PGF/PG/PF_DS_REVIEWS_AND_RECOMMENDATIONS/sprint_2/datasets_limpios/Franquicias_Inversion.csv')"
   ]
  },
  {
   "cell_type": "code",
   "execution_count": 3,
   "metadata": {},
   "outputs": [
    {
     "data": {
      "text/html": [
       "<div>\n",
       "<style scoped>\n",
       "    .dataframe tbody tr th:only-of-type {\n",
       "        vertical-align: middle;\n",
       "    }\n",
       "\n",
       "    .dataframe tbody tr th {\n",
       "        vertical-align: top;\n",
       "    }\n",
       "\n",
       "    .dataframe thead th {\n",
       "        text-align: right;\n",
       "    }\n",
       "</style>\n",
       "<table border=\"1\" class=\"dataframe\">\n",
       "  <thead>\n",
       "    <tr style=\"text-align: right;\">\n",
       "      <th></th>\n",
       "      <th>Id_Franquicia</th>\n",
       "      <th>Nombre_Franquicia</th>\n",
       "      <th>Min_Inversion</th>\n",
       "      <th>Max_Inversion</th>\n",
       "      <th>Año_Fundado</th>\n",
       "      <th>Unidades</th>\n",
       "    </tr>\n",
       "  </thead>\n",
       "  <tbody>\n",
       "    <tr>\n",
       "      <th>0</th>\n",
       "      <td>1</td>\n",
       "      <td>Subway</td>\n",
       "      <td>190000.0</td>\n",
       "      <td>522000.0</td>\n",
       "      <td>1967</td>\n",
       "      <td>20576</td>\n",
       "    </tr>\n",
       "    <tr>\n",
       "      <th>1</th>\n",
       "      <td>2</td>\n",
       "      <td>McDonald's</td>\n",
       "      <td>521000.0</td>\n",
       "      <td>2500000.0</td>\n",
       "      <td>1955</td>\n",
       "      <td>13455</td>\n",
       "    </tr>\n",
       "    <tr>\n",
       "      <th>2</th>\n",
       "      <td>3</td>\n",
       "      <td>Dunkin'</td>\n",
       "      <td>121000.0</td>\n",
       "      <td>1810000.0</td>\n",
       "      <td>1954</td>\n",
       "      <td>8118</td>\n",
       "    </tr>\n",
       "    <tr>\n",
       "      <th>3</th>\n",
       "      <td>4</td>\n",
       "      <td>Taco Bell Traditional</td>\n",
       "      <td>576000.0</td>\n",
       "      <td>3370000.0</td>\n",
       "      <td>1962</td>\n",
       "      <td>7513</td>\n",
       "    </tr>\n",
       "    <tr>\n",
       "      <th>4</th>\n",
       "      <td>5</td>\n",
       "      <td>Burger King</td>\n",
       "      <td>232000.0</td>\n",
       "      <td>4520000.0</td>\n",
       "      <td>1954</td>\n",
       "      <td>7043</td>\n",
       "    </tr>\n",
       "    <tr>\n",
       "      <th>...</th>\n",
       "      <td>...</td>\n",
       "      <td>...</td>\n",
       "      <td>...</td>\n",
       "      <td>...</td>\n",
       "      <td>...</td>\n",
       "      <td>...</td>\n",
       "    </tr>\n",
       "    <tr>\n",
       "      <th>934</th>\n",
       "      <td>935</td>\n",
       "      <td>Dazbog Coffee</td>\n",
       "      <td>187000.0</td>\n",
       "      <td>397000.0</td>\n",
       "      <td>1996</td>\n",
       "      <td>0</td>\n",
       "    </tr>\n",
       "    <tr>\n",
       "      <th>935</th>\n",
       "      <td>936</td>\n",
       "      <td>Vino 100</td>\n",
       "      <td>65000.0</td>\n",
       "      <td>431000.0</td>\n",
       "      <td>2003</td>\n",
       "      <td>0</td>\n",
       "    </tr>\n",
       "    <tr>\n",
       "      <th>936</th>\n",
       "      <td>937</td>\n",
       "      <td>Deli Zone</td>\n",
       "      <td>270000.0</td>\n",
       "      <td>437000.0</td>\n",
       "      <td>2010</td>\n",
       "      <td>0</td>\n",
       "    </tr>\n",
       "    <tr>\n",
       "      <th>937</th>\n",
       "      <td>938</td>\n",
       "      <td>O'Charley's</td>\n",
       "      <td>2100000.0</td>\n",
       "      <td>3140000.0</td>\n",
       "      <td>1971</td>\n",
       "      <td>0</td>\n",
       "    </tr>\n",
       "    <tr>\n",
       "      <th>938</th>\n",
       "      <td>939</td>\n",
       "      <td>Earthfruits Yogurt</td>\n",
       "      <td>258000.0</td>\n",
       "      <td>570000.0</td>\n",
       "      <td>2009</td>\n",
       "      <td>0</td>\n",
       "    </tr>\n",
       "  </tbody>\n",
       "</table>\n",
       "<p>939 rows × 6 columns</p>\n",
       "</div>"
      ],
      "text/plain": [
       "     Id_Franquicia      Nombre_Franquicia  Min_Inversion  Max_Inversion  \\\n",
       "0                1                 Subway       190000.0       522000.0   \n",
       "1                2             McDonald's       521000.0      2500000.0   \n",
       "2                3                Dunkin'       121000.0      1810000.0   \n",
       "3                4  Taco Bell Traditional       576000.0      3370000.0   \n",
       "4                5            Burger King       232000.0      4520000.0   \n",
       "..             ...                    ...            ...            ...   \n",
       "934            935          Dazbog Coffee       187000.0       397000.0   \n",
       "935            936               Vino 100        65000.0       431000.0   \n",
       "936            937              Deli Zone       270000.0       437000.0   \n",
       "937            938            O'Charley's      2100000.0      3140000.0   \n",
       "938            939     Earthfruits Yogurt       258000.0       570000.0   \n",
       "\n",
       "     Año_Fundado  Unidades  \n",
       "0           1967     20576  \n",
       "1           1955     13455  \n",
       "2           1954      8118  \n",
       "3           1962      7513  \n",
       "4           1954      7043  \n",
       "..           ...       ...  \n",
       "934         1996         0  \n",
       "935         2003         0  \n",
       "936         2010         0  \n",
       "937         1971         0  \n",
       "938         2009         0  \n",
       "\n",
       "[939 rows x 6 columns]"
      ]
     },
     "execution_count": 3,
     "metadata": {},
     "output_type": "execute_result"
    }
   ],
   "source": [
    "df_fran"
   ]
  },
  {
   "cell_type": "code",
   "execution_count": 4,
   "metadata": {},
   "outputs": [
    {
     "data": {
      "text/plain": [
       "(939, 6)"
      ]
     },
     "execution_count": 4,
     "metadata": {},
     "output_type": "execute_result"
    }
   ],
   "source": [
    "df_fran.shape"
   ]
  },
  {
   "cell_type": "code",
   "execution_count": 5,
   "metadata": {},
   "outputs": [
    {
     "data": {
      "text/plain": [
       "0"
      ]
     },
     "execution_count": 5,
     "metadata": {},
     "output_type": "execute_result"
    }
   ],
   "source": [
    "df_fran.duplicated().sum()"
   ]
  },
  {
   "cell_type": "code",
   "execution_count": 5,
   "metadata": {},
   "outputs": [
    {
     "name": "stdout",
     "output_type": "stream",
     "text": [
      "<class 'pandas.core.frame.DataFrame'>\n",
      "RangeIndex: 939 entries, 0 to 938\n",
      "Data columns (total 6 columns):\n",
      " #   Column             Non-Null Count  Dtype  \n",
      "---  ------             --------------  -----  \n",
      " 0   Id_Franquicia      939 non-null    int64  \n",
      " 1   Nombre_Franquicia  939 non-null    object \n",
      " 2   Min_Inversion      939 non-null    float64\n",
      " 3   Max_Inversion      939 non-null    float64\n",
      " 4   Año_Fundado        939 non-null    int64  \n",
      " 5   Unidades           939 non-null    int64  \n",
      "dtypes: float64(2), int64(3), object(1)\n",
      "memory usage: 44.1+ KB\n"
     ]
    }
   ],
   "source": [
    "df_fran.info()"
   ]
  },
  {
   "cell_type": "code",
   "execution_count": 6,
   "metadata": {},
   "outputs": [
    {
     "data": {
      "text/plain": [
       "count    9.390000e+02\n",
       "mean     4.640620e+06\n",
       "std      4.858272e+07\n",
       "min      4.100000e+04\n",
       "25%      4.570000e+05\n",
       "50%      6.970000e+05\n",
       "75%      1.320000e+06\n",
       "max      9.776000e+08\n",
       "Name: Max_Inversion, dtype: float64"
      ]
     },
     "execution_count": 6,
     "metadata": {},
     "output_type": "execute_result"
    }
   ],
   "source": [
    "#proporciona una descripción rápida y útil de las estadísticas de la columna Max_Inversion\t\n",
    "df_fran['Max_Inversion'].describe()"
   ]
  },
  {
   "cell_type": "code",
   "execution_count": 7,
   "metadata": {},
   "outputs": [
    {
     "data": {
      "text/plain": [
       "count      939.000000\n",
       "mean       235.374867\n",
       "std       1069.648008\n",
       "min          0.000000\n",
       "25%          7.000000\n",
       "50%         23.000000\n",
       "75%         86.000000\n",
       "max      20576.000000\n",
       "Name: Unidades, dtype: float64"
      ]
     },
     "execution_count": 7,
     "metadata": {},
     "output_type": "execute_result"
    }
   ],
   "source": [
    "#proporciona una descripción rápida y útil de las estadísticas de la columna Unidades\t\n",
    "df_fran['Unidades'].describe()"
   ]
  },
  {
   "cell_type": "code",
   "execution_count": 8,
   "metadata": {},
   "outputs": [
    {
     "data": {
      "text/plain": [
       "array(['Subway', \"McDonald's\", \"Dunkin'\", 'Taco Bell Traditional',\n",
       "       'Burger King', 'Dominos', 'Bimbo Bakeries', 'Wendys',\n",
       "       'Pizza Hut Traditional', 'Advanced Fresh Concepts',\n",
       "       'Little Caesar', 'KFC Traditional', 'Sonic Drive-In', \"Arby's\",\n",
       "       \"Papa John's\", 'Popeyes Louisiana Kitchen',\n",
       "       \"Noble Roman's Craft Pizza & Pub\", \"Jimmy John's\",\n",
       "       'Chick Fil A (Franchise Program)', \"Jersey Mike's\",\n",
       "       'Panda Express', 'Jack In The Box',\n",
       "       'Hissho Sushi/Oumi Sushi/Sushi with Gusto', 'Panera Bread',\n",
       "       'DQ Grill & Chill', \"Hardee's\", 'Wingstop', 'IHOP', \"Applebee's\",\n",
       "       'Kona Ice', 'Five Guys', \"Denny's\", 'Snowfox',\n",
       "       'Pizza Hut Non-Traditional', \"Chili's\", 'Tropical Smoothie Cafe',\n",
       "       'Buffalo Wild Wings', 'FIREHOUSE SUBS', \"Papa Murphy's\",\n",
       "       \"Auntie Anne's\", \"Carl's Jr.\", 'Smoothie King', \"Chester's\",\n",
       "       \"Marco's Pizza\", 'Baskin-Robbins', 'Cinnabon', \"Church's Chicken\",\n",
       "       \"Zaxby's\", 'Cold Stone Creamery', 'Orion Food Systems', \"Culver's\",\n",
       "       'Edible Arrangements', 'DQ Treat',\n",
       "       \"Bojangle's Famous Chicken'n Biscuits\", 'Jamba Juice', 'Qdoba',\n",
       "       'Crumbl', 'Charleys Philly Steaks', 'Long John Silvers',\n",
       "       \"Moe's Southwest Grill\", 'Tim Hortons', 'Texas Roadhouse',\n",
       "       \"Godfather's Pizza\", 'Del Taco', 'Mister Softee', 'Fujisan',\n",
       "       'Rita’s Ice-Custard-Happiness', \"Scooter's Coffee\", 'Red Robin',\n",
       "       'Checkers', 'Aunt Millies Bakeries', \"Captain D's\",\n",
       "       \"Hungry Howie's Pizza & Subs\", 'Mod Pizza', \"McAlister's Deli\",\n",
       "       \"Dickey's Barbecue Pit\", 'Caribou Coffee', 'First Watch',\n",
       "       'Nothing Bundt Cakes', 'Noodles And Company', \"Freddy's\",\n",
       "       'The Honey Baked Ham Co', 'Potbelly Sandwich Shop', 'Earthgrains',\n",
       "       'Ace Sushi Non-Traditional', 'Round Table Pizza', \"Jet's Pizza\",\n",
       "       'Champs Chicken', 'Ace Sushi', 'Chick Fil A (License Program)',\n",
       "       'Einstein Bros. Restaurant', \"Taco John's\", 'Krispy Kreme',\n",
       "       'Great American Cookies', 'Golden Corral', \"Wetzel's Pretzels\",\n",
       "       'Sushi Avenue', \"Sbarro's Pizza\", 'Kung Fu Tea',\n",
       "       'Filta Environmental Kitchen Solutions', 'The Habit Burger Grill',\n",
       "       'Shipley Donuts', 'Biggby Coffee', 'Carvel',\n",
       "       'Schlotzsky Austin Eatery', 'Wienerschnitzel',\n",
       "       'Penn Station East Coast Subs', \"Menchie's\", 'Steak n Shake',\n",
       "       'Blaze Pizza', 'Hooters', \"Rally's\",\n",
       "       'Flowers Foods (Flowers Baking Co)', 'TGI Fridays', 'Krystal',\n",
       "       'Huddle House', 'Global Orange', 'Cicis', \"Mountain Mike's\",\n",
       "       'Perkins Restaurant & Bakery', 'Canteen', 'Marble Slab Creamery',\n",
       "       \"Jason's Deli\", 'Taco Bell Express', 'Delivery.Com',\n",
       "       \"Dippin' Dots\", 'Genji', 'Chicken Salad Chick', 'Sweetfrog',\n",
       "       'Which Wich', 'Smashburger', 'A&W All American Food',\n",
       "       'Pizza Ranch', \"Fazoli's\", 'Yogurtland', 'Häagen-Dazs',\n",
       "       'L&L Hawaii', \"Fox's Pizza Den\", 'WaBa Grill',\n",
       "       \"Pelican's Snoballs\", \"Bruster's\", \"Bruegger's Bagels\",\n",
       "       'Corner Bakery Cafe', 'American Deli', 'Nekter Juice Bar',\n",
       "       'Donatos Pizza', 'Mellow Mushroom', \"Togo's\", 'TCBY', 'Quiznos',\n",
       "       'Philly Pretzel Factory', 'Playa Bowls',\n",
       "       'Great Harvest Bakery Cafe', 'California Pizza Kitchen',\n",
       "       'Wayback Burgers', 'The Flame Broiler', \"Ben & Jerry's\",\n",
       "       'Rocky Mountain Chocolate Factory', 'Black Bear Diner',\n",
       "       'Planet Smoothie', 'Kilwins Chocolates', 'Pretzelmaker',\n",
       "       \"PJ's Coffee of New Orleans\", 'Coffee Bean & Tea Leaf',\n",
       "       'The Human Bean', \"Capriotti's Sandwich Shop\", \"Slim Chicken's\",\n",
       "       'Blimpie', \"Beef 'O' Brady's\", 'Fuddruckers', 'Skyline Chili',\n",
       "       \"Fuzzy's Taco Shop\", \"Logan's Roadhouse\", 'Clean Juice', 'Hoodz',\n",
       "       'On The Border Mexican Grill', 'Port Of Subs', \"Famous Dave's\",\n",
       "       'Sizzler', 'The Original Pancake House', \"Lee's Famous Recipe\",\n",
       "       'Bb.q Chicken', 'Tijuana Flats', \"Ruth's Chris Steak House\",\n",
       "       \"Rosati's Pizza\", 'Mrs. Fields', 'Sharetea', 'Bonchon',\n",
       "       'Teriyaki Madness', 'Village Inn', 'Pieology Restaurants',\n",
       "       'Paris Baguette', 'Pita Pit', 'Mochinut Restaurant',\n",
       "       'Gateway Newstands', 'Golden Krust', 'BurgerFi', 'Ding Tea',\n",
       "       'Duck Donuts', 'Johnny Rockets', 'Burgerim', \"Bahama Buck's\",\n",
       "       'TacoTime', 'Ponderosa Steakhouse', 'Yoshinoya', 'Fatburger',\n",
       "       'Maui Wowi', \"Frisch's\", 'Pizza Factory', \"Newk's Eatery\",\n",
       "       'Bento Sushi', 'Farmer Boys', \"Jeremiah's Italian Ice\",\n",
       "       \"BUBBAKOO's BURRITOS\", 'Costa Vida Fresh Mexican Grill',\n",
       "       'Happy Lemon', \"Dave's Hot Chicken\", 'Wahlburgers',\n",
       "       'Beef Jerky Experience', 'Aroma Joe’s',\n",
       "       'Ike’s Love and Sandwiches', 'Melting Pot', 'Saladworks',\n",
       "       'Primohoagies', 'Cousins Subs', 'The Halal Guys', 'ROBEKS',\n",
       "       'Twin Peaks', 'Nestle Toll House Café', 'Big Boy Restaurant',\n",
       "       'Clean Eatz', 'Lennys Grill & Subs', 'La Madeleine',\n",
       "       \"Nathan's BMP\", \"Nathan's\", \"Taziki's Mediterranean Cafe\",\n",
       "       'Rocket Fizz', 'Tous Les Jours', 'Baja Fresh', 'Villa Pizza',\n",
       "       \"Ben's Soft Pretzels\", 'Another Broken Egg Cafe', 'Pollo Campero',\n",
       "       'Hot Head Burrito', 'Wings Etc', 'JUICE IT UP', 'Mooyah',\n",
       "       'Salata Salad Kitchen', \"Salsarita's Fresh Cantina\",\n",
       "       'Totally Nutz', 'U-Swirl-N-Go Store', 'Vitality Bowls',\n",
       "       'Pizza Guys', 'Pancheros', 'Toppers Pizza',\n",
       "       \"Uno's Pizzeria & Grill\", 'Doc Popcorn', \"Gigi's Cupcakes Shops\",\n",
       "       \"Walk-On's Bistreaux & Bar\", 'Southern Maid Donuts',\n",
       "       'Orange Leaf Frozen Yogurt', 'Dream Dinners', 'Pizza Twist',\n",
       "       'Surf City Squeeze', 'Your Pie', 'Erbert & Gerbert', 'HTeaO',\n",
       "       'Cinnaholic', 'Bar Louie', 'Goodcents', \"Giordano's\",\n",
       "       \"Ziggi's Coffee\", 'Gold Star Chili', 'Crafty Crab',\n",
       "       'Fosters Freeze International', 'Manhattan Bagel', 'Pokéworks',\n",
       "       'Pinkberry', 'Freshii Restaurant', 'U-Swirl', 'Zoup! Restaurants',\n",
       "       'Le Macaron', 'HuHot Mongolian Grill',\n",
       "       \"Handel's Homemade Ice Cream\", 'Buffalo Wings & Rings',\n",
       "       'Gyu-Kaku Japanese BBQ Restaurant', \"RNR Rock 'N Roll Sushi\",\n",
       "       \"Monical's Restaurant\", 'Anthony’s Coal Fired Pizza', 'NrGize',\n",
       "       'Creamistry', 'Cosi', 'Eggs Up Grill', 'Pie Five Restaurants',\n",
       "       'Hokulia Shave Ice', 'Poke Bar Dice & Mix', 'Bambu', \"Bellacino's\",\n",
       "       'B.GOOD', 'Kolache Factory', 'Red Mango', 'Dunn Brothers Coffee',\n",
       "       \"CoCo's Bakery\", 'Maggianos Little Italy', 'Mai Sushi', 'Everbowl',\n",
       "       'D.P. Dough', \"Travelin' Tom's Coffee\", \"It's Boba Time\",\n",
       "       'Western Sizzlin', 'Corelife Eatery', 'Fiiz Drinks', 'Cheba Hut',\n",
       "       'World Of Beer', \"Nature's Table\", 'Big Apple Bagels',\n",
       "       'Hot Dog On A Stick', 'Dog Haus', \"Mr Gatti's Pizza\",\n",
       "       \"Me-N-Ed's Pizzeria\", 'Genghis Grill', \"Lee's Sandwiches\",\n",
       "       'Nick the Greek', 'Moge Tee', 'I Love Juice Bar',\n",
       "       \"Keke's Breakfast Cafe\", \"Repicci's Italian Ice Gelato\",\n",
       "       \"Gloria Jean's Coffee\", 'Chronic Tacos', 'Frios Gourmet Pops',\n",
       "       'Swig', 'Barberitos', 'Waffle Cabin', 'Farm Stores',\n",
       "       'Sirloin Stockade', 'California Tortilla', 'Two Hands Corn Dogs',\n",
       "       \"Sarpino's Pizzeria\", 'Jinya Ramen Bar', 'Great Wraps', 'Cupbop',\n",
       "       'Beach Hut Deli', \"Beard Papa's\", 'Deli Delicious',\n",
       "       \"Andy's Frozen Custard\", 'Cousins Maine Lobster (Food Truck)',\n",
       "       'Snappy Tomato Pizza', 'Quaker Steak & Lube', 'The Brass Tap',\n",
       "       \"Romeo's Pizza\", 'Little Greek Fresh Grill', \"GRIMALDI's PIZZERIA\",\n",
       "       'Foxtail Coffee', \"Huey Magoo's Chicken Tenders\", 'Paisano’s',\n",
       "       'Hurricane Grill & Wings', 'Buffalo Wild Wings Go',\n",
       "       'Beyond Juicery and Eatery', 'Roy Rogers', 'PizzaRev', 'Oberweis',\n",
       "       'Pada Sushi', '7 BREW', 'Cheeburger Cheeburger', \"Happy Joe's\",\n",
       "       'Nikko', 'Asian Chao', 'Rush Bowls', 'Pizza Forum', 'Roly Poly',\n",
       "       'Naf-Naf Middle Eastern Grill', '1000 Degrees Pizzeria',\n",
       "       'The Buffalo Spot', 'Extreme Pizza', 'Meet Fresh',\n",
       "       \"Carbone's Pizzeria\", '7 Leaves Cafe', \"Aurelio's Pizza\",\n",
       "       'Bareburger', \"Russo's New York Pizzeria\", 'Wings Over',\n",
       "       'Broken Yolk Cafe', 'Zero Degrees', \"Fuzziwig's Candy Factory\",\n",
       "       'Native Grill and Wings', 'Coffee Beanery', 'Rusty Taco',\n",
       "       \"Gus's World Famous Fried Chicken\", 'Sub Zero', 'Tiger Sugar',\n",
       "       'Frutta Bowls', \"Winchell's Donut House\", 'Veggie Grill',\n",
       "       'The Simple Greek', 'Westside Pizza', \"Kelly's Cajun Grill\",\n",
       "       'Hawaiian Bros', 'Apple Spice', 'Savory Spice',\n",
       "       'East Coast Wings + Grill', 'Coco Fresh Tea & Juice',\n",
       "       'Rapid Fired Pizza', 'Wow Cafe', 'Honest', 'Teaspoon',\n",
       "       'The Great Greek', 'Pizza Studio', 'Earl Of Sandwich',\n",
       "       \"Sharky's Woodfired Mexican Grill\", 'Fruitfull',\n",
       "       'Just Love Coffee Cafe', 'KFC Non-Traditional', 'Just Salad',\n",
       "       'vomFASS', 'Oath Pizza', 'Woops!', 'Mango Mango Dessert',\n",
       "       'Nautical Bowls', 'Wing Zone', 'Crisp & Green', '16 Handles',\n",
       "       'Fat Shack', \"Pickleman's Gourmet Cafe\", 'Straw Hat Pizza',\n",
       "       'Peace Love and Little Donuts', \"Figaro's Pizza\",\n",
       "       'Lean Kitchen Company', 'Country Kitchen International',\n",
       "       'Marie Callender', \"Erik's Delicafe\",\n",
       "       'Garbanzo Mediterranean Fresh', 'Rocky Rococo Pizza and Pasta',\n",
       "       'STEAK ESCAPE SANDWICH GRILL', 'Scramblers', 'Yogis Grill',\n",
       "       'Mr. Delivery', \"Gandolfo's Deli\", 'Buona', 'Chop Stop',\n",
       "       'Bad Ass Coffee Of Hawaii', 'Gong Cha', 'Boston Pizza Restaurants',\n",
       "       'Peterbrooke Chocolatier', 'POKEMOTO', 'Beggars Pizza', 'Cream',\n",
       "       'Tastea', \"Abbott's Frozen Custard\", 'Modern Market Eatery',\n",
       "       'The Lost Cajun', 'Fat Tuesday',\n",
       "       'Tio Juan’s Margaritas Mexican Restaurant', 'Board & Brew',\n",
       "       'Island Fin Poke', 'Feng Cha', 'Tapioca Express', 'Popbar',\n",
       "       'Paciugo Gelato Caffè', 'Happy and Healthy Products', 'Suki Hana',\n",
       "       'Inchins Bamboo Garden', 'The Dapper Doughnut', 'Kale Me Crazy',\n",
       "       'Brixx Wood Fired Pizza', 'Corporate Caterers', 'LA Crawfish',\n",
       "       'Slapfish', 'Hot Box Pizza', 'Sprinkles Cupcakes',\n",
       "       'Summer Moon Coffee', \"Flippin' Pizza New York Style\",\n",
       "       'Yogurt Mountain', 'Pure Green', 'Burger 21',\n",
       "       'Bananas Smoothies & Frozen Yogurt', 'Breadsmith', 'Pizza 9',\n",
       "       \"Green Leaf's Beyond Great Salads\", 'Cookie Advantage',\n",
       "       'The Boiling Crab', 'Ground Round', \"Biscuit's Cafe\",\n",
       "       'BGR Burgers', \"Brown's Chicken\", 'Bonanza Steakhouse', \"Elmer's\",\n",
       "       'Cabin Coffee', 'Rodizio Grill', 'Savvy Sliders', 'Pho Hoa',\n",
       "       \"Hangry Joe's\", 'Hurts Donut Company', 'Mongolian Grill',\n",
       "       'TKK Fried Chicken', 'Parlor Doughnuts', \"Benny's Pizza\",\n",
       "       \"Philly's Best Cheesesteaks\", 'I Heart Mac & Cheese',\n",
       "       'Little Big Burger', 'Shuckin Shack', 'Pita Jungle',\n",
       "       'Submarina California Subs', \"Ritter's Frozen Custard\",\n",
       "       'Wing Snob', 'Ubatuba Açai Bowls', \"Milio's Sandwiches\",\n",
       "       'Sweet Factory', 'Angry Crab Shack', 'Killer Burger',\n",
       "       'The Counter', 'Silverlake Ramen', 'Crave Hot Dogs and BBQ',\n",
       "       'UFood Grill', \"Huckleberry's\", 'T-Swirl Crepe', 'Urban Bricks',\n",
       "       'Chocolate Works', 'The Yard Milkshake Bar', 'Curry Up Now',\n",
       "       'Manchu Wok', 'The Port of Peri Peri', 'Green Mill',\n",
       "       \"Patxi's Pizza\", 'Twisted Sugar', 'Smoothie Factory',\n",
       "       'Cowboy Chicken', \"Tony Roma's\", 'illy', 'Black Rock Bar & Grill',\n",
       "       'Pizza Schmizza', \"Pop's Italian Beef & Sausage\",\n",
       "       'My Favorite Muffin', 'GELATO-GO', \"Yeung's Lotus Express\",\n",
       "       'Sombrero Mexican Food', 'DonutNV', \"Red's Savoy Pizza\",\n",
       "       \"Buck's Pizza\", 'Kpot Hot Pot and Barbecue', 'Buckhorn Grill',\n",
       "       \"Paik's Noodle\", 'Kwench Juice Cafe', 'Qwench Juice Bar',\n",
       "       'Una Mas', 'Black Rifle Coffee', 'Hiccups', 'Meatheads',\n",
       "       'Crooked Pint Ale House', 'Spitz Mediterranean', 'Maki of Japan',\n",
       "       'Gravity', 'Rise', 'KaleidoScoops', 'Drnk Coffee + Tea', 'Amorino',\n",
       "       'Elevation Burger', 'Fresh and Co', \"Sweet Charlie's\",\n",
       "       'Atomic Wings', 'Growler USA Microbrew Pub', 'Rock & Brews',\n",
       "       \"Oggi's\", \"It's A Grind\", 'Kono Pizza', \"Scotty's Brewhouse\",\n",
       "       'ALOHA POKE CO.', 'Foodjets', \"Patsy's Pizzeria\", \"Sticky's\",\n",
       "       'Hotshots', 'Manhattan Pizza', 'Hoots Wings Restaurant',\n",
       "       'SOUTH PHILLY STEAKS & FRIES', 'Sushi Sake', 'Leanfeast',\n",
       "       'Panini Kabob Grill', 'Waters Edge Wineries', 'Frost Gelato',\n",
       "       'Hummus Republic', \"Montana Mike's\", 'Lemonshark Poke',\n",
       "       'Randys Donuts', 'Graze Craze', 'Piara Pizza',\n",
       "       \"Johnny's Italian Steakhouse\", \"Big Mama's and Papa's Pizzeria\",\n",
       "       'Mr Brews Taphouse', 'Berry Blendz', 'Anchor Bar', 'Wing it On!',\n",
       "       'Strings Italian Cafe', 'Mr Fries Man', 'Sertinos', 'MIO SUSHI',\n",
       "       'Toastique', 'Dirty Dough Cookies', 'Buffalo’s Cafe',\n",
       "       'Hot N Juicy Crawfish', 'Chanticlear Pizza', 'Hamburger Stand',\n",
       "       'Voodoo Brewery', 'Hood Guyz', \"Samurai Sam's Teriyaki Grill\",\n",
       "       'Chatime', 'Milkster', 'Combo Kitchen', 'Yi Fang Taiwan Fruit Tea',\n",
       "       'Tommy Pastrami New York Delicatessen', 'Broadway', 'Pizza Man',\n",
       "       'Protein Bar and Kitchen', 'Boss’ Pizza & Chicken', 'BK Lobster',\n",
       "       'Jon Smith Subs', 'Dos Coyotes', \"Mason's Famous Lobster Rolls\",\n",
       "       'Eat Fit Go', 'Sweet Paris', 'Detroit Wing Company', 'Capt Loui',\n",
       "       'The Toasted Yolk Cafe', 'PINCHO', 'Big Town Hero', 'Lollicup',\n",
       "       'Bowl of Heaven', 'Sansai Fresh Japanese Grill', 'Acai Republic',\n",
       "       'Chip Cookies', 'Xpresso Delight', 'Juicy Burgers',\n",
       "       'Federal Donuts', 'Squeeze In', 'Mighty Quinn’s Barbeque',\n",
       "       'Northern Lights Pizza Company', 'Blue Martini',\n",
       "       \"Slater's 50-50 Franchise\", 'NYC Bagel & Sandwich Shop',\n",
       "       'Tin Drum Asian Kitchen', 'Boardwalk Fries', 'Rooster & Rice',\n",
       "       'Cookie Dough Bliss', 'JL Beers', \"Sloan's\",\n",
       "       'Bombshells Restaurant & Bar', \"BITTY & BEAU'S COFFEE\",\n",
       "       'Melt Shop', \"Gelsosomo's Pizza\", 'Beerhead Bar & Eatery',\n",
       "       'Firenza', 'Paradis', \"Rise'n Roll Bakery & Deli\", 'Books & Brews',\n",
       "       \"B-Bop's\", \"Mamoun's Falafel\", 'Go Go Curry',\n",
       "       \"Captain Tony's Pizza\", '55 Curry Franchising', 'Tobu',\n",
       "       'Milkshake Factory', 'Proteinhouse', 'Bottoms Up Espresso',\n",
       "       'Sauce On The Side', 'Thai Express', 'Fat Boy’s Pizza',\n",
       "       'Chocolate Bash', 'Lumberjacks', \"Chick'nCone\", 'Crab N Spice',\n",
       "       'Capital Tacos', 'Prontoroni', 'Beef-a-Roo', 'Sweets4Treats',\n",
       "       'BrewDog', 'Rice King', 'Presotea', 'Gfg Bakery Cafe',\n",
       "       \"Ululani's Hawaiian Shave Ice\", 'The Pie Hole',\n",
       "       'Bubbles Tea and Juice', 'Press Waffle Co.', 'Tom & Chee',\n",
       "       'Tap House Grill Addictive Food/Creative Brews', 'Gyroville',\n",
       "       'CaliBurger', 'Yalla Mediterranean', \"Yang's Braised Chicken Rice\",\n",
       "       'Antioch Pizza Shop', 'Churned Creamery', 'Krak Boba',\n",
       "       'Super Chix', 'HOLDAAK', 'Sweetwaters', \"Monk's Bar And Grill\",\n",
       "       'Tsuta', 'American Kolache', 'Wow Wow Hawaiian Lemonades',\n",
       "       'Baekjeong', 'R and B Tea', 'Tabu Shabu',\n",
       "       'Mici Handcrafted Italian', 'Crepe Delicious', 'Baya Bar',\n",
       "       'Eggspectation', 'La Rosa', 'Barrio Queen', 'Salad Farm',\n",
       "       'Get Fried', 'Barrel House', 'Blast and Brew', 'Red Brick Pizza',\n",
       "       'Sweet Chick', \"Baby's Badass\", \"Paulie Gee's\", 'CoCo ICHIBANYA',\n",
       "       'Pizza@', 'Spoleto Italian Kitchen', 'BoomBozz', 'Chao Cajun',\n",
       "       'Aroma Espresso Bar', 'Chicken Guy!', 'Sugarfire Smoke House',\n",
       "       'Poke Rainbow', \"Cool Hand Luke'S Steakhouse/Saloon\",\n",
       "       'Tifa Chocolate & Gelato', 'Wild Eggs', 'Pepper Lunch',\n",
       "       'Koibito Poke', 'Epic Wings', 'Chicken In A Barrel',\n",
       "       'Ponko Chicken', \"Benvenuto's Italian Grill\", 'Burger Village',\n",
       "       'Taco Pros', 'The Cheese Course', 'Afuri', \"Duff's Famous Wings\",\n",
       "       'Biscuit Belly', 'Fuji Grill', 'Roll On In', \"Denino's Pizzeria\",\n",
       "       'Doughnuttery', 'Chillers Microcreamery', 'ClusterTruck Kitchen',\n",
       "       'House of Bread', \"Crazy Otto's Diner\", 'Sushi Freak', 'Dae Gee',\n",
       "       'Daiichi Ramen', 'Sidewalk Juice', 'Big Chicken', 'Meals of Hope',\n",
       "       'Junbi', 'Amsterdam Falafelshop', 'Jaggers', 'Classic Rock Coffee',\n",
       "       \"SMOKE's POUTINERIE\", 'Balance Pan-Asian Grille', \"Papa Ray's\",\n",
       "       'DMK Burger Bar', 'Mahana Fresh', 'Churroholic', 'NuYo',\n",
       "       'HCK Hot Chicken Restaurant', 'Bevaris Alliance', \"Reis & Irvy's\",\n",
       "       'Rascal House', 'Mister O1 Extraordinary Pizza', \"Ori'Zaba's\",\n",
       "       'Chill-N Nitrogen Ice Cream', \"Tom's Urban\", 'Village Juice',\n",
       "       'Vicious Biscuit', 'Anu Sushi', 'Kinya', 'Grater Grilled Cheese',\n",
       "       'Evoo', \"Steve's Pizza\", 'Eggmania', 'Uberrito',\n",
       "       'The Original Rainbow Cone', 'Stricklands', \"Smokin' Oak Pizza\",\n",
       "       \"Gina Maria's Pizza\", 'Stickhouse', 'City Brew Tours',\n",
       "       \"Elbows\\xa0Mac\\xa0\\xa0N'Cheese\", 'Burger Boss',\n",
       "       'The Donut Experiment', \"America's Dog And Burger\",\n",
       "       'Eight Turn Crepe', 'The Boil Daddy', 'Wicked Slush',\n",
       "       'Los Pollos Bros', 'Umai', 'Old New York', 'The Dolly Llama',\n",
       "       'Pokitomik', 'Topz Sandwich Company', 'Bubbleology',\n",
       "       'Matiki Island B.B.Q.', 'Society Wine Bar', \"Nick N Willy's\",\n",
       "       'Kahala Coffee Traders', \"Egg N' Joe\", 'H&H Bagels', 'Tru Bowl',\n",
       "       'Humble Donuts Co.', 'Eggholic', 'Rich Farm Ice Cream',\n",
       "       'Kisses From Italy', 'Chickpeas Kitchen', 'Blue Margaritas',\n",
       "       'Zambrero', 'Green Mill On The Go', 'Roots And Rye', 'Fire + Ice',\n",
       "       'Built Custom Burgers', 'Hook & Reel restaurant', 'Fish-O-Licious',\n",
       "       'Above The Crust', 'The Waffle Experience', 'Pizza Karma',\n",
       "       'Smalls Sliders', 'Donut Distillery', 'Burrito Bar', 'Pokeatery',\n",
       "       'Cuppa Yo', 'Doner And Gyros', 'Melty Way', 'Churrito Loco',\n",
       "       'Redstraw', 'Ranch One', 'Sourdough and Co', \"Taffer's Tavern\",\n",
       "       'Snowdays', 'Jazen Tea', 'We, The Pizza', 'Dripp', 'Vitaly',\n",
       "       'Shawarma Stackz', 'Scooped Cookie Dough Bar',\n",
       "       'Spilled Milk Ice Cream', 'Apóla Greek Grill', 'Bee and Tea',\n",
       "       'Mad for Chicken', 'Poke House', 'Ginger Ales', 'Bopngrill',\n",
       "       'KEO Restaurant', 'Wolfnights', 'Hanshin Pocha',\n",
       "       'Pelicana Chicken', 'Café Landwer', 'Pizza Cat',\n",
       "       'Ginger Sushi + Poke Shop', 'Duff’s CakeMix',\n",
       "       'CrunCheese Korean Hot Dog', 'Chicago Chicken Shack', 'Pizzava',\n",
       "       'Riverside Pizzeria', 'Crimson Coward', 'Beavertails',\n",
       "       \"Carousel's Soft Serve Icery\", 'The Rush Coffee', 'Kongdog',\n",
       "       \"Del's Popcorn Shop\", 'Bonita Bowls', 'Sweethoney Dessert',\n",
       "       \"Chop'd\", 'B Nutritious', 'Superior Food Safety', 'Mokkoji',\n",
       "       'Verve Restaurants', 'Katsu Bar', 'Urban Wok', 'Sushi Obsession',\n",
       "       'Candy Cloud', 'Trademark Pizza', 'Ohanalulu', 'Azuquita',\n",
       "       'Mucho Burrito', 'Cereality', \"Mama's Meatball\", 'Saucy Asian',\n",
       "       'Fish Bone', 'House of Random', 'Creamberry', 'Bake Cheese Tart',\n",
       "       \"Jojo's Grill-A-Dog\", 'Sweet Jesus', 'Quack Daddy Donuts',\n",
       "       'NoBaked Cookie Dough', \"Stoney's Sourdough Pizza Co\",\n",
       "       \"Tilford's Wood Fired Pizza\", 'Dogs & Cream',\n",
       "       'Brooklyn Dumpling Shop', 'Brothers Est. 1967 Bar & Grill',\n",
       "       'Baked Cookies & Dough', 'Oh My Burger', 'Doner Kebab',\n",
       "       'Pizzawala’s', \"Paavo's\", 'Brunch', \"Houston's Hot Chicken\",\n",
       "       'Daily Jam', 'Eggbred', 'Acapela Modern Mex', 'Crave Cookies',\n",
       "       'Jerk King', 'The Original Hot Chicken', 'Donut i love u',\n",
       "       'Hot Fries', 'Sneakybird', 'Spiked Rich', 'Daddy’s Chicken Shack',\n",
       "       'AATB', 'SIMPLE PLAN', 'World Famous Meats', 'Il Mito',\n",
       "       'Daily Dose', 'Ivan Ramen', 'Parlay Cafe', 'Bengal Bay Grill',\n",
       "       'Tutti Frutti', 'KOKEE TEA', 'Lemon Heaven', 'Limeberry Yogurt',\n",
       "       'Loving Hut', \"Cole's Backyard Grill\", \"Maggiemoo's\", 'Maui Tacos',\n",
       "       'Mountain Mudd', 'Muscle Maker Grill', 'Orange Julius',\n",
       "       'Dazbog Coffee', 'Vino 100', 'Deli Zone', \"O'Charley's\",\n",
       "       'Earthfruits Yogurt'], dtype=object)"
      ]
     },
     "execution_count": 8,
     "metadata": {},
     "output_type": "execute_result"
    }
   ],
   "source": [
    "#verificamos los valores unicos en la columna Nombre_Franquicia\n",
    "\n",
    "df_fran['Nombre_Franquicia'].unique()"
   ]
  },
  {
   "cell_type": "markdown",
   "metadata": {},
   "source": [
    "# ANALISIS EXPLORATORIO DE ESTADISTICAS DESCRIPTIVAS"
   ]
  },
  {
   "cell_type": "code",
   "execution_count": 9,
   "metadata": {},
   "outputs": [
    {
     "name": "stdout",
     "output_type": "stream",
     "text": [
      "       Id_Franquicia  Min_Inversion  Max_Inversion  Año_Fundado      Unidades\n",
      "count     939.000000   9.390000e+02   9.390000e+02   939.000000    939.000000\n",
      "mean      470.000000   2.208883e+06   4.640620e+06  2002.919063    235.374867\n",
      "std       271.210251   2.461830e+07   4.858272e+07    18.373751   1069.648008\n",
      "min         1.000000   3.000000e+03   4.100000e+04  1926.000000      0.000000\n",
      "25%       235.500000   1.695000e+05   4.570000e+05  1995.000000      7.000000\n",
      "50%       470.000000   2.890000e+05   6.970000e+05  2010.000000     23.000000\n",
      "75%       704.500000   5.120000e+05   1.320000e+06  2016.000000     86.000000\n",
      "max       939.000000   4.695000e+08   9.776000e+08  2023.000000  20576.000000\n"
     ]
    }
   ],
   "source": [
    "# Calcular estadísticas descriptivas para columnas numéricas\n",
    "descripcion_estadistica = df_fran.describe()\n",
    "\n",
    "# Mostrar el resumen de estadísticas descriptivas\n",
    "print(descripcion_estadistica)\n"
   ]
  },
  {
   "cell_type": "markdown",
   "metadata": {},
   "source": [
    "### Estas estadísticas descriptivas para las columnas numéricas en el conjunto de datos muestra lo siguiente:\n",
    "\n",
    "Para la columna \"Id_Franquicia\", hay un total de 939 registros con valores que van desde 1 hasta 939.\n",
    "\n",
    "La columna \"Min_Inversion\" tiene una inversión mínima de $3,000 y una inversión máxima de $469.5 millones, con una media de aproximadamente $2.21 millones y una desviación estándar de alrededor de $24.62 millones.\n",
    "\n",
    "La columna \"Max_Inversion\" muestra una inversión máxima de $977.6 millones, con una inversión mínima de $41,000. La inversión promedio es de aproximadamente $4.64 millones, con una desviación estándar de alrededor de $48.58 millones.\n",
    "\n",
    "En cuanto al año de fundación en la columna \"Año_Fundado\", el valor mínimo es 1926 y el máximo es 2023. La media es de aproximadamente 2002.92, con una desviación estándar de alrededor de 18.37 años.\n",
    "\n",
    "Finalmente, la columna \"Unidades\" muestra el número de unidades que varía desde 0 hasta 20,576, con una media de aproximadamente 235.37 y una desviación estándar de alrededor de 1,069.65.\n",
    "\n",
    "Estos estadísticas nos proporcionan una visión general de la distribución de los valores en estas columnas y pueden ser útiles para comprender mejor el conjunto de datos y tomar decisiones informadas en análisis posteriores."
   ]
  },
  {
   "cell_type": "code",
   "execution_count": 10,
   "metadata": {},
   "outputs": [
    {
     "data": {
      "application/vnd.plotly.v1+json": {
       "config": {
        "plotlyServerURL": "https://plot.ly"
       },
       "data": [
        {
         "hoverinfo": "x+y+text",
         "marker": {
          "color": [
           1967,
           1955,
           1954,
           1962,
           1954,
           1960,
           1996,
           1969,
           1958,
           1986,
           1959,
           1930,
           1950,
           1964,
           1984,
           1972,
           1972,
           1983,
           1946,
           1986
          ]
         },
         "text": [
          1967,
          1955,
          1954,
          1962,
          1954,
          1960,
          1996,
          1969,
          1958,
          1986,
          1959,
          1930,
          1950,
          1964,
          1984,
          1972,
          1972,
          1983,
          1946,
          1986
         ],
         "type": "bar",
         "x": [
          "Subway",
          "McDonald's",
          "Dunkin'",
          "Taco Bell Traditional",
          "Burger King",
          "Dominos",
          "Bimbo Bakeries",
          "Wendys",
          "Pizza Hut Traditional",
          "Advanced Fresh Concepts",
          "Little Caesar",
          "KFC Traditional",
          "Sonic Drive-In",
          "Arby's",
          "Papa John's",
          "Popeyes Louisiana Kitchen",
          "Noble Roman's Craft Pizza & Pub",
          "Jimmy John's",
          "Chick Fil A (Franchise Program)",
          "Jersey Mike's"
         ],
         "y": [
          20576,
          13455,
          8118,
          7513,
          7043,
          6744,
          6027,
          5994,
          5324,
          4275,
          4173,
          3888,
          3546,
          3415,
          3180,
          2946,
          2820,
          2637,
          2410,
          2387
         ]
        }
       ],
       "layout": {
        "coloraxis": {
         "colorbar": {
          "title": {
           "text": "Año de Fundación"
          }
         }
        },
        "template": {
         "data": {
          "bar": [
           {
            "error_x": {
             "color": "#2a3f5f"
            },
            "error_y": {
             "color": "#2a3f5f"
            },
            "marker": {
             "line": {
              "color": "#E5ECF6",
              "width": 0.5
             },
             "pattern": {
              "fillmode": "overlay",
              "size": 10,
              "solidity": 0.2
             }
            },
            "type": "bar"
           }
          ],
          "barpolar": [
           {
            "marker": {
             "line": {
              "color": "#E5ECF6",
              "width": 0.5
             },
             "pattern": {
              "fillmode": "overlay",
              "size": 10,
              "solidity": 0.2
             }
            },
            "type": "barpolar"
           }
          ],
          "carpet": [
           {
            "aaxis": {
             "endlinecolor": "#2a3f5f",
             "gridcolor": "white",
             "linecolor": "white",
             "minorgridcolor": "white",
             "startlinecolor": "#2a3f5f"
            },
            "baxis": {
             "endlinecolor": "#2a3f5f",
             "gridcolor": "white",
             "linecolor": "white",
             "minorgridcolor": "white",
             "startlinecolor": "#2a3f5f"
            },
            "type": "carpet"
           }
          ],
          "choropleth": [
           {
            "colorbar": {
             "outlinewidth": 0,
             "ticks": ""
            },
            "type": "choropleth"
           }
          ],
          "contour": [
           {
            "colorbar": {
             "outlinewidth": 0,
             "ticks": ""
            },
            "colorscale": [
             [
              0,
              "#0d0887"
             ],
             [
              0.1111111111111111,
              "#46039f"
             ],
             [
              0.2222222222222222,
              "#7201a8"
             ],
             [
              0.3333333333333333,
              "#9c179e"
             ],
             [
              0.4444444444444444,
              "#bd3786"
             ],
             [
              0.5555555555555556,
              "#d8576b"
             ],
             [
              0.6666666666666666,
              "#ed7953"
             ],
             [
              0.7777777777777778,
              "#fb9f3a"
             ],
             [
              0.8888888888888888,
              "#fdca26"
             ],
             [
              1,
              "#f0f921"
             ]
            ],
            "type": "contour"
           }
          ],
          "contourcarpet": [
           {
            "colorbar": {
             "outlinewidth": 0,
             "ticks": ""
            },
            "type": "contourcarpet"
           }
          ],
          "heatmap": [
           {
            "colorbar": {
             "outlinewidth": 0,
             "ticks": ""
            },
            "colorscale": [
             [
              0,
              "#0d0887"
             ],
             [
              0.1111111111111111,
              "#46039f"
             ],
             [
              0.2222222222222222,
              "#7201a8"
             ],
             [
              0.3333333333333333,
              "#9c179e"
             ],
             [
              0.4444444444444444,
              "#bd3786"
             ],
             [
              0.5555555555555556,
              "#d8576b"
             ],
             [
              0.6666666666666666,
              "#ed7953"
             ],
             [
              0.7777777777777778,
              "#fb9f3a"
             ],
             [
              0.8888888888888888,
              "#fdca26"
             ],
             [
              1,
              "#f0f921"
             ]
            ],
            "type": "heatmap"
           }
          ],
          "heatmapgl": [
           {
            "colorbar": {
             "outlinewidth": 0,
             "ticks": ""
            },
            "colorscale": [
             [
              0,
              "#0d0887"
             ],
             [
              0.1111111111111111,
              "#46039f"
             ],
             [
              0.2222222222222222,
              "#7201a8"
             ],
             [
              0.3333333333333333,
              "#9c179e"
             ],
             [
              0.4444444444444444,
              "#bd3786"
             ],
             [
              0.5555555555555556,
              "#d8576b"
             ],
             [
              0.6666666666666666,
              "#ed7953"
             ],
             [
              0.7777777777777778,
              "#fb9f3a"
             ],
             [
              0.8888888888888888,
              "#fdca26"
             ],
             [
              1,
              "#f0f921"
             ]
            ],
            "type": "heatmapgl"
           }
          ],
          "histogram": [
           {
            "marker": {
             "pattern": {
              "fillmode": "overlay",
              "size": 10,
              "solidity": 0.2
             }
            },
            "type": "histogram"
           }
          ],
          "histogram2d": [
           {
            "colorbar": {
             "outlinewidth": 0,
             "ticks": ""
            },
            "colorscale": [
             [
              0,
              "#0d0887"
             ],
             [
              0.1111111111111111,
              "#46039f"
             ],
             [
              0.2222222222222222,
              "#7201a8"
             ],
             [
              0.3333333333333333,
              "#9c179e"
             ],
             [
              0.4444444444444444,
              "#bd3786"
             ],
             [
              0.5555555555555556,
              "#d8576b"
             ],
             [
              0.6666666666666666,
              "#ed7953"
             ],
             [
              0.7777777777777778,
              "#fb9f3a"
             ],
             [
              0.8888888888888888,
              "#fdca26"
             ],
             [
              1,
              "#f0f921"
             ]
            ],
            "type": "histogram2d"
           }
          ],
          "histogram2dcontour": [
           {
            "colorbar": {
             "outlinewidth": 0,
             "ticks": ""
            },
            "colorscale": [
             [
              0,
              "#0d0887"
             ],
             [
              0.1111111111111111,
              "#46039f"
             ],
             [
              0.2222222222222222,
              "#7201a8"
             ],
             [
              0.3333333333333333,
              "#9c179e"
             ],
             [
              0.4444444444444444,
              "#bd3786"
             ],
             [
              0.5555555555555556,
              "#d8576b"
             ],
             [
              0.6666666666666666,
              "#ed7953"
             ],
             [
              0.7777777777777778,
              "#fb9f3a"
             ],
             [
              0.8888888888888888,
              "#fdca26"
             ],
             [
              1,
              "#f0f921"
             ]
            ],
            "type": "histogram2dcontour"
           }
          ],
          "mesh3d": [
           {
            "colorbar": {
             "outlinewidth": 0,
             "ticks": ""
            },
            "type": "mesh3d"
           }
          ],
          "parcoords": [
           {
            "line": {
             "colorbar": {
              "outlinewidth": 0,
              "ticks": ""
             }
            },
            "type": "parcoords"
           }
          ],
          "pie": [
           {
            "automargin": true,
            "type": "pie"
           }
          ],
          "scatter": [
           {
            "fillpattern": {
             "fillmode": "overlay",
             "size": 10,
             "solidity": 0.2
            },
            "type": "scatter"
           }
          ],
          "scatter3d": [
           {
            "line": {
             "colorbar": {
              "outlinewidth": 0,
              "ticks": ""
             }
            },
            "marker": {
             "colorbar": {
              "outlinewidth": 0,
              "ticks": ""
             }
            },
            "type": "scatter3d"
           }
          ],
          "scattercarpet": [
           {
            "marker": {
             "colorbar": {
              "outlinewidth": 0,
              "ticks": ""
             }
            },
            "type": "scattercarpet"
           }
          ],
          "scattergeo": [
           {
            "marker": {
             "colorbar": {
              "outlinewidth": 0,
              "ticks": ""
             }
            },
            "type": "scattergeo"
           }
          ],
          "scattergl": [
           {
            "marker": {
             "colorbar": {
              "outlinewidth": 0,
              "ticks": ""
             }
            },
            "type": "scattergl"
           }
          ],
          "scattermapbox": [
           {
            "marker": {
             "colorbar": {
              "outlinewidth": 0,
              "ticks": ""
             }
            },
            "type": "scattermapbox"
           }
          ],
          "scatterpolar": [
           {
            "marker": {
             "colorbar": {
              "outlinewidth": 0,
              "ticks": ""
             }
            },
            "type": "scatterpolar"
           }
          ],
          "scatterpolargl": [
           {
            "marker": {
             "colorbar": {
              "outlinewidth": 0,
              "ticks": ""
             }
            },
            "type": "scatterpolargl"
           }
          ],
          "scatterternary": [
           {
            "marker": {
             "colorbar": {
              "outlinewidth": 0,
              "ticks": ""
             }
            },
            "type": "scatterternary"
           }
          ],
          "surface": [
           {
            "colorbar": {
             "outlinewidth": 0,
             "ticks": ""
            },
            "colorscale": [
             [
              0,
              "#0d0887"
             ],
             [
              0.1111111111111111,
              "#46039f"
             ],
             [
              0.2222222222222222,
              "#7201a8"
             ],
             [
              0.3333333333333333,
              "#9c179e"
             ],
             [
              0.4444444444444444,
              "#bd3786"
             ],
             [
              0.5555555555555556,
              "#d8576b"
             ],
             [
              0.6666666666666666,
              "#ed7953"
             ],
             [
              0.7777777777777778,
              "#fb9f3a"
             ],
             [
              0.8888888888888888,
              "#fdca26"
             ],
             [
              1,
              "#f0f921"
             ]
            ],
            "type": "surface"
           }
          ],
          "table": [
           {
            "cells": {
             "fill": {
              "color": "#EBF0F8"
             },
             "line": {
              "color": "white"
             }
            },
            "header": {
             "fill": {
              "color": "#C8D4E3"
             },
             "line": {
              "color": "white"
             }
            },
            "type": "table"
           }
          ]
         },
         "layout": {
          "annotationdefaults": {
           "arrowcolor": "#2a3f5f",
           "arrowhead": 0,
           "arrowwidth": 1
          },
          "autotypenumbers": "strict",
          "coloraxis": {
           "colorbar": {
            "outlinewidth": 0,
            "ticks": ""
           }
          },
          "colorscale": {
           "diverging": [
            [
             0,
             "#8e0152"
            ],
            [
             0.1,
             "#c51b7d"
            ],
            [
             0.2,
             "#de77ae"
            ],
            [
             0.3,
             "#f1b6da"
            ],
            [
             0.4,
             "#fde0ef"
            ],
            [
             0.5,
             "#f7f7f7"
            ],
            [
             0.6,
             "#e6f5d0"
            ],
            [
             0.7,
             "#b8e186"
            ],
            [
             0.8,
             "#7fbc41"
            ],
            [
             0.9,
             "#4d9221"
            ],
            [
             1,
             "#276419"
            ]
           ],
           "sequential": [
            [
             0,
             "#0d0887"
            ],
            [
             0.1111111111111111,
             "#46039f"
            ],
            [
             0.2222222222222222,
             "#7201a8"
            ],
            [
             0.3333333333333333,
             "#9c179e"
            ],
            [
             0.4444444444444444,
             "#bd3786"
            ],
            [
             0.5555555555555556,
             "#d8576b"
            ],
            [
             0.6666666666666666,
             "#ed7953"
            ],
            [
             0.7777777777777778,
             "#fb9f3a"
            ],
            [
             0.8888888888888888,
             "#fdca26"
            ],
            [
             1,
             "#f0f921"
            ]
           ],
           "sequentialminus": [
            [
             0,
             "#0d0887"
            ],
            [
             0.1111111111111111,
             "#46039f"
            ],
            [
             0.2222222222222222,
             "#7201a8"
            ],
            [
             0.3333333333333333,
             "#9c179e"
            ],
            [
             0.4444444444444444,
             "#bd3786"
            ],
            [
             0.5555555555555556,
             "#d8576b"
            ],
            [
             0.6666666666666666,
             "#ed7953"
            ],
            [
             0.7777777777777778,
             "#fb9f3a"
            ],
            [
             0.8888888888888888,
             "#fdca26"
            ],
            [
             1,
             "#f0f921"
            ]
           ]
          },
          "colorway": [
           "#636efa",
           "#EF553B",
           "#00cc96",
           "#ab63fa",
           "#FFA15A",
           "#19d3f3",
           "#FF6692",
           "#B6E880",
           "#FF97FF",
           "#FECB52"
          ],
          "font": {
           "color": "#2a3f5f"
          },
          "geo": {
           "bgcolor": "white",
           "lakecolor": "white",
           "landcolor": "#E5ECF6",
           "showlakes": true,
           "showland": true,
           "subunitcolor": "white"
          },
          "hoverlabel": {
           "align": "left"
          },
          "hovermode": "closest",
          "mapbox": {
           "style": "light"
          },
          "paper_bgcolor": "white",
          "plot_bgcolor": "#E5ECF6",
          "polar": {
           "angularaxis": {
            "gridcolor": "white",
            "linecolor": "white",
            "ticks": ""
           },
           "bgcolor": "#E5ECF6",
           "radialaxis": {
            "gridcolor": "white",
            "linecolor": "white",
            "ticks": ""
           }
          },
          "scene": {
           "xaxis": {
            "backgroundcolor": "#E5ECF6",
            "gridcolor": "white",
            "gridwidth": 2,
            "linecolor": "white",
            "showbackground": true,
            "ticks": "",
            "zerolinecolor": "white"
           },
           "yaxis": {
            "backgroundcolor": "#E5ECF6",
            "gridcolor": "white",
            "gridwidth": 2,
            "linecolor": "white",
            "showbackground": true,
            "ticks": "",
            "zerolinecolor": "white"
           },
           "zaxis": {
            "backgroundcolor": "#E5ECF6",
            "gridcolor": "white",
            "gridwidth": 2,
            "linecolor": "white",
            "showbackground": true,
            "ticks": "",
            "zerolinecolor": "white"
           }
          },
          "shapedefaults": {
           "line": {
            "color": "#2a3f5f"
           }
          },
          "ternary": {
           "aaxis": {
            "gridcolor": "white",
            "linecolor": "white",
            "ticks": ""
           },
           "baxis": {
            "gridcolor": "white",
            "linecolor": "white",
            "ticks": ""
           },
           "bgcolor": "#E5ECF6",
           "caxis": {
            "gridcolor": "white",
            "linecolor": "white",
            "ticks": ""
           }
          },
          "title": {
           "x": 0.05
          },
          "xaxis": {
           "automargin": true,
           "gridcolor": "white",
           "linecolor": "white",
           "ticks": "",
           "title": {
            "standoff": 15
           },
           "zerolinecolor": "white",
           "zerolinewidth": 2
          },
          "yaxis": {
           "automargin": true,
           "gridcolor": "white",
           "linecolor": "white",
           "ticks": "",
           "title": {
            "standoff": 15
           },
           "zerolinecolor": "white",
           "zerolinewidth": 2
          }
         }
        },
        "title": {
         "text": "Año de Fundación vs. Cantidad de Sucursales (Top 20 Franquicias)"
        },
        "xaxis": {
         "tickangle": -45,
         "title": {
          "text": "Franquicia"
         }
        },
        "yaxis": {
         "title": {
          "text": "Cantidad de Sucursales"
         }
        }
       }
      }
     },
     "metadata": {},
     "output_type": "display_data"
    }
   ],
   "source": [
    "# Obtener las 20 franquicias con más unidades\n",
    "top_20_franquicias = df_fran.nlargest(20, 'Unidades')\n",
    "\n",
    "# Crear el gráfico interactivo utilizando Plotly\n",
    "fig = go.Figure()\n",
    "\n",
    "# Agregar las barras\n",
    "fig.add_trace(go.Bar(\n",
    "    x=top_20_franquicias['Nombre_Franquicia'],\n",
    "    y=top_20_franquicias['Unidades'],\n",
    "    marker_color=top_20_franquicias['Año_Fundado'],\n",
    "    text=top_20_franquicias['Año_Fundado'], \n",
    "    hoverinfo='x+y+text'\n",
    "))\n",
    "\n",
    "# Personalizar el diseño del gráfico\n",
    "fig.update_layout(\n",
    "    title='Año de Fundación vs. Cantidad de Sucursales (Top 20 Franquicias)',\n",
    "    xaxis_title='Franquicia',\n",
    "    yaxis_title='Cantidad de Sucursales',\n",
    "    xaxis_tickangle=-45, \n",
    "    coloraxis_colorbar=dict(title='Año de Fundación')\n",
    ")\n",
    "\n"
   ]
  },
  {
   "cell_type": "markdown",
   "metadata": {},
   "source": [
    "Al analizar el gráfico que compara el año de fundación con la cantidad de sucursales de las 20 franquicias más grandes, se pueden extraer varias conclusiones significativas:\n",
    "\n",
    "En primer lugar, se destaca que no existe una correlación lineal clara entre la antigüedad de una franquicia y su expansión. Aunque franquicias más antiguas muestran una presencia sólida en términos de sucursales, franquicias relativamente nuevas también ocupan posiciones destacadas. Este hecho sugiere que el éxito en la expansión de una franquicia no está determinado únicamente por su antigüedad, sino que factores como la estrategia de negocio, la demanda del mercado y la gestión eficiente pueden desempeñar roles fundamentales. \n",
    "\n",
    "Además, el gráfico refleja la diversidad en la distribución de franquicias, con algunas de larga data que siguen liderando y otras más recientes que han logrado un crecimiento rápido. En resumen, el gráfico ilustra que el mundo de las franquicias es complejo y que tanto la experiencia como la innovación pueden ser igualmente exitosas en el logro de una expansión significativa."
   ]
  }
 ],
 "metadata": {
  "kernelspec": {
   "display_name": "Python 3",
   "language": "python",
   "name": "python3"
  },
  "language_info": {
   "codemirror_mode": {
    "name": "ipython",
    "version": 3
   },
   "file_extension": ".py",
   "mimetype": "text/x-python",
   "name": "python",
   "nbconvert_exporter": "python",
   "pygments_lexer": "ipython3",
   "version": "3.11.4"
  },
  "orig_nbformat": 4
 },
 "nbformat": 4,
 "nbformat_minor": 2
}
