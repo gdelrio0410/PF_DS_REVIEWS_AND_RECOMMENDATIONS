{
 "cells": [
  {
   "cell_type": "code",
   "execution_count": 8,
   "metadata": {},
   "outputs": [],
   "source": [
    "import pandas as pd"
   ]
  },
  {
   "cell_type": "markdown",
   "metadata": {},
   "source": [
    "### Poblacion (population_limpio)"
   ]
  },
  {
   "cell_type": "code",
   "execution_count": 13,
   "metadata": {},
   "outputs": [],
   "source": [
    "poblacion = pd.read_csv('bronze/Population_limpio.csv')"
   ]
  },
  {
   "cell_type": "code",
   "execution_count": 14,
   "metadata": {},
   "outputs": [
    {
     "data": {
      "text/html": [
       "<div>\n",
       "<style scoped>\n",
       "    .dataframe tbody tr th:only-of-type {\n",
       "        vertical-align: middle;\n",
       "    }\n",
       "\n",
       "    .dataframe tbody tr th {\n",
       "        vertical-align: top;\n",
       "    }\n",
       "\n",
       "    .dataframe thead th {\n",
       "        text-align: right;\n",
       "    }\n",
       "</style>\n",
       "<table border=\"1\" class=\"dataframe\">\n",
       "  <thead>\n",
       "    <tr style=\"text-align: right;\">\n",
       "      <th></th>\n",
       "      <th>State</th>\n",
       "      <th>Total population</th>\n",
       "      <th>Categoría de densidad</th>\n",
       "    </tr>\n",
       "  </thead>\n",
       "  <tbody>\n",
       "    <tr>\n",
       "      <th>0</th>\n",
       "      <td>Alabama</td>\n",
       "      <td>5039877</td>\n",
       "      <td>Mediana</td>\n",
       "    </tr>\n",
       "    <tr>\n",
       "      <th>1</th>\n",
       "      <td>Alaska</td>\n",
       "      <td>732673</td>\n",
       "      <td>Baja</td>\n",
       "    </tr>\n",
       "    <tr>\n",
       "      <th>2</th>\n",
       "      <td>Arizona</td>\n",
       "      <td>7276316</td>\n",
       "      <td>Alta</td>\n",
       "    </tr>\n",
       "    <tr>\n",
       "      <th>3</th>\n",
       "      <td>Arkansas</td>\n",
       "      <td>3025891</td>\n",
       "      <td>Mediana</td>\n",
       "    </tr>\n",
       "    <tr>\n",
       "      <th>4</th>\n",
       "      <td>California</td>\n",
       "      <td>39237836</td>\n",
       "      <td>Alta</td>\n",
       "    </tr>\n",
       "  </tbody>\n",
       "</table>\n",
       "</div>"
      ],
      "text/plain": [
       "        State  Total population Categoría de densidad\n",
       "0     Alabama           5039877               Mediana\n",
       "1      Alaska            732673                  Baja\n",
       "2     Arizona           7276316                  Alta\n",
       "3    Arkansas           3025891               Mediana\n",
       "4  California          39237836                  Alta"
      ]
     },
     "execution_count": 14,
     "metadata": {},
     "output_type": "execute_result"
    }
   ],
   "source": [
    "poblacion.head()"
   ]
  },
  {
   "cell_type": "code",
   "execution_count": 15,
   "metadata": {},
   "outputs": [
    {
     "name": "stdout",
     "output_type": "stream",
     "text": [
      "<class 'pandas.core.frame.DataFrame'>\n",
      "RangeIndex: 52 entries, 0 to 51\n",
      "Data columns (total 3 columns):\n",
      " #   Column                 Non-Null Count  Dtype \n",
      "---  ------                 --------------  ----- \n",
      " 0   State                  52 non-null     object\n",
      " 1   Total population       52 non-null     int64 \n",
      " 2   Categoría de densidad  52 non-null     object\n",
      "dtypes: int64(1), object(2)\n",
      "memory usage: 1.3+ KB\n"
     ]
    }
   ],
   "source": [
    "poblacion.info()"
   ]
  },
  {
   "cell_type": "code",
   "execution_count": 16,
   "metadata": {},
   "outputs": [],
   "source": [
    "# Agregar una columna \"id\" autoincremental\n",
    "poblacion['Id_Estado'] = range(1, len(poblacion) + 1)"
   ]
  },
  {
   "cell_type": "code",
   "execution_count": 17,
   "metadata": {},
   "outputs": [
    {
     "data": {
      "text/html": [
       "<div>\n",
       "<style scoped>\n",
       "    .dataframe tbody tr th:only-of-type {\n",
       "        vertical-align: middle;\n",
       "    }\n",
       "\n",
       "    .dataframe tbody tr th {\n",
       "        vertical-align: top;\n",
       "    }\n",
       "\n",
       "    .dataframe thead th {\n",
       "        text-align: right;\n",
       "    }\n",
       "</style>\n",
       "<table border=\"1\" class=\"dataframe\">\n",
       "  <thead>\n",
       "    <tr style=\"text-align: right;\">\n",
       "      <th></th>\n",
       "      <th>Nombre_Estado</th>\n",
       "      <th>Total_Poblacion</th>\n",
       "      <th>Categoria_Densidad</th>\n",
       "      <th>Id_Estado</th>\n",
       "    </tr>\n",
       "  </thead>\n",
       "  <tbody>\n",
       "    <tr>\n",
       "      <th>0</th>\n",
       "      <td>Alabama</td>\n",
       "      <td>5039877</td>\n",
       "      <td>Mediana</td>\n",
       "      <td>1</td>\n",
       "    </tr>\n",
       "    <tr>\n",
       "      <th>1</th>\n",
       "      <td>Alaska</td>\n",
       "      <td>732673</td>\n",
       "      <td>Baja</td>\n",
       "      <td>2</td>\n",
       "    </tr>\n",
       "    <tr>\n",
       "      <th>2</th>\n",
       "      <td>Arizona</td>\n",
       "      <td>7276316</td>\n",
       "      <td>Alta</td>\n",
       "      <td>3</td>\n",
       "    </tr>\n",
       "    <tr>\n",
       "      <th>3</th>\n",
       "      <td>Arkansas</td>\n",
       "      <td>3025891</td>\n",
       "      <td>Mediana</td>\n",
       "      <td>4</td>\n",
       "    </tr>\n",
       "    <tr>\n",
       "      <th>4</th>\n",
       "      <td>California</td>\n",
       "      <td>39237836</td>\n",
       "      <td>Alta</td>\n",
       "      <td>5</td>\n",
       "    </tr>\n",
       "  </tbody>\n",
       "</table>\n",
       "</div>"
      ],
      "text/plain": [
       "  Nombre_Estado  Total_Poblacion Categoria_Densidad  Id_Estado\n",
       "0       Alabama          5039877            Mediana          1\n",
       "1        Alaska           732673               Baja          2\n",
       "2       Arizona          7276316               Alta          3\n",
       "3      Arkansas          3025891            Mediana          4\n",
       "4    California         39237836               Alta          5"
      ]
     },
     "execution_count": 17,
     "metadata": {},
     "output_type": "execute_result"
    }
   ],
   "source": [
    "# Cambiar nombres\n",
    "poblacion.rename(columns={'State' : 'Nombre_Estado', 'Total population' : 'Total_Poblacion', 'Categoría de densidad' : 'Categoria_Densidad'},inplace=True)\n",
    "poblacion.head()"
   ]
  },
  {
   "cell_type": "code",
   "execution_count": 18,
   "metadata": {},
   "outputs": [
    {
     "data": {
      "text/plain": [
       "52"
      ]
     },
     "execution_count": 18,
     "metadata": {},
     "output_type": "execute_result"
    }
   ],
   "source": [
    "#cantidad de estados\n",
    "poblacion.Nombre_Estado.nunique()"
   ]
  },
  {
   "cell_type": "code",
   "execution_count": 19,
   "metadata": {},
   "outputs": [
    {
     "data": {
      "text/plain": [
       "array(['Alabama', 'Alaska', 'Arizona', 'Arkansas', 'California',\n",
       "       'Colorado', 'Connecticut', 'Delaware', 'District of Columbia',\n",
       "       'Florida', 'Georgia', 'Hawaii', 'Idaho', 'Illinois', 'Indiana',\n",
       "       'Iowa', 'Kansas', 'Kentucky', 'Louisiana', 'Maine', 'Maryland',\n",
       "       'Massachusetts', 'Michigan', 'Minnesota', 'Mississippi',\n",
       "       'Missouri', 'Montana', 'Nebraska', 'Nevada', 'New Hampshire',\n",
       "       'New Jersey', 'New Mexico', 'New York', 'North Carolina',\n",
       "       'North Dakota', 'Ohio', 'Oklahoma', 'Oregon', 'Pennsylvania',\n",
       "       'Rhode Island', 'South Carolina', 'South Dakota', 'Tennessee',\n",
       "       'Texas', 'Utah', 'Vermont', 'Virginia', 'Washington',\n",
       "       'West Virginia', 'Wisconsin', 'Wyoming', 'Puerto Rico'],\n",
       "      dtype=object)"
      ]
     },
     "execution_count": 19,
     "metadata": {},
     "output_type": "execute_result"
    }
   ],
   "source": [
    "# Obtener los valores únicos de los estado\n",
    "poblacion['Nombre_Estado'].unique()"
   ]
  },
  {
   "cell_type": "code",
   "execution_count": 20,
   "metadata": {},
   "outputs": [],
   "source": [
    "# Eliminar registros donde \"nombre_estado\" sea igual a \"Puerto Rico\"\n",
    "poblacion = poblacion[poblacion['Nombre_Estado'] != 'Puerto Rico']"
   ]
  },
  {
   "cell_type": "code",
   "execution_count": 21,
   "metadata": {},
   "outputs": [
    {
     "name": "stdout",
     "output_type": "stream",
     "text": [
      "<class 'pandas.core.frame.DataFrame'>\n",
      "Int64Index: 51 entries, 0 to 50\n",
      "Data columns (total 4 columns):\n",
      " #   Column              Non-Null Count  Dtype \n",
      "---  ------              --------------  ----- \n",
      " 0   Nombre_Estado       51 non-null     object\n",
      " 1   Total_Poblacion     51 non-null     int64 \n",
      " 2   Categoria_Densidad  51 non-null     object\n",
      " 3   Id_Estado           51 non-null     int64 \n",
      "dtypes: int64(2), object(2)\n",
      "memory usage: 2.0+ KB\n"
     ]
    }
   ],
   "source": [
    "poblacion.info()"
   ]
  },
  {
   "cell_type": "code",
   "execution_count": 22,
   "metadata": {},
   "outputs": [
    {
     "data": {
      "text/html": [
       "<div>\n",
       "<style scoped>\n",
       "    .dataframe tbody tr th:only-of-type {\n",
       "        vertical-align: middle;\n",
       "    }\n",
       "\n",
       "    .dataframe tbody tr th {\n",
       "        vertical-align: top;\n",
       "    }\n",
       "\n",
       "    .dataframe thead th {\n",
       "        text-align: right;\n",
       "    }\n",
       "</style>\n",
       "<table border=\"1\" class=\"dataframe\">\n",
       "  <thead>\n",
       "    <tr style=\"text-align: right;\">\n",
       "      <th></th>\n",
       "      <th>Id_Estado</th>\n",
       "      <th>Nombre_Estado</th>\n",
       "      <th>Total_Poblacion</th>\n",
       "      <th>Categoria_Densidad</th>\n",
       "    </tr>\n",
       "  </thead>\n",
       "  <tbody>\n",
       "    <tr>\n",
       "      <th>0</th>\n",
       "      <td>1</td>\n",
       "      <td>Alabama</td>\n",
       "      <td>5039877</td>\n",
       "      <td>Mediana</td>\n",
       "    </tr>\n",
       "    <tr>\n",
       "      <th>1</th>\n",
       "      <td>2</td>\n",
       "      <td>Alaska</td>\n",
       "      <td>732673</td>\n",
       "      <td>Baja</td>\n",
       "    </tr>\n",
       "    <tr>\n",
       "      <th>2</th>\n",
       "      <td>3</td>\n",
       "      <td>Arizona</td>\n",
       "      <td>7276316</td>\n",
       "      <td>Alta</td>\n",
       "    </tr>\n",
       "    <tr>\n",
       "      <th>3</th>\n",
       "      <td>4</td>\n",
       "      <td>Arkansas</td>\n",
       "      <td>3025891</td>\n",
       "      <td>Mediana</td>\n",
       "    </tr>\n",
       "    <tr>\n",
       "      <th>4</th>\n",
       "      <td>5</td>\n",
       "      <td>California</td>\n",
       "      <td>39237836</td>\n",
       "      <td>Alta</td>\n",
       "    </tr>\n",
       "  </tbody>\n",
       "</table>\n",
       "</div>"
      ],
      "text/plain": [
       "   Id_Estado Nombre_Estado  Total_Poblacion Categoria_Densidad\n",
       "0          1       Alabama          5039877            Mediana\n",
       "1          2        Alaska           732673               Baja\n",
       "2          3       Arizona          7276316               Alta\n",
       "3          4      Arkansas          3025891            Mediana\n",
       "4          5    California         39237836               Alta"
      ]
     },
     "execution_count": 22,
     "metadata": {},
     "output_type": "execute_result"
    }
   ],
   "source": [
    "#reorganizar las columnas \n",
    "poblacion = poblacion[['Id_Estado', 'Nombre_Estado', 'Total_Poblacion', 'Categoria_Densidad']]\n",
    "#reinicio los indices\n",
    "poblacion.reset_index(drop=True).head()"
   ]
  },
  {
   "cell_type": "code",
   "execution_count": 23,
   "metadata": {},
   "outputs": [],
   "source": [
    "#guardo Estados\n",
    "poblacion.to_csv('silver/Estados.csv',index=False)"
   ]
  },
  {
   "cell_type": "markdown",
   "metadata": {},
   "source": [
    "### inversion_franquicias"
   ]
  },
  {
   "cell_type": "code",
   "execution_count": 11,
   "metadata": {},
   "outputs": [],
   "source": [
    "franquicias = pd.read_csv('bronze/inversion_franquicias.csv')"
   ]
  },
  {
   "cell_type": "code",
   "execution_count": 12,
   "metadata": {},
   "outputs": [
    {
     "data": {
      "text/html": [
       "<div>\n",
       "<style scoped>\n",
       "    .dataframe tbody tr th:only-of-type {\n",
       "        vertical-align: middle;\n",
       "    }\n",
       "\n",
       "    .dataframe tbody tr th {\n",
       "        vertical-align: top;\n",
       "    }\n",
       "\n",
       "    .dataframe thead th {\n",
       "        text-align: right;\n",
       "    }\n",
       "</style>\n",
       "<table border=\"1\" class=\"dataframe\">\n",
       "  <thead>\n",
       "    <tr style=\"text-align: right;\">\n",
       "      <th></th>\n",
       "      <th>Title</th>\n",
       "      <th>Investment min</th>\n",
       "      <th>Investment MAX</th>\n",
       "      <th>Founding Year</th>\n",
       "      <th>Units</th>\n",
       "    </tr>\n",
       "  </thead>\n",
       "  <tbody>\n",
       "    <tr>\n",
       "      <th>0</th>\n",
       "      <td>Subway</td>\n",
       "      <td>190000.0</td>\n",
       "      <td>522000.0</td>\n",
       "      <td>1967</td>\n",
       "      <td>20576</td>\n",
       "    </tr>\n",
       "    <tr>\n",
       "      <th>1</th>\n",
       "      <td>McDonald's</td>\n",
       "      <td>521000.0</td>\n",
       "      <td>2500000.0</td>\n",
       "      <td>1955</td>\n",
       "      <td>13455</td>\n",
       "    </tr>\n",
       "    <tr>\n",
       "      <th>2</th>\n",
       "      <td>Dunkin'</td>\n",
       "      <td>121000.0</td>\n",
       "      <td>1810000.0</td>\n",
       "      <td>1954</td>\n",
       "      <td>8118</td>\n",
       "    </tr>\n",
       "    <tr>\n",
       "      <th>3</th>\n",
       "      <td>Taco Bell Traditional</td>\n",
       "      <td>576000.0</td>\n",
       "      <td>3370000.0</td>\n",
       "      <td>1962</td>\n",
       "      <td>7513</td>\n",
       "    </tr>\n",
       "    <tr>\n",
       "      <th>4</th>\n",
       "      <td>Burger King</td>\n",
       "      <td>232000.0</td>\n",
       "      <td>4520000.0</td>\n",
       "      <td>1954</td>\n",
       "      <td>7043</td>\n",
       "    </tr>\n",
       "  </tbody>\n",
       "</table>\n",
       "</div>"
      ],
      "text/plain": [
       "                   Title  Investment min  Investment MAX  Founding Year  Units\n",
       "0                 Subway        190000.0        522000.0           1967  20576\n",
       "1             McDonald's        521000.0       2500000.0           1955  13455\n",
       "2                Dunkin'        121000.0       1810000.0           1954   8118\n",
       "3  Taco Bell Traditional        576000.0       3370000.0           1962   7513\n",
       "4            Burger King        232000.0       4520000.0           1954   7043"
      ]
     },
     "execution_count": 12,
     "metadata": {},
     "output_type": "execute_result"
    }
   ],
   "source": [
    "franquicias.head()"
   ]
  },
  {
   "cell_type": "code",
   "execution_count": 91,
   "metadata": {},
   "outputs": [
    {
     "name": "stdout",
     "output_type": "stream",
     "text": [
      "<class 'pandas.core.frame.DataFrame'>\n",
      "RangeIndex: 999 entries, 0 to 998\n",
      "Data columns (total 5 columns):\n",
      " #   Column          Non-Null Count  Dtype  \n",
      "---  ------          --------------  -----  \n",
      " 0   Title           999 non-null    object \n",
      " 1   Investment min  999 non-null    float64\n",
      " 2   Investment MAX  999 non-null    float64\n",
      " 3   Founding Year   999 non-null    int64  \n",
      " 4   Units           999 non-null    int64  \n",
      "dtypes: float64(2), int64(2), object(1)\n",
      "memory usage: 39.1+ KB\n"
     ]
    }
   ],
   "source": [
    "franquicias.info()"
   ]
  },
  {
   "cell_type": "code",
   "execution_count": 92,
   "metadata": {},
   "outputs": [
    {
     "data": {
      "text/plain": [
       "939"
      ]
     },
     "execution_count": 92,
     "metadata": {},
     "output_type": "execute_result"
    }
   ],
   "source": [
    "#cantidad de franquicias unicas\n",
    "franquicias.Title.nunique()"
   ]
  },
  {
   "cell_type": "code",
   "execution_count": 93,
   "metadata": {},
   "outputs": [
    {
     "data": {
      "text/plain": [
       "60"
      ]
     },
     "execution_count": 93,
     "metadata": {},
     "output_type": "execute_result"
    }
   ],
   "source": [
    "#cantidad de duplicados\n",
    "franquicias.duplicated().sum()"
   ]
  },
  {
   "cell_type": "code",
   "execution_count": 94,
   "metadata": {},
   "outputs": [],
   "source": [
    "#elimina duplicados \n",
    "franquicias.drop_duplicates(inplace=True)"
   ]
  },
  {
   "cell_type": "code",
   "execution_count": 95,
   "metadata": {},
   "outputs": [],
   "source": [
    "# Agregar una columna \"id\" autoincremental\n",
    "franquicias['Id_Franquicia'] = range(1, len(franquicias) + 1)"
   ]
  },
  {
   "cell_type": "code",
   "execution_count": 96,
   "metadata": {},
   "outputs": [
    {
     "data": {
      "text/plain": [
       "Index(['Title', 'Investment min', 'Investment MAX', 'Founding Year', 'Units',\n",
       "       'Id_Franquicia'],\n",
       "      dtype='object')"
      ]
     },
     "execution_count": 96,
     "metadata": {},
     "output_type": "execute_result"
    }
   ],
   "source": [
    "franquicias.columns"
   ]
  },
  {
   "cell_type": "code",
   "execution_count": 97,
   "metadata": {},
   "outputs": [
    {
     "data": {
      "text/html": [
       "<div>\n",
       "<style scoped>\n",
       "    .dataframe tbody tr th:only-of-type {\n",
       "        vertical-align: middle;\n",
       "    }\n",
       "\n",
       "    .dataframe tbody tr th {\n",
       "        vertical-align: top;\n",
       "    }\n",
       "\n",
       "    .dataframe thead th {\n",
       "        text-align: right;\n",
       "    }\n",
       "</style>\n",
       "<table border=\"1\" class=\"dataframe\">\n",
       "  <thead>\n",
       "    <tr style=\"text-align: right;\">\n",
       "      <th></th>\n",
       "      <th>Nombre_Franquicia</th>\n",
       "      <th>Min_Inversion</th>\n",
       "      <th>Max_Inversion</th>\n",
       "      <th>Año_Fundado</th>\n",
       "      <th>Unidades</th>\n",
       "      <th>Id_Franquicia</th>\n",
       "    </tr>\n",
       "  </thead>\n",
       "  <tbody>\n",
       "    <tr>\n",
       "      <th>0</th>\n",
       "      <td>Subway</td>\n",
       "      <td>190000.0</td>\n",
       "      <td>522000.0</td>\n",
       "      <td>1967</td>\n",
       "      <td>20576</td>\n",
       "      <td>1</td>\n",
       "    </tr>\n",
       "    <tr>\n",
       "      <th>1</th>\n",
       "      <td>McDonald's</td>\n",
       "      <td>521000.0</td>\n",
       "      <td>2500000.0</td>\n",
       "      <td>1955</td>\n",
       "      <td>13455</td>\n",
       "      <td>2</td>\n",
       "    </tr>\n",
       "    <tr>\n",
       "      <th>2</th>\n",
       "      <td>Dunkin'</td>\n",
       "      <td>121000.0</td>\n",
       "      <td>1810000.0</td>\n",
       "      <td>1954</td>\n",
       "      <td>8118</td>\n",
       "      <td>3</td>\n",
       "    </tr>\n",
       "    <tr>\n",
       "      <th>3</th>\n",
       "      <td>Taco Bell Traditional</td>\n",
       "      <td>576000.0</td>\n",
       "      <td>3370000.0</td>\n",
       "      <td>1962</td>\n",
       "      <td>7513</td>\n",
       "      <td>4</td>\n",
       "    </tr>\n",
       "    <tr>\n",
       "      <th>4</th>\n",
       "      <td>Burger King</td>\n",
       "      <td>232000.0</td>\n",
       "      <td>4520000.0</td>\n",
       "      <td>1954</td>\n",
       "      <td>7043</td>\n",
       "      <td>5</td>\n",
       "    </tr>\n",
       "  </tbody>\n",
       "</table>\n",
       "</div>"
      ],
      "text/plain": [
       "       Nombre_Franquicia  Min_Inversion  Max_Inversion  Año_Fundado  Unidades  \\\n",
       "0                 Subway       190000.0       522000.0         1967     20576   \n",
       "1             McDonald's       521000.0      2500000.0         1955     13455   \n",
       "2                Dunkin'       121000.0      1810000.0         1954      8118   \n",
       "3  Taco Bell Traditional       576000.0      3370000.0         1962      7513   \n",
       "4            Burger King       232000.0      4520000.0         1954      7043   \n",
       "\n",
       "   Id_Franquicia  \n",
       "0              1  \n",
       "1              2  \n",
       "2              3  \n",
       "3              4  \n",
       "4              5  "
      ]
     },
     "execution_count": 97,
     "metadata": {},
     "output_type": "execute_result"
    }
   ],
   "source": [
    "# Cambiar nombres\n",
    "franquicias.rename(columns={'Title' : 'Nombre_Franquicia','Investment min' : 'Min_Inversion', 'Investment MAX' : 'Max_Inversion', 'Founding Year' : 'Año_Fundado','Units' : 'Unidades' },inplace=True)\n",
    "franquicias.head()"
   ]
  },
  {
   "cell_type": "code",
   "execution_count": 98,
   "metadata": {},
   "outputs": [
    {
     "data": {
      "text/html": [
       "<div>\n",
       "<style scoped>\n",
       "    .dataframe tbody tr th:only-of-type {\n",
       "        vertical-align: middle;\n",
       "    }\n",
       "\n",
       "    .dataframe tbody tr th {\n",
       "        vertical-align: top;\n",
       "    }\n",
       "\n",
       "    .dataframe thead th {\n",
       "        text-align: right;\n",
       "    }\n",
       "</style>\n",
       "<table border=\"1\" class=\"dataframe\">\n",
       "  <thead>\n",
       "    <tr style=\"text-align: right;\">\n",
       "      <th></th>\n",
       "      <th>Id_Franquicia</th>\n",
       "      <th>Nombre_Franquicia</th>\n",
       "      <th>Min_Inversion</th>\n",
       "      <th>Max_Inversion</th>\n",
       "      <th>Año_Fundado</th>\n",
       "      <th>Unidades</th>\n",
       "    </tr>\n",
       "  </thead>\n",
       "  <tbody>\n",
       "    <tr>\n",
       "      <th>0</th>\n",
       "      <td>1</td>\n",
       "      <td>Subway</td>\n",
       "      <td>190000.0</td>\n",
       "      <td>522000.0</td>\n",
       "      <td>1967</td>\n",
       "      <td>20576</td>\n",
       "    </tr>\n",
       "    <tr>\n",
       "      <th>1</th>\n",
       "      <td>2</td>\n",
       "      <td>McDonald's</td>\n",
       "      <td>521000.0</td>\n",
       "      <td>2500000.0</td>\n",
       "      <td>1955</td>\n",
       "      <td>13455</td>\n",
       "    </tr>\n",
       "    <tr>\n",
       "      <th>2</th>\n",
       "      <td>3</td>\n",
       "      <td>Dunkin'</td>\n",
       "      <td>121000.0</td>\n",
       "      <td>1810000.0</td>\n",
       "      <td>1954</td>\n",
       "      <td>8118</td>\n",
       "    </tr>\n",
       "    <tr>\n",
       "      <th>3</th>\n",
       "      <td>4</td>\n",
       "      <td>Taco Bell Traditional</td>\n",
       "      <td>576000.0</td>\n",
       "      <td>3370000.0</td>\n",
       "      <td>1962</td>\n",
       "      <td>7513</td>\n",
       "    </tr>\n",
       "    <tr>\n",
       "      <th>4</th>\n",
       "      <td>5</td>\n",
       "      <td>Burger King</td>\n",
       "      <td>232000.0</td>\n",
       "      <td>4520000.0</td>\n",
       "      <td>1954</td>\n",
       "      <td>7043</td>\n",
       "    </tr>\n",
       "  </tbody>\n",
       "</table>\n",
       "</div>"
      ],
      "text/plain": [
       "   Id_Franquicia      Nombre_Franquicia  Min_Inversion  Max_Inversion  \\\n",
       "0              1                 Subway       190000.0       522000.0   \n",
       "1              2             McDonald's       521000.0      2500000.0   \n",
       "2              3                Dunkin'       121000.0      1810000.0   \n",
       "3              4  Taco Bell Traditional       576000.0      3370000.0   \n",
       "4              5            Burger King       232000.0      4520000.0   \n",
       "\n",
       "   Año_Fundado  Unidades  \n",
       "0         1967     20576  \n",
       "1         1955     13455  \n",
       "2         1954      8118  \n",
       "3         1962      7513  \n",
       "4         1954      7043  "
      ]
     },
     "execution_count": 98,
     "metadata": {},
     "output_type": "execute_result"
    }
   ],
   "source": [
    "#reorganizar las columnas \n",
    "franquicias = franquicias[['Id_Franquicia', 'Nombre_Franquicia', 'Min_Inversion', 'Max_Inversion', 'Año_Fundado','Unidades']]\n",
    "#reinicio los indices\n",
    "franquicias.reset_index(drop=True).head()"
   ]
  },
  {
   "cell_type": "code",
   "execution_count": 100,
   "metadata": {},
   "outputs": [],
   "source": [
    "franquicias.to_csv('silver/Franquicias_Inversion.csv',index=False)"
   ]
  },
  {
   "cell_type": "markdown",
   "metadata": {},
   "source": [
    "### Google (Datos_procesados)"
   ]
  },
  {
   "cell_type": "code",
   "execution_count": 166,
   "metadata": {},
   "outputs": [],
   "source": [
    "#cargo el archivo\n",
    "google = pd.read_csv('bronze/google.csv')"
   ]
  },
  {
   "cell_type": "code",
   "execution_count": 167,
   "metadata": {},
   "outputs": [
    {
     "data": {
      "text/html": [
       "<div>\n",
       "<style scoped>\n",
       "    .dataframe tbody tr th:only-of-type {\n",
       "        vertical-align: middle;\n",
       "    }\n",
       "\n",
       "    .dataframe tbody tr th {\n",
       "        vertical-align: top;\n",
       "    }\n",
       "\n",
       "    .dataframe thead th {\n",
       "        text-align: right;\n",
       "    }\n",
       "</style>\n",
       "<table border=\"1\" class=\"dataframe\">\n",
       "  <thead>\n",
       "    <tr style=\"text-align: right;\">\n",
       "      <th></th>\n",
       "      <th>Unnamed: 0</th>\n",
       "      <th>latitude</th>\n",
       "      <th>longitude</th>\n",
       "      <th>category</th>\n",
       "      <th>name</th>\n",
       "      <th>Estado</th>\n",
       "      <th>avg_rating</th>\n",
       "      <th>num_of_reviews</th>\n",
       "    </tr>\n",
       "  </thead>\n",
       "  <tbody>\n",
       "    <tr>\n",
       "      <th>0</th>\n",
       "      <td>12</td>\n",
       "      <td>33.381416</td>\n",
       "      <td>-86.807040</td>\n",
       "      <td>Pizza restaurant</td>\n",
       "      <td>California Pizza Kitchen at Riverchase Galleria</td>\n",
       "      <td>Alabama</td>\n",
       "      <td>4.1</td>\n",
       "      <td>18</td>\n",
       "    </tr>\n",
       "    <tr>\n",
       "      <th>1</th>\n",
       "      <td>14</td>\n",
       "      <td>33.100547</td>\n",
       "      <td>-86.861968</td>\n",
       "      <td>Pizza delivery, Chicken wings restaurant, Pizz...</td>\n",
       "      <td>Pizza Hut</td>\n",
       "      <td>Alabama</td>\n",
       "      <td>3.2</td>\n",
       "      <td>78</td>\n",
       "    </tr>\n",
       "    <tr>\n",
       "      <th>2</th>\n",
       "      <td>18</td>\n",
       "      <td>32.631013</td>\n",
       "      <td>-85.437473</td>\n",
       "      <td>Asian fusion restaurant, Dessert restaurant</td>\n",
       "      <td>Cheetos</td>\n",
       "      <td>Alabama</td>\n",
       "      <td>4.0</td>\n",
       "      <td>26</td>\n",
       "    </tr>\n",
       "    <tr>\n",
       "      <th>3</th>\n",
       "      <td>84</td>\n",
       "      <td>34.843859</td>\n",
       "      <td>-86.711656</td>\n",
       "      <td>Fast food restaurant, Breakfast restaurant, Bu...</td>\n",
       "      <td>Taco Bell</td>\n",
       "      <td>Alabama</td>\n",
       "      <td>3.0</td>\n",
       "      <td>17</td>\n",
       "    </tr>\n",
       "    <tr>\n",
       "      <th>4</th>\n",
       "      <td>122</td>\n",
       "      <td>34.681722</td>\n",
       "      <td>-85.681300</td>\n",
       "      <td>American restaurant</td>\n",
       "      <td>Doris Jean's Country Kitchen</td>\n",
       "      <td>Alabama</td>\n",
       "      <td>4.1</td>\n",
       "      <td>48</td>\n",
       "    </tr>\n",
       "  </tbody>\n",
       "</table>\n",
       "</div>"
      ],
      "text/plain": [
       "   Unnamed: 0   latitude  longitude  \\\n",
       "0          12  33.381416 -86.807040   \n",
       "1          14  33.100547 -86.861968   \n",
       "2          18  32.631013 -85.437473   \n",
       "3          84  34.843859 -86.711656   \n",
       "4         122  34.681722 -85.681300   \n",
       "\n",
       "                                            category  \\\n",
       "0                                   Pizza restaurant   \n",
       "1  Pizza delivery, Chicken wings restaurant, Pizz...   \n",
       "2        Asian fusion restaurant, Dessert restaurant   \n",
       "3  Fast food restaurant, Breakfast restaurant, Bu...   \n",
       "4                                American restaurant   \n",
       "\n",
       "                                              name   Estado  avg_rating  \\\n",
       "0  California Pizza Kitchen at Riverchase Galleria  Alabama         4.1   \n",
       "1                                        Pizza Hut  Alabama         3.2   \n",
       "2                                          Cheetos  Alabama         4.0   \n",
       "3                                        Taco Bell  Alabama         3.0   \n",
       "4                     Doris Jean's Country Kitchen  Alabama         4.1   \n",
       "\n",
       "   num_of_reviews  \n",
       "0              18  \n",
       "1              78  \n",
       "2              26  \n",
       "3              17  \n",
       "4              48  "
      ]
     },
     "execution_count": 167,
     "metadata": {},
     "output_type": "execute_result"
    }
   ],
   "source": [
    "#observo las 5 primeras filas\n",
    "google.head()"
   ]
  },
  {
   "cell_type": "code",
   "execution_count": 168,
   "metadata": {},
   "outputs": [
    {
     "name": "stdout",
     "output_type": "stream",
     "text": [
      "<class 'pandas.core.frame.DataFrame'>\n",
      "RangeIndex: 95059 entries, 0 to 95058\n",
      "Data columns (total 8 columns):\n",
      " #   Column          Non-Null Count  Dtype  \n",
      "---  ------          --------------  -----  \n",
      " 0   Unnamed: 0      95059 non-null  int64  \n",
      " 1   latitude        95059 non-null  float64\n",
      " 2   longitude       95059 non-null  float64\n",
      " 3   category        95059 non-null  object \n",
      " 4   name            95059 non-null  object \n",
      " 5   Estado          95059 non-null  object \n",
      " 6   avg_rating      95059 non-null  float64\n",
      " 7   num_of_reviews  95059 non-null  int64  \n",
      "dtypes: float64(3), int64(2), object(3)\n",
      "memory usage: 5.8+ MB\n"
     ]
    }
   ],
   "source": [
    "#observo la info del dataset\n",
    "google.info()"
   ]
  },
  {
   "cell_type": "code",
   "execution_count": 169,
   "metadata": {},
   "outputs": [],
   "source": [
    "#elimino columna\n",
    "google.drop(columns=['Unnamed: 0'], inplace = True)"
   ]
  },
  {
   "cell_type": "code",
   "execution_count": 170,
   "metadata": {},
   "outputs": [
    {
     "data": {
      "text/plain": [
       "Index(['latitude', 'longitude', 'category', 'name', 'Estado', 'avg_rating',\n",
       "       'num_of_reviews'],\n",
       "      dtype='object')"
      ]
     },
     "execution_count": 170,
     "metadata": {},
     "output_type": "execute_result"
    }
   ],
   "source": [
    "#observo las columnas\n",
    "google.columns"
   ]
  },
  {
   "cell_type": "code",
   "execution_count": 171,
   "metadata": {},
   "outputs": [
    {
     "data": {
      "text/plain": [
       "0"
      ]
     },
     "execution_count": 171,
     "metadata": {},
     "output_type": "execute_result"
    }
   ],
   "source": [
    "# cantidad de duplicados\n",
    "google.duplicated().sum()"
   ]
  },
  {
   "cell_type": "code",
   "execution_count": 172,
   "metadata": {},
   "outputs": [
    {
     "data": {
      "text/html": [
       "<div>\n",
       "<style scoped>\n",
       "    .dataframe tbody tr th:only-of-type {\n",
       "        vertical-align: middle;\n",
       "    }\n",
       "\n",
       "    .dataframe tbody tr th {\n",
       "        vertical-align: top;\n",
       "    }\n",
       "\n",
       "    .dataframe thead th {\n",
       "        text-align: right;\n",
       "    }\n",
       "</style>\n",
       "<table border=\"1\" class=\"dataframe\">\n",
       "  <thead>\n",
       "    <tr style=\"text-align: right;\">\n",
       "      <th></th>\n",
       "      <th>latitude</th>\n",
       "      <th>longitude</th>\n",
       "      <th>category</th>\n",
       "      <th>name</th>\n",
       "      <th>Estado</th>\n",
       "      <th>avg_rating</th>\n",
       "      <th>num_of_reviews</th>\n",
       "    </tr>\n",
       "  </thead>\n",
       "  <tbody>\n",
       "    <tr>\n",
       "      <th>0</th>\n",
       "      <td>33.381416</td>\n",
       "      <td>-86.807040</td>\n",
       "      <td>Pizza restaurant</td>\n",
       "      <td>California Pizza Kitchen at Riverchase Galleria</td>\n",
       "      <td>Alabama</td>\n",
       "      <td>4.1</td>\n",
       "      <td>18</td>\n",
       "    </tr>\n",
       "    <tr>\n",
       "      <th>1</th>\n",
       "      <td>33.100547</td>\n",
       "      <td>-86.861968</td>\n",
       "      <td>Pizza delivery, Chicken wings restaurant, Pizz...</td>\n",
       "      <td>Pizza Hut</td>\n",
       "      <td>Alabama</td>\n",
       "      <td>3.2</td>\n",
       "      <td>78</td>\n",
       "    </tr>\n",
       "    <tr>\n",
       "      <th>2</th>\n",
       "      <td>32.631013</td>\n",
       "      <td>-85.437473</td>\n",
       "      <td>Asian fusion restaurant, Dessert restaurant</td>\n",
       "      <td>Cheetos</td>\n",
       "      <td>Alabama</td>\n",
       "      <td>4.0</td>\n",
       "      <td>26</td>\n",
       "    </tr>\n",
       "    <tr>\n",
       "      <th>3</th>\n",
       "      <td>34.843859</td>\n",
       "      <td>-86.711656</td>\n",
       "      <td>Fast food restaurant, Breakfast restaurant, Bu...</td>\n",
       "      <td>Taco Bell</td>\n",
       "      <td>Alabama</td>\n",
       "      <td>3.0</td>\n",
       "      <td>17</td>\n",
       "    </tr>\n",
       "    <tr>\n",
       "      <th>4</th>\n",
       "      <td>34.681722</td>\n",
       "      <td>-85.681300</td>\n",
       "      <td>American restaurant</td>\n",
       "      <td>Doris Jean's Country Kitchen</td>\n",
       "      <td>Alabama</td>\n",
       "      <td>4.1</td>\n",
       "      <td>48</td>\n",
       "    </tr>\n",
       "  </tbody>\n",
       "</table>\n",
       "</div>"
      ],
      "text/plain": [
       "    latitude  longitude                                           category  \\\n",
       "0  33.381416 -86.807040                                   Pizza restaurant   \n",
       "1  33.100547 -86.861968  Pizza delivery, Chicken wings restaurant, Pizz...   \n",
       "2  32.631013 -85.437473        Asian fusion restaurant, Dessert restaurant   \n",
       "3  34.843859 -86.711656  Fast food restaurant, Breakfast restaurant, Bu...   \n",
       "4  34.681722 -85.681300                                American restaurant   \n",
       "\n",
       "                                              name   Estado  avg_rating  \\\n",
       "0  California Pizza Kitchen at Riverchase Galleria  Alabama         4.1   \n",
       "1                                        Pizza Hut  Alabama         3.2   \n",
       "2                                          Cheetos  Alabama         4.0   \n",
       "3                                        Taco Bell  Alabama         3.0   \n",
       "4                     Doris Jean's Country Kitchen  Alabama         4.1   \n",
       "\n",
       "   num_of_reviews  \n",
       "0              18  \n",
       "1              78  \n",
       "2              26  \n",
       "3              17  \n",
       "4              48  "
      ]
     },
     "execution_count": 172,
     "metadata": {},
     "output_type": "execute_result"
    }
   ],
   "source": [
    "google.head()"
   ]
  },
  {
   "cell_type": "code",
   "execution_count": 173,
   "metadata": {},
   "outputs": [
    {
     "data": {
      "text/html": [
       "<div>\n",
       "<style scoped>\n",
       "    .dataframe tbody tr th:only-of-type {\n",
       "        vertical-align: middle;\n",
       "    }\n",
       "\n",
       "    .dataframe tbody tr th {\n",
       "        vertical-align: top;\n",
       "    }\n",
       "\n",
       "    .dataframe thead th {\n",
       "        text-align: right;\n",
       "    }\n",
       "</style>\n",
       "<table border=\"1\" class=\"dataframe\">\n",
       "  <thead>\n",
       "    <tr style=\"text-align: right;\">\n",
       "      <th></th>\n",
       "      <th>Latitud</th>\n",
       "      <th>Longitud</th>\n",
       "      <th>Categoria</th>\n",
       "      <th>Nombre_Franquicia</th>\n",
       "      <th>Nombre_Estado</th>\n",
       "      <th>Promedio_Rating</th>\n",
       "      <th>Cantidad_Reviews</th>\n",
       "    </tr>\n",
       "  </thead>\n",
       "  <tbody>\n",
       "    <tr>\n",
       "      <th>0</th>\n",
       "      <td>33.381416</td>\n",
       "      <td>-86.807040</td>\n",
       "      <td>Pizza restaurant</td>\n",
       "      <td>California Pizza Kitchen at Riverchase Galleria</td>\n",
       "      <td>Alabama</td>\n",
       "      <td>4.1</td>\n",
       "      <td>18</td>\n",
       "    </tr>\n",
       "    <tr>\n",
       "      <th>1</th>\n",
       "      <td>33.100547</td>\n",
       "      <td>-86.861968</td>\n",
       "      <td>Pizza delivery, Chicken wings restaurant, Pizz...</td>\n",
       "      <td>Pizza Hut</td>\n",
       "      <td>Alabama</td>\n",
       "      <td>3.2</td>\n",
       "      <td>78</td>\n",
       "    </tr>\n",
       "    <tr>\n",
       "      <th>2</th>\n",
       "      <td>32.631013</td>\n",
       "      <td>-85.437473</td>\n",
       "      <td>Asian fusion restaurant, Dessert restaurant</td>\n",
       "      <td>Cheetos</td>\n",
       "      <td>Alabama</td>\n",
       "      <td>4.0</td>\n",
       "      <td>26</td>\n",
       "    </tr>\n",
       "    <tr>\n",
       "      <th>3</th>\n",
       "      <td>34.843859</td>\n",
       "      <td>-86.711656</td>\n",
       "      <td>Fast food restaurant, Breakfast restaurant, Bu...</td>\n",
       "      <td>Taco Bell</td>\n",
       "      <td>Alabama</td>\n",
       "      <td>3.0</td>\n",
       "      <td>17</td>\n",
       "    </tr>\n",
       "    <tr>\n",
       "      <th>4</th>\n",
       "      <td>34.681722</td>\n",
       "      <td>-85.681300</td>\n",
       "      <td>American restaurant</td>\n",
       "      <td>Doris Jean's Country Kitchen</td>\n",
       "      <td>Alabama</td>\n",
       "      <td>4.1</td>\n",
       "      <td>48</td>\n",
       "    </tr>\n",
       "  </tbody>\n",
       "</table>\n",
       "</div>"
      ],
      "text/plain": [
       "     Latitud   Longitud                                          Categoria  \\\n",
       "0  33.381416 -86.807040                                   Pizza restaurant   \n",
       "1  33.100547 -86.861968  Pizza delivery, Chicken wings restaurant, Pizz...   \n",
       "2  32.631013 -85.437473        Asian fusion restaurant, Dessert restaurant   \n",
       "3  34.843859 -86.711656  Fast food restaurant, Breakfast restaurant, Bu...   \n",
       "4  34.681722 -85.681300                                American restaurant   \n",
       "\n",
       "                                 Nombre_Franquicia Nombre_Estado  \\\n",
       "0  California Pizza Kitchen at Riverchase Galleria       Alabama   \n",
       "1                                        Pizza Hut       Alabama   \n",
       "2                                          Cheetos       Alabama   \n",
       "3                                        Taco Bell       Alabama   \n",
       "4                     Doris Jean's Country Kitchen       Alabama   \n",
       "\n",
       "   Promedio_Rating  Cantidad_Reviews  \n",
       "0              4.1                18  \n",
       "1              3.2                78  \n",
       "2              4.0                26  \n",
       "3              3.0                17  \n",
       "4              4.1                48  "
      ]
     },
     "execution_count": 173,
     "metadata": {},
     "output_type": "execute_result"
    }
   ],
   "source": [
    "# Cambiar nombres\n",
    "google.rename(columns={'latitude' : 'Latitud', 'longitude' : 'Longitud', 'category' : 'Categoria', 'name' : 'Nombre_Franquicia', 'Estado' : 'Nombre_Estado', 'avg_rating' : 'Promedio_Rating', 'num_of_reviews' : 'Cantidad_Reviews'},\n",
    "              inplace=True)\n",
    "google.head()"
   ]
  },
  {
   "cell_type": "code",
   "execution_count": 174,
   "metadata": {},
   "outputs": [],
   "source": [
    "# cargo estados\n",
    "Estados = pd.read_csv('silver/Estados.csv')"
   ]
  },
  {
   "cell_type": "code",
   "execution_count": 175,
   "metadata": {},
   "outputs": [
    {
     "data": {
      "text/html": [
       "<div>\n",
       "<style scoped>\n",
       "    .dataframe tbody tr th:only-of-type {\n",
       "        vertical-align: middle;\n",
       "    }\n",
       "\n",
       "    .dataframe tbody tr th {\n",
       "        vertical-align: top;\n",
       "    }\n",
       "\n",
       "    .dataframe thead th {\n",
       "        text-align: right;\n",
       "    }\n",
       "</style>\n",
       "<table border=\"1\" class=\"dataframe\">\n",
       "  <thead>\n",
       "    <tr style=\"text-align: right;\">\n",
       "      <th></th>\n",
       "      <th>Id_Estado</th>\n",
       "      <th>Nombre_Estado</th>\n",
       "      <th>Total_Poblacion</th>\n",
       "      <th>Categoria_Densidad</th>\n",
       "    </tr>\n",
       "  </thead>\n",
       "  <tbody>\n",
       "    <tr>\n",
       "      <th>0</th>\n",
       "      <td>1</td>\n",
       "      <td>Alabama</td>\n",
       "      <td>5039877</td>\n",
       "      <td>Mediana</td>\n",
       "    </tr>\n",
       "    <tr>\n",
       "      <th>1</th>\n",
       "      <td>2</td>\n",
       "      <td>Alaska</td>\n",
       "      <td>732673</td>\n",
       "      <td>Baja</td>\n",
       "    </tr>\n",
       "  </tbody>\n",
       "</table>\n",
       "</div>"
      ],
      "text/plain": [
       "   Id_Estado Nombre_Estado  Total_Poblacion Categoria_Densidad\n",
       "0          1       Alabama          5039877            Mediana\n",
       "1          2        Alaska           732673               Baja"
      ]
     },
     "execution_count": 175,
     "metadata": {},
     "output_type": "execute_result"
    }
   ],
   "source": [
    "Estados.head(2)"
   ]
  },
  {
   "cell_type": "code",
   "execution_count": 176,
   "metadata": {},
   "outputs": [
    {
     "data": {
      "text/plain": [
       "51"
      ]
     },
     "execution_count": 176,
     "metadata": {},
     "output_type": "execute_result"
    }
   ],
   "source": [
    "Estados.Nombre_Estado.nunique()"
   ]
  },
  {
   "cell_type": "code",
   "execution_count": 177,
   "metadata": {},
   "outputs": [
    {
     "data": {
      "text/plain": [
       "array(['Alabama', 'Alaska', 'Arizona', 'Arkansas', 'California',\n",
       "       'Colorado', 'Connecticut', 'Delaware', 'District of Columbia',\n",
       "       'Florida', 'Georgia', 'Hawaii', 'Idaho', 'Illinois', 'Indiana',\n",
       "       'Iowa', 'Kansas', 'Kentucky', 'Louisiana', 'Maine', 'Maryland',\n",
       "       'Massachusetts', 'Michigan', 'Minnesota', 'Mississippi',\n",
       "       'Missouri', 'Montana', 'Nebraska', 'Nevada', 'New Hampshire',\n",
       "       'New Jersey', 'New Mexico', 'New York', 'North Carolina',\n",
       "       'North Dakota', 'Ohio', 'Oklahoma', 'Oregon', 'Pennsylvania',\n",
       "       'Rhode Island', 'South Carolina', 'South Dakota', 'Tennessee',\n",
       "       'Texas', 'Utah', 'Vermont', 'Virginia', 'Washington',\n",
       "       'West Virginia', 'Wisconsin', 'Wyoming'], dtype=object)"
      ]
     },
     "execution_count": 177,
     "metadata": {},
     "output_type": "execute_result"
    }
   ],
   "source": [
    "# del dataset estado muestro los nombre_estado\n",
    "Estados.Nombre_Estado.unique()"
   ]
  },
  {
   "cell_type": "code",
   "execution_count": 178,
   "metadata": {},
   "outputs": [
    {
     "data": {
      "text/plain": [
       "48"
      ]
     },
     "execution_count": 178,
     "metadata": {},
     "output_type": "execute_result"
    }
   ],
   "source": [
    "google.Nombre_Estado.nunique()"
   ]
  },
  {
   "cell_type": "code",
   "execution_count": 179,
   "metadata": {},
   "outputs": [
    {
     "data": {
      "text/plain": [
       "array(['Alabama', 'Alaska', 'Arizona', 'Arkansas', 'California',\n",
       "       'Colorado', 'Connecticut', 'Delaware', 'District_of_Columbia',\n",
       "       'Florida', 'Georgia', 'Hawaii', 'Idaho', 'Illinois', 'Indiana',\n",
       "       'Iowa', 'Kansas', 'Kentucky', 'Louisiana', 'Maine', 'Maryland',\n",
       "       'Massachusetts', 'Michigan', 'Minnesota', 'Mississippi',\n",
       "       'Missouri', 'Montana', 'Nebraska', 'Nevada', 'New_Hampshire',\n",
       "       'New_Jersey', 'New_Mexico', 'New_York', 'North_Carolina',\n",
       "       'North_Dakota', 'Ohio', 'Oklahoma', 'Oregon', 'Pennsylvania',\n",
       "       'Rhode_Island', 'South_Carolina', 'South_Dakota', 'Tennessee',\n",
       "       'Texas', 'Utah', 'Vermont', 'Virginia', 'Washington'], dtype=object)"
      ]
     },
     "execution_count": 179,
     "metadata": {},
     "output_type": "execute_result"
    }
   ],
   "source": [
    "google.Nombre_Estado.unique()"
   ]
  },
  {
   "cell_type": "code",
   "execution_count": 180,
   "metadata": {},
   "outputs": [],
   "source": [
    "# Reemplazar guiones bajos por espacios en la columna \"Nombre_Estado\"\n",
    "google['Nombre_Estado'] = google['Nombre_Estado'].str.replace('_', ' ')"
   ]
  },
  {
   "cell_type": "code",
   "execution_count": 181,
   "metadata": {},
   "outputs": [
    {
     "data": {
      "text/plain": [
       "array(['Alabama', 'Alaska', 'Arizona', 'Arkansas', 'California',\n",
       "       'Colorado', 'Connecticut', 'Delaware', 'District of Columbia',\n",
       "       'Florida', 'Georgia', 'Hawaii', 'Idaho', 'Illinois', 'Indiana',\n",
       "       'Iowa', 'Kansas', 'Kentucky', 'Louisiana', 'Maine', 'Maryland',\n",
       "       'Massachusetts', 'Michigan', 'Minnesota', 'Mississippi',\n",
       "       'Missouri', 'Montana', 'Nebraska', 'Nevada', 'New Hampshire',\n",
       "       'New Jersey', 'New Mexico', 'New York', 'North Carolina',\n",
       "       'North Dakota', 'Ohio', 'Oklahoma', 'Oregon', 'Pennsylvania',\n",
       "       'Rhode Island', 'South Carolina', 'South Dakota', 'Tennessee',\n",
       "       'Texas', 'Utah', 'Vermont', 'Virginia', 'Washington'], dtype=object)"
      ]
     },
     "execution_count": 181,
     "metadata": {},
     "output_type": "execute_result"
    }
   ],
   "source": [
    "google.Nombre_Estado.unique()"
   ]
  },
  {
   "cell_type": "code",
   "execution_count": 182,
   "metadata": {},
   "outputs": [
    {
     "data": {
      "text/html": [
       "<div>\n",
       "<style scoped>\n",
       "    .dataframe tbody tr th:only-of-type {\n",
       "        vertical-align: middle;\n",
       "    }\n",
       "\n",
       "    .dataframe tbody tr th {\n",
       "        vertical-align: top;\n",
       "    }\n",
       "\n",
       "    .dataframe thead th {\n",
       "        text-align: right;\n",
       "    }\n",
       "</style>\n",
       "<table border=\"1\" class=\"dataframe\">\n",
       "  <thead>\n",
       "    <tr style=\"text-align: right;\">\n",
       "      <th></th>\n",
       "      <th>Latitud</th>\n",
       "      <th>Longitud</th>\n",
       "      <th>Categoria</th>\n",
       "      <th>Nombre_Franquicia</th>\n",
       "      <th>Nombre_Estado</th>\n",
       "      <th>Promedio_Rating</th>\n",
       "      <th>Cantidad_Reviews</th>\n",
       "      <th>Id_Estado</th>\n",
       "    </tr>\n",
       "  </thead>\n",
       "  <tbody>\n",
       "    <tr>\n",
       "      <th>0</th>\n",
       "      <td>33.381416</td>\n",
       "      <td>-86.807040</td>\n",
       "      <td>Pizza restaurant</td>\n",
       "      <td>California Pizza Kitchen at Riverchase Galleria</td>\n",
       "      <td>Alabama</td>\n",
       "      <td>4.1</td>\n",
       "      <td>18</td>\n",
       "      <td>1</td>\n",
       "    </tr>\n",
       "    <tr>\n",
       "      <th>1</th>\n",
       "      <td>33.100547</td>\n",
       "      <td>-86.861968</td>\n",
       "      <td>Pizza delivery, Chicken wings restaurant, Pizz...</td>\n",
       "      <td>Pizza Hut</td>\n",
       "      <td>Alabama</td>\n",
       "      <td>3.2</td>\n",
       "      <td>78</td>\n",
       "      <td>1</td>\n",
       "    </tr>\n",
       "    <tr>\n",
       "      <th>2</th>\n",
       "      <td>32.631013</td>\n",
       "      <td>-85.437473</td>\n",
       "      <td>Asian fusion restaurant, Dessert restaurant</td>\n",
       "      <td>Cheetos</td>\n",
       "      <td>Alabama</td>\n",
       "      <td>4.0</td>\n",
       "      <td>26</td>\n",
       "      <td>1</td>\n",
       "    </tr>\n",
       "    <tr>\n",
       "      <th>3</th>\n",
       "      <td>34.843859</td>\n",
       "      <td>-86.711656</td>\n",
       "      <td>Fast food restaurant, Breakfast restaurant, Bu...</td>\n",
       "      <td>Taco Bell</td>\n",
       "      <td>Alabama</td>\n",
       "      <td>3.0</td>\n",
       "      <td>17</td>\n",
       "      <td>1</td>\n",
       "    </tr>\n",
       "    <tr>\n",
       "      <th>4</th>\n",
       "      <td>34.681722</td>\n",
       "      <td>-85.681300</td>\n",
       "      <td>American restaurant</td>\n",
       "      <td>Doris Jean's Country Kitchen</td>\n",
       "      <td>Alabama</td>\n",
       "      <td>4.1</td>\n",
       "      <td>48</td>\n",
       "      <td>1</td>\n",
       "    </tr>\n",
       "  </tbody>\n",
       "</table>\n",
       "</div>"
      ],
      "text/plain": [
       "     Latitud   Longitud                                          Categoria  \\\n",
       "0  33.381416 -86.807040                                   Pizza restaurant   \n",
       "1  33.100547 -86.861968  Pizza delivery, Chicken wings restaurant, Pizz...   \n",
       "2  32.631013 -85.437473        Asian fusion restaurant, Dessert restaurant   \n",
       "3  34.843859 -86.711656  Fast food restaurant, Breakfast restaurant, Bu...   \n",
       "4  34.681722 -85.681300                                American restaurant   \n",
       "\n",
       "                                 Nombre_Franquicia Nombre_Estado  \\\n",
       "0  California Pizza Kitchen at Riverchase Galleria       Alabama   \n",
       "1                                        Pizza Hut       Alabama   \n",
       "2                                          Cheetos       Alabama   \n",
       "3                                        Taco Bell       Alabama   \n",
       "4                     Doris Jean's Country Kitchen       Alabama   \n",
       "\n",
       "   Promedio_Rating  Cantidad_Reviews  Id_Estado  \n",
       "0              4.1                18          1  \n",
       "1              3.2                78          1  \n",
       "2              4.0                26          1  \n",
       "3              3.0                17          1  \n",
       "4              4.1                48          1  "
      ]
     },
     "execution_count": 182,
     "metadata": {},
     "output_type": "execute_result"
    }
   ],
   "source": [
    "# creo una columna nueva id_estado relacionada con el dataset estado\n",
    "google = google.merge(Estados[['Id_Estado', 'Nombre_Estado']], on='Nombre_Estado', how='left')\n",
    "google.head()"
   ]
  },
  {
   "cell_type": "code",
   "execution_count": 183,
   "metadata": {},
   "outputs": [],
   "source": [
    "# Agregar una columna \"id\" autoincremental\n",
    "google['Id_Local'] = range(1, len(google) + 1)"
   ]
  },
  {
   "cell_type": "code",
   "execution_count": 184,
   "metadata": {},
   "outputs": [
    {
     "data": {
      "text/html": [
       "<div>\n",
       "<style scoped>\n",
       "    .dataframe tbody tr th:only-of-type {\n",
       "        vertical-align: middle;\n",
       "    }\n",
       "\n",
       "    .dataframe tbody tr th {\n",
       "        vertical-align: top;\n",
       "    }\n",
       "\n",
       "    .dataframe thead th {\n",
       "        text-align: right;\n",
       "    }\n",
       "</style>\n",
       "<table border=\"1\" class=\"dataframe\">\n",
       "  <thead>\n",
       "    <tr style=\"text-align: right;\">\n",
       "      <th></th>\n",
       "      <th>Latitud</th>\n",
       "      <th>Longitud</th>\n",
       "      <th>Categoria</th>\n",
       "      <th>Nombre_Franquicia</th>\n",
       "      <th>Nombre_Estado</th>\n",
       "      <th>Promedio_Rating</th>\n",
       "      <th>Cantidad_Reviews</th>\n",
       "      <th>Id_Estado</th>\n",
       "      <th>Id_Local</th>\n",
       "    </tr>\n",
       "  </thead>\n",
       "  <tbody>\n",
       "    <tr>\n",
       "      <th>0</th>\n",
       "      <td>33.381416</td>\n",
       "      <td>-86.807040</td>\n",
       "      <td>Pizza restaurant</td>\n",
       "      <td>California Pizza Kitchen at Riverchase Galleria</td>\n",
       "      <td>Alabama</td>\n",
       "      <td>4.1</td>\n",
       "      <td>18</td>\n",
       "      <td>1</td>\n",
       "      <td>1</td>\n",
       "    </tr>\n",
       "    <tr>\n",
       "      <th>1</th>\n",
       "      <td>33.100547</td>\n",
       "      <td>-86.861968</td>\n",
       "      <td>Pizza delivery, Chicken wings restaurant, Pizz...</td>\n",
       "      <td>Pizza Hut</td>\n",
       "      <td>Alabama</td>\n",
       "      <td>3.2</td>\n",
       "      <td>78</td>\n",
       "      <td>1</td>\n",
       "      <td>2</td>\n",
       "    </tr>\n",
       "    <tr>\n",
       "      <th>2</th>\n",
       "      <td>32.631013</td>\n",
       "      <td>-85.437473</td>\n",
       "      <td>Asian fusion restaurant, Dessert restaurant</td>\n",
       "      <td>Cheetos</td>\n",
       "      <td>Alabama</td>\n",
       "      <td>4.0</td>\n",
       "      <td>26</td>\n",
       "      <td>1</td>\n",
       "      <td>3</td>\n",
       "    </tr>\n",
       "    <tr>\n",
       "      <th>3</th>\n",
       "      <td>34.843859</td>\n",
       "      <td>-86.711656</td>\n",
       "      <td>Fast food restaurant, Breakfast restaurant, Bu...</td>\n",
       "      <td>Taco Bell</td>\n",
       "      <td>Alabama</td>\n",
       "      <td>3.0</td>\n",
       "      <td>17</td>\n",
       "      <td>1</td>\n",
       "      <td>4</td>\n",
       "    </tr>\n",
       "    <tr>\n",
       "      <th>4</th>\n",
       "      <td>34.681722</td>\n",
       "      <td>-85.681300</td>\n",
       "      <td>American restaurant</td>\n",
       "      <td>Doris Jean's Country Kitchen</td>\n",
       "      <td>Alabama</td>\n",
       "      <td>4.1</td>\n",
       "      <td>48</td>\n",
       "      <td>1</td>\n",
       "      <td>5</td>\n",
       "    </tr>\n",
       "  </tbody>\n",
       "</table>\n",
       "</div>"
      ],
      "text/plain": [
       "     Latitud   Longitud                                          Categoria  \\\n",
       "0  33.381416 -86.807040                                   Pizza restaurant   \n",
       "1  33.100547 -86.861968  Pizza delivery, Chicken wings restaurant, Pizz...   \n",
       "2  32.631013 -85.437473        Asian fusion restaurant, Dessert restaurant   \n",
       "3  34.843859 -86.711656  Fast food restaurant, Breakfast restaurant, Bu...   \n",
       "4  34.681722 -85.681300                                American restaurant   \n",
       "\n",
       "                                 Nombre_Franquicia Nombre_Estado  \\\n",
       "0  California Pizza Kitchen at Riverchase Galleria       Alabama   \n",
       "1                                        Pizza Hut       Alabama   \n",
       "2                                          Cheetos       Alabama   \n",
       "3                                        Taco Bell       Alabama   \n",
       "4                     Doris Jean's Country Kitchen       Alabama   \n",
       "\n",
       "   Promedio_Rating  Cantidad_Reviews  Id_Estado  Id_Local  \n",
       "0              4.1                18          1         1  \n",
       "1              3.2                78          1         2  \n",
       "2              4.0                26          1         3  \n",
       "3              3.0                17          1         4  \n",
       "4              4.1                48          1         5  "
      ]
     },
     "execution_count": 184,
     "metadata": {},
     "output_type": "execute_result"
    }
   ],
   "source": [
    "google.head()"
   ]
  },
  {
   "cell_type": "code",
   "execution_count": 185,
   "metadata": {},
   "outputs": [
    {
     "data": {
      "text/html": [
       "<div>\n",
       "<style scoped>\n",
       "    .dataframe tbody tr th:only-of-type {\n",
       "        vertical-align: middle;\n",
       "    }\n",
       "\n",
       "    .dataframe tbody tr th {\n",
       "        vertical-align: top;\n",
       "    }\n",
       "\n",
       "    .dataframe thead th {\n",
       "        text-align: right;\n",
       "    }\n",
       "</style>\n",
       "<table border=\"1\" class=\"dataframe\">\n",
       "  <thead>\n",
       "    <tr style=\"text-align: right;\">\n",
       "      <th></th>\n",
       "      <th>Id_Local</th>\n",
       "      <th>Nombre_Franquicia</th>\n",
       "      <th>Latitud</th>\n",
       "      <th>Longitud</th>\n",
       "      <th>Categoria</th>\n",
       "      <th>Promedio_Rating</th>\n",
       "      <th>Cantidad_Reviews</th>\n",
       "      <th>Id_Estado</th>\n",
       "      <th>Nombre_Estado</th>\n",
       "    </tr>\n",
       "  </thead>\n",
       "  <tbody>\n",
       "    <tr>\n",
       "      <th>0</th>\n",
       "      <td>1</td>\n",
       "      <td>California Pizza Kitchen at Riverchase Galleria</td>\n",
       "      <td>33.381416</td>\n",
       "      <td>-86.807040</td>\n",
       "      <td>Pizza restaurant</td>\n",
       "      <td>4.1</td>\n",
       "      <td>18</td>\n",
       "      <td>1</td>\n",
       "      <td>Alabama</td>\n",
       "    </tr>\n",
       "    <tr>\n",
       "      <th>1</th>\n",
       "      <td>2</td>\n",
       "      <td>Pizza Hut</td>\n",
       "      <td>33.100547</td>\n",
       "      <td>-86.861968</td>\n",
       "      <td>Pizza delivery, Chicken wings restaurant, Pizz...</td>\n",
       "      <td>3.2</td>\n",
       "      <td>78</td>\n",
       "      <td>1</td>\n",
       "      <td>Alabama</td>\n",
       "    </tr>\n",
       "    <tr>\n",
       "      <th>2</th>\n",
       "      <td>3</td>\n",
       "      <td>Cheetos</td>\n",
       "      <td>32.631013</td>\n",
       "      <td>-85.437473</td>\n",
       "      <td>Asian fusion restaurant, Dessert restaurant</td>\n",
       "      <td>4.0</td>\n",
       "      <td>26</td>\n",
       "      <td>1</td>\n",
       "      <td>Alabama</td>\n",
       "    </tr>\n",
       "    <tr>\n",
       "      <th>3</th>\n",
       "      <td>4</td>\n",
       "      <td>Taco Bell</td>\n",
       "      <td>34.843859</td>\n",
       "      <td>-86.711656</td>\n",
       "      <td>Fast food restaurant, Breakfast restaurant, Bu...</td>\n",
       "      <td>3.0</td>\n",
       "      <td>17</td>\n",
       "      <td>1</td>\n",
       "      <td>Alabama</td>\n",
       "    </tr>\n",
       "    <tr>\n",
       "      <th>4</th>\n",
       "      <td>5</td>\n",
       "      <td>Doris Jean's Country Kitchen</td>\n",
       "      <td>34.681722</td>\n",
       "      <td>-85.681300</td>\n",
       "      <td>American restaurant</td>\n",
       "      <td>4.1</td>\n",
       "      <td>48</td>\n",
       "      <td>1</td>\n",
       "      <td>Alabama</td>\n",
       "    </tr>\n",
       "  </tbody>\n",
       "</table>\n",
       "</div>"
      ],
      "text/plain": [
       "   Id_Local                                Nombre_Franquicia    Latitud  \\\n",
       "0         1  California Pizza Kitchen at Riverchase Galleria  33.381416   \n",
       "1         2                                        Pizza Hut  33.100547   \n",
       "2         3                                          Cheetos  32.631013   \n",
       "3         4                                        Taco Bell  34.843859   \n",
       "4         5                     Doris Jean's Country Kitchen  34.681722   \n",
       "\n",
       "    Longitud                                          Categoria  \\\n",
       "0 -86.807040                                   Pizza restaurant   \n",
       "1 -86.861968  Pizza delivery, Chicken wings restaurant, Pizz...   \n",
       "2 -85.437473        Asian fusion restaurant, Dessert restaurant   \n",
       "3 -86.711656  Fast food restaurant, Breakfast restaurant, Bu...   \n",
       "4 -85.681300                                American restaurant   \n",
       "\n",
       "   Promedio_Rating  Cantidad_Reviews  Id_Estado Nombre_Estado  \n",
       "0              4.1                18          1       Alabama  \n",
       "1              3.2                78          1       Alabama  \n",
       "2              4.0                26          1       Alabama  \n",
       "3              3.0                17          1       Alabama  \n",
       "4              4.1                48          1       Alabama  "
      ]
     },
     "execution_count": 185,
     "metadata": {},
     "output_type": "execute_result"
    }
   ],
   "source": [
    "#reorganizar las columnas \n",
    "google = google[['Id_Local', 'Nombre_Franquicia', 'Latitud', 'Longitud', 'Categoria','Promedio_Rating','Cantidad_Reviews','Id_Estado', 'Nombre_Estado']]\n",
    "#reinicio los indices\n",
    "google.reset_index(drop=True).head()"
   ]
  },
  {
   "cell_type": "code",
   "execution_count": 186,
   "metadata": {},
   "outputs": [
    {
     "name": "stdout",
     "output_type": "stream",
     "text": [
      "<class 'pandas.core.frame.DataFrame'>\n",
      "Int64Index: 95059 entries, 0 to 95058\n",
      "Data columns (total 9 columns):\n",
      " #   Column             Non-Null Count  Dtype  \n",
      "---  ------             --------------  -----  \n",
      " 0   Id_Local           95059 non-null  int64  \n",
      " 1   Nombre_Franquicia  95059 non-null  object \n",
      " 2   Latitud            95059 non-null  float64\n",
      " 3   Longitud           95059 non-null  float64\n",
      " 4   Categoria          95059 non-null  object \n",
      " 5   Promedio_Rating    95059 non-null  float64\n",
      " 6   Cantidad_Reviews   95059 non-null  int64  \n",
      " 7   Id_Estado          95059 non-null  int64  \n",
      " 8   Nombre_Estado      95059 non-null  object \n",
      "dtypes: float64(3), int64(3), object(3)\n",
      "memory usage: 7.3+ MB\n"
     ]
    }
   ],
   "source": [
    "google.info()"
   ]
  },
  {
   "cell_type": "code",
   "execution_count": 187,
   "metadata": {},
   "outputs": [],
   "source": [
    "#guardo Estados\n",
    "google.to_csv('silver/Google_Final.csv',index=False)"
   ]
  },
  {
   "cell_type": "markdown",
   "metadata": {},
   "source": [
    "### Yelp"
   ]
  },
  {
   "cell_type": "code",
   "execution_count": 188,
   "metadata": {},
   "outputs": [],
   "source": [
    "yelp = pd.read_csv('bronze/Yelp.csv')"
   ]
  },
  {
   "cell_type": "code",
   "execution_count": 189,
   "metadata": {},
   "outputs": [
    {
     "data": {
      "text/html": [
       "<div>\n",
       "<style scoped>\n",
       "    .dataframe tbody tr th:only-of-type {\n",
       "        vertical-align: middle;\n",
       "    }\n",
       "\n",
       "    .dataframe tbody tr th {\n",
       "        vertical-align: top;\n",
       "    }\n",
       "\n",
       "    .dataframe thead th {\n",
       "        text-align: right;\n",
       "    }\n",
       "</style>\n",
       "<table border=\"1\" class=\"dataframe\">\n",
       "  <thead>\n",
       "    <tr style=\"text-align: right;\">\n",
       "      <th></th>\n",
       "      <th>Unnamed: 0</th>\n",
       "      <th>text</th>\n",
       "      <th>latitude</th>\n",
       "      <th>longitude</th>\n",
       "    </tr>\n",
       "  </thead>\n",
       "  <tbody>\n",
       "    <tr>\n",
       "      <th>0</th>\n",
       "      <td>0</td>\n",
       "      <td>Avengers time with the ladies.</td>\n",
       "      <td>32.224841</td>\n",
       "      <td>-110.916351</td>\n",
       "    </tr>\n",
       "    <tr>\n",
       "      <th>1</th>\n",
       "      <td>1</td>\n",
       "      <td>The Dark Knight Rises in XD! I don't know what...</td>\n",
       "      <td>32.224841</td>\n",
       "      <td>-110.916351</td>\n",
       "    </tr>\n",
       "    <tr>\n",
       "      <th>2</th>\n",
       "      <td>2</td>\n",
       "      <td>Cleanliness matters....I just sat down to watc...</td>\n",
       "      <td>32.224841</td>\n",
       "      <td>-110.916351</td>\n",
       "    </tr>\n",
       "    <tr>\n",
       "      <th>3</th>\n",
       "      <td>3</td>\n",
       "      <td>Early bird gets the worm!</td>\n",
       "      <td>32.224841</td>\n",
       "      <td>-110.916351</td>\n",
       "    </tr>\n",
       "    <tr>\n",
       "      <th>4</th>\n",
       "      <td>4</td>\n",
       "      <td>Brand new seats!</td>\n",
       "      <td>32.224841</td>\n",
       "      <td>-110.916351</td>\n",
       "    </tr>\n",
       "  </tbody>\n",
       "</table>\n",
       "</div>"
      ],
      "text/plain": [
       "   Unnamed: 0                                               text   latitude  \\\n",
       "0           0                     Avengers time with the ladies.  32.224841   \n",
       "1           1  The Dark Knight Rises in XD! I don't know what...  32.224841   \n",
       "2           2  Cleanliness matters....I just sat down to watc...  32.224841   \n",
       "3           3                          Early bird gets the worm!  32.224841   \n",
       "4           4                                   Brand new seats!  32.224841   \n",
       "\n",
       "    longitude  \n",
       "0 -110.916351  \n",
       "1 -110.916351  \n",
       "2 -110.916351  \n",
       "3 -110.916351  \n",
       "4 -110.916351  "
      ]
     },
     "execution_count": 189,
     "metadata": {},
     "output_type": "execute_result"
    }
   ],
   "source": [
    "yelp.head()"
   ]
  },
  {
   "cell_type": "code",
   "execution_count": 190,
   "metadata": {},
   "outputs": [
    {
     "name": "stdout",
     "output_type": "stream",
     "text": [
      "<class 'pandas.core.frame.DataFrame'>\n",
      "RangeIndex: 908915 entries, 0 to 908914\n",
      "Data columns (total 4 columns):\n",
      " #   Column      Non-Null Count   Dtype  \n",
      "---  ------      --------------   -----  \n",
      " 0   Unnamed: 0  908915 non-null  int64  \n",
      " 1   text        908910 non-null  object \n",
      " 2   latitude    908915 non-null  float64\n",
      " 3   longitude   908915 non-null  float64\n",
      "dtypes: float64(2), int64(1), object(1)\n",
      "memory usage: 27.7+ MB\n"
     ]
    }
   ],
   "source": [
    "yelp.info()"
   ]
  },
  {
   "cell_type": "code",
   "execution_count": 191,
   "metadata": {},
   "outputs": [],
   "source": [
    "#elimino columna\n",
    "yelp.drop(columns=['Unnamed: 0'], inplace = True)"
   ]
  },
  {
   "cell_type": "code",
   "execution_count": 192,
   "metadata": {},
   "outputs": [
    {
     "data": {
      "text/plain": [
       "Index(['text', 'latitude', 'longitude'], dtype='object')"
      ]
     },
     "execution_count": 192,
     "metadata": {},
     "output_type": "execute_result"
    }
   ],
   "source": [
    "#observo las columnas\n",
    "yelp.columns"
   ]
  },
  {
   "cell_type": "code",
   "execution_count": 193,
   "metadata": {},
   "outputs": [],
   "source": [
    "#borra la fila con valores faltantes\n",
    "yelp.dropna(inplace = True)"
   ]
  },
  {
   "cell_type": "code",
   "execution_count": 194,
   "metadata": {},
   "outputs": [
    {
     "name": "stdout",
     "output_type": "stream",
     "text": [
      "<class 'pandas.core.frame.DataFrame'>\n",
      "Int64Index: 908910 entries, 0 to 908914\n",
      "Data columns (total 3 columns):\n",
      " #   Column     Non-Null Count   Dtype  \n",
      "---  ------     --------------   -----  \n",
      " 0   text       908910 non-null  object \n",
      " 1   latitude   908910 non-null  float64\n",
      " 2   longitude  908910 non-null  float64\n",
      "dtypes: float64(2), object(1)\n",
      "memory usage: 27.7+ MB\n"
     ]
    }
   ],
   "source": [
    "yelp.info()"
   ]
  },
  {
   "cell_type": "code",
   "execution_count": 195,
   "metadata": {},
   "outputs": [
    {
     "data": {
      "text/html": [
       "<div>\n",
       "<style scoped>\n",
       "    .dataframe tbody tr th:only-of-type {\n",
       "        vertical-align: middle;\n",
       "    }\n",
       "\n",
       "    .dataframe tbody tr th {\n",
       "        vertical-align: top;\n",
       "    }\n",
       "\n",
       "    .dataframe thead th {\n",
       "        text-align: right;\n",
       "    }\n",
       "</style>\n",
       "<table border=\"1\" class=\"dataframe\">\n",
       "  <thead>\n",
       "    <tr style=\"text-align: right;\">\n",
       "      <th></th>\n",
       "      <th>Comentario</th>\n",
       "      <th>Latitud</th>\n",
       "      <th>Longitud</th>\n",
       "    </tr>\n",
       "  </thead>\n",
       "  <tbody>\n",
       "    <tr>\n",
       "      <th>0</th>\n",
       "      <td>Avengers time with the ladies.</td>\n",
       "      <td>32.224841</td>\n",
       "      <td>-110.916351</td>\n",
       "    </tr>\n",
       "    <tr>\n",
       "      <th>1</th>\n",
       "      <td>The Dark Knight Rises in XD! I don't know what...</td>\n",
       "      <td>32.224841</td>\n",
       "      <td>-110.916351</td>\n",
       "    </tr>\n",
       "    <tr>\n",
       "      <th>2</th>\n",
       "      <td>Cleanliness matters....I just sat down to watc...</td>\n",
       "      <td>32.224841</td>\n",
       "      <td>-110.916351</td>\n",
       "    </tr>\n",
       "    <tr>\n",
       "      <th>3</th>\n",
       "      <td>Early bird gets the worm!</td>\n",
       "      <td>32.224841</td>\n",
       "      <td>-110.916351</td>\n",
       "    </tr>\n",
       "    <tr>\n",
       "      <th>4</th>\n",
       "      <td>Brand new seats!</td>\n",
       "      <td>32.224841</td>\n",
       "      <td>-110.916351</td>\n",
       "    </tr>\n",
       "  </tbody>\n",
       "</table>\n",
       "</div>"
      ],
      "text/plain": [
       "                                          Comentario    Latitud    Longitud\n",
       "0                     Avengers time with the ladies.  32.224841 -110.916351\n",
       "1  The Dark Knight Rises in XD! I don't know what...  32.224841 -110.916351\n",
       "2  Cleanliness matters....I just sat down to watc...  32.224841 -110.916351\n",
       "3                          Early bird gets the worm!  32.224841 -110.916351\n",
       "4                                   Brand new seats!  32.224841 -110.916351"
      ]
     },
     "execution_count": 195,
     "metadata": {},
     "output_type": "execute_result"
    }
   ],
   "source": [
    "# Cambiar nombres\n",
    "yelp.rename(columns={'text' : 'Comentario','latitude' : 'Latitud', 'longitude' : 'Longitud'},inplace=True)\n",
    "yelp.head()"
   ]
  },
  {
   "cell_type": "code",
   "execution_count": 196,
   "metadata": {},
   "outputs": [
    {
     "data": {
      "text/html": [
       "<div>\n",
       "<style scoped>\n",
       "    .dataframe tbody tr th:only-of-type {\n",
       "        vertical-align: middle;\n",
       "    }\n",
       "\n",
       "    .dataframe tbody tr th {\n",
       "        vertical-align: top;\n",
       "    }\n",
       "\n",
       "    .dataframe thead th {\n",
       "        text-align: right;\n",
       "    }\n",
       "</style>\n",
       "<table border=\"1\" class=\"dataframe\">\n",
       "  <thead>\n",
       "    <tr style=\"text-align: right;\">\n",
       "      <th></th>\n",
       "      <th>Latitud</th>\n",
       "      <th>Longitud</th>\n",
       "      <th>Comentario</th>\n",
       "    </tr>\n",
       "  </thead>\n",
       "  <tbody>\n",
       "    <tr>\n",
       "      <th>0</th>\n",
       "      <td>32.224841</td>\n",
       "      <td>-110.916351</td>\n",
       "      <td>Avengers time with the ladies.</td>\n",
       "    </tr>\n",
       "    <tr>\n",
       "      <th>1</th>\n",
       "      <td>32.224841</td>\n",
       "      <td>-110.916351</td>\n",
       "      <td>The Dark Knight Rises in XD! I don't know what...</td>\n",
       "    </tr>\n",
       "    <tr>\n",
       "      <th>2</th>\n",
       "      <td>32.224841</td>\n",
       "      <td>-110.916351</td>\n",
       "      <td>Cleanliness matters....I just sat down to watc...</td>\n",
       "    </tr>\n",
       "    <tr>\n",
       "      <th>3</th>\n",
       "      <td>32.224841</td>\n",
       "      <td>-110.916351</td>\n",
       "      <td>Early bird gets the worm!</td>\n",
       "    </tr>\n",
       "    <tr>\n",
       "      <th>4</th>\n",
       "      <td>32.224841</td>\n",
       "      <td>-110.916351</td>\n",
       "      <td>Brand new seats!</td>\n",
       "    </tr>\n",
       "  </tbody>\n",
       "</table>\n",
       "</div>"
      ],
      "text/plain": [
       "     Latitud    Longitud                                         Comentario\n",
       "0  32.224841 -110.916351                     Avengers time with the ladies.\n",
       "1  32.224841 -110.916351  The Dark Knight Rises in XD! I don't know what...\n",
       "2  32.224841 -110.916351  Cleanliness matters....I just sat down to watc...\n",
       "3  32.224841 -110.916351                          Early bird gets the worm!\n",
       "4  32.224841 -110.916351                                   Brand new seats!"
      ]
     },
     "execution_count": 196,
     "metadata": {},
     "output_type": "execute_result"
    }
   ],
   "source": [
    "#reorganizar las columnas \n",
    "yelp = yelp[['Latitud', 'Longitud', 'Comentario']]\n",
    "#reinicio los indices\n",
    "yelp.reset_index(drop=True).head()"
   ]
  },
  {
   "cell_type": "code",
   "execution_count": 197,
   "metadata": {},
   "outputs": [
    {
     "name": "stdout",
     "output_type": "stream",
     "text": [
      "<class 'pandas.core.frame.DataFrame'>\n",
      "Int64Index: 908910 entries, 0 to 908914\n",
      "Data columns (total 3 columns):\n",
      " #   Column      Non-Null Count   Dtype  \n",
      "---  ------      --------------   -----  \n",
      " 0   Latitud     908910 non-null  float64\n",
      " 1   Longitud    908910 non-null  float64\n",
      " 2   Comentario  908910 non-null  object \n",
      "dtypes: float64(2), object(1)\n",
      "memory usage: 27.7+ MB\n"
     ]
    }
   ],
   "source": [
    "yelp.info()"
   ]
  },
  {
   "cell_type": "code",
   "execution_count": 198,
   "metadata": {},
   "outputs": [
    {
     "data": {
      "text/plain": [
       "3141"
      ]
     },
     "execution_count": 198,
     "metadata": {},
     "output_type": "execute_result"
    }
   ],
   "source": [
    "# cantidad de duplicados\n",
    "yelp.duplicated().sum()"
   ]
  },
  {
   "cell_type": "code",
   "execution_count": 199,
   "metadata": {},
   "outputs": [],
   "source": [
    "#elimina duplicados \n",
    "yelp.drop_duplicates(inplace=True)"
   ]
  },
  {
   "cell_type": "code",
   "execution_count": 200,
   "metadata": {},
   "outputs": [
    {
     "data": {
      "text/plain": [
       "0"
      ]
     },
     "execution_count": 200,
     "metadata": {},
     "output_type": "execute_result"
    }
   ],
   "source": [
    "# cantidad de duplicados\n",
    "yelp.duplicated().sum()"
   ]
  },
  {
   "cell_type": "code",
   "execution_count": 201,
   "metadata": {},
   "outputs": [],
   "source": [
    "#guardo dataset resultante\n",
    "yelp.to_csv('silver/Yelp_Final.csv',index=False)"
   ]
  },
  {
   "cell_type": "markdown",
   "metadata": {},
   "source": [
    "### Reviews (Dataset_final)"
   ]
  },
  {
   "cell_type": "code",
   "execution_count": 202,
   "metadata": {},
   "outputs": [],
   "source": [
    "Google_Final = pd.read_csv('silver/Google_Final.csv')"
   ]
  },
  {
   "cell_type": "code",
   "execution_count": 203,
   "metadata": {},
   "outputs": [
    {
     "name": "stdout",
     "output_type": "stream",
     "text": [
      "<class 'pandas.core.frame.DataFrame'>\n",
      "RangeIndex: 95059 entries, 0 to 95058\n",
      "Data columns (total 9 columns):\n",
      " #   Column             Non-Null Count  Dtype  \n",
      "---  ------             --------------  -----  \n",
      " 0   Id_Local           95059 non-null  int64  \n",
      " 1   Nombre_Franquicia  95059 non-null  object \n",
      " 2   Latitud            95059 non-null  float64\n",
      " 3   Longitud           95059 non-null  float64\n",
      " 4   Categoria          95059 non-null  object \n",
      " 5   Promedio_Rating    95059 non-null  float64\n",
      " 6   Cantidad_Reviews   95059 non-null  int64  \n",
      " 7   Id_Estado          95059 non-null  int64  \n",
      " 8   Nombre_Estado      95059 non-null  object \n",
      "dtypes: float64(3), int64(3), object(3)\n",
      "memory usage: 6.5+ MB\n"
     ]
    }
   ],
   "source": [
    "Google_Final.info()"
   ]
  },
  {
   "cell_type": "code",
   "execution_count": 204,
   "metadata": {},
   "outputs": [
    {
     "data": {
      "text/html": [
       "<div>\n",
       "<style scoped>\n",
       "    .dataframe tbody tr th:only-of-type {\n",
       "        vertical-align: middle;\n",
       "    }\n",
       "\n",
       "    .dataframe tbody tr th {\n",
       "        vertical-align: top;\n",
       "    }\n",
       "\n",
       "    .dataframe thead th {\n",
       "        text-align: right;\n",
       "    }\n",
       "</style>\n",
       "<table border=\"1\" class=\"dataframe\">\n",
       "  <thead>\n",
       "    <tr style=\"text-align: right;\">\n",
       "      <th></th>\n",
       "      <th>Id_Local</th>\n",
       "      <th>Nombre_Franquicia</th>\n",
       "      <th>Latitud</th>\n",
       "      <th>Longitud</th>\n",
       "      <th>Categoria</th>\n",
       "      <th>Promedio_Rating</th>\n",
       "      <th>Cantidad_Reviews</th>\n",
       "      <th>Id_Estado</th>\n",
       "      <th>Nombre_Estado</th>\n",
       "    </tr>\n",
       "  </thead>\n",
       "  <tbody>\n",
       "    <tr>\n",
       "      <th>0</th>\n",
       "      <td>1</td>\n",
       "      <td>California Pizza Kitchen at Riverchase Galleria</td>\n",
       "      <td>33.381416</td>\n",
       "      <td>-86.807040</td>\n",
       "      <td>Pizza restaurant</td>\n",
       "      <td>4.1</td>\n",
       "      <td>18</td>\n",
       "      <td>1</td>\n",
       "      <td>Alabama</td>\n",
       "    </tr>\n",
       "    <tr>\n",
       "      <th>1</th>\n",
       "      <td>2</td>\n",
       "      <td>Pizza Hut</td>\n",
       "      <td>33.100547</td>\n",
       "      <td>-86.861968</td>\n",
       "      <td>Pizza delivery, Chicken wings restaurant, Pizz...</td>\n",
       "      <td>3.2</td>\n",
       "      <td>78</td>\n",
       "      <td>1</td>\n",
       "      <td>Alabama</td>\n",
       "    </tr>\n",
       "    <tr>\n",
       "      <th>2</th>\n",
       "      <td>3</td>\n",
       "      <td>Cheetos</td>\n",
       "      <td>32.631013</td>\n",
       "      <td>-85.437473</td>\n",
       "      <td>Asian fusion restaurant, Dessert restaurant</td>\n",
       "      <td>4.0</td>\n",
       "      <td>26</td>\n",
       "      <td>1</td>\n",
       "      <td>Alabama</td>\n",
       "    </tr>\n",
       "    <tr>\n",
       "      <th>3</th>\n",
       "      <td>4</td>\n",
       "      <td>Taco Bell</td>\n",
       "      <td>34.843859</td>\n",
       "      <td>-86.711656</td>\n",
       "      <td>Fast food restaurant, Breakfast restaurant, Bu...</td>\n",
       "      <td>3.0</td>\n",
       "      <td>17</td>\n",
       "      <td>1</td>\n",
       "      <td>Alabama</td>\n",
       "    </tr>\n",
       "    <tr>\n",
       "      <th>4</th>\n",
       "      <td>5</td>\n",
       "      <td>Doris Jean's Country Kitchen</td>\n",
       "      <td>34.681722</td>\n",
       "      <td>-85.681300</td>\n",
       "      <td>American restaurant</td>\n",
       "      <td>4.1</td>\n",
       "      <td>48</td>\n",
       "      <td>1</td>\n",
       "      <td>Alabama</td>\n",
       "    </tr>\n",
       "  </tbody>\n",
       "</table>\n",
       "</div>"
      ],
      "text/plain": [
       "   Id_Local                                Nombre_Franquicia    Latitud  \\\n",
       "0         1  California Pizza Kitchen at Riverchase Galleria  33.381416   \n",
       "1         2                                        Pizza Hut  33.100547   \n",
       "2         3                                          Cheetos  32.631013   \n",
       "3         4                                        Taco Bell  34.843859   \n",
       "4         5                     Doris Jean's Country Kitchen  34.681722   \n",
       "\n",
       "    Longitud                                          Categoria  \\\n",
       "0 -86.807040                                   Pizza restaurant   \n",
       "1 -86.861968  Pizza delivery, Chicken wings restaurant, Pizz...   \n",
       "2 -85.437473        Asian fusion restaurant, Dessert restaurant   \n",
       "3 -86.711656  Fast food restaurant, Breakfast restaurant, Bu...   \n",
       "4 -85.681300                                American restaurant   \n",
       "\n",
       "   Promedio_Rating  Cantidad_Reviews  Id_Estado Nombre_Estado  \n",
       "0              4.1                18          1       Alabama  \n",
       "1              3.2                78          1       Alabama  \n",
       "2              4.0                26          1       Alabama  \n",
       "3              3.0                17          1       Alabama  \n",
       "4              4.1                48          1       Alabama  "
      ]
     },
     "execution_count": 204,
     "metadata": {},
     "output_type": "execute_result"
    }
   ],
   "source": [
    "Google_Final.head()"
   ]
  },
  {
   "cell_type": "code",
   "execution_count": 205,
   "metadata": {},
   "outputs": [],
   "source": [
    "Yelp_Final = pd.read_csv('silver/Yelp_Final.csv')"
   ]
  },
  {
   "cell_type": "code",
   "execution_count": 206,
   "metadata": {},
   "outputs": [
    {
     "name": "stdout",
     "output_type": "stream",
     "text": [
      "<class 'pandas.core.frame.DataFrame'>\n",
      "RangeIndex: 905769 entries, 0 to 905768\n",
      "Data columns (total 3 columns):\n",
      " #   Column      Non-Null Count   Dtype  \n",
      "---  ------      --------------   -----  \n",
      " 0   Latitud     905769 non-null  float64\n",
      " 1   Longitud    905769 non-null  float64\n",
      " 2   Comentario  905769 non-null  object \n",
      "dtypes: float64(2), object(1)\n",
      "memory usage: 20.7+ MB\n"
     ]
    }
   ],
   "source": [
    "Yelp_Final.info()"
   ]
  },
  {
   "cell_type": "code",
   "execution_count": 207,
   "metadata": {},
   "outputs": [
    {
     "data": {
      "text/html": [
       "<div>\n",
       "<style scoped>\n",
       "    .dataframe tbody tr th:only-of-type {\n",
       "        vertical-align: middle;\n",
       "    }\n",
       "\n",
       "    .dataframe tbody tr th {\n",
       "        vertical-align: top;\n",
       "    }\n",
       "\n",
       "    .dataframe thead th {\n",
       "        text-align: right;\n",
       "    }\n",
       "</style>\n",
       "<table border=\"1\" class=\"dataframe\">\n",
       "  <thead>\n",
       "    <tr style=\"text-align: right;\">\n",
       "      <th></th>\n",
       "      <th>Latitud</th>\n",
       "      <th>Longitud</th>\n",
       "      <th>Comentario</th>\n",
       "    </tr>\n",
       "  </thead>\n",
       "  <tbody>\n",
       "    <tr>\n",
       "      <th>0</th>\n",
       "      <td>32.224841</td>\n",
       "      <td>-110.916351</td>\n",
       "      <td>Avengers time with the ladies.</td>\n",
       "    </tr>\n",
       "    <tr>\n",
       "      <th>1</th>\n",
       "      <td>32.224841</td>\n",
       "      <td>-110.916351</td>\n",
       "      <td>The Dark Knight Rises in XD! I don't know what...</td>\n",
       "    </tr>\n",
       "    <tr>\n",
       "      <th>2</th>\n",
       "      <td>32.224841</td>\n",
       "      <td>-110.916351</td>\n",
       "      <td>Cleanliness matters....I just sat down to watc...</td>\n",
       "    </tr>\n",
       "    <tr>\n",
       "      <th>3</th>\n",
       "      <td>32.224841</td>\n",
       "      <td>-110.916351</td>\n",
       "      <td>Early bird gets the worm!</td>\n",
       "    </tr>\n",
       "    <tr>\n",
       "      <th>4</th>\n",
       "      <td>32.224841</td>\n",
       "      <td>-110.916351</td>\n",
       "      <td>Brand new seats!</td>\n",
       "    </tr>\n",
       "  </tbody>\n",
       "</table>\n",
       "</div>"
      ],
      "text/plain": [
       "     Latitud    Longitud                                         Comentario\n",
       "0  32.224841 -110.916351                     Avengers time with the ladies.\n",
       "1  32.224841 -110.916351  The Dark Knight Rises in XD! I don't know what...\n",
       "2  32.224841 -110.916351  Cleanliness matters....I just sat down to watc...\n",
       "3  32.224841 -110.916351                          Early bird gets the worm!\n",
       "4  32.224841 -110.916351                                   Brand new seats!"
      ]
     },
     "execution_count": 207,
     "metadata": {},
     "output_type": "execute_result"
    }
   ],
   "source": [
    "Yelp_Final.head()"
   ]
  },
  {
   "cell_type": "code",
   "execution_count": 217,
   "metadata": {},
   "outputs": [],
   "source": [
    "# unir los dos dataframe\n",
    "Reviews = Google_Final.merge(Yelp_Final, on=[\"Latitud\",\"Longitud\"], how='left')"
   ]
  },
  {
   "cell_type": "code",
   "execution_count": 218,
   "metadata": {},
   "outputs": [
    {
     "name": "stdout",
     "output_type": "stream",
     "text": [
      "<class 'pandas.core.frame.DataFrame'>\n",
      "Int64Index: 103029 entries, 0 to 103028\n",
      "Data columns (total 10 columns):\n",
      " #   Column             Non-Null Count   Dtype  \n",
      "---  ------             --------------   -----  \n",
      " 0   Id_Local           103029 non-null  int64  \n",
      " 1   Nombre_Franquicia  103029 non-null  object \n",
      " 2   Latitud            103029 non-null  float64\n",
      " 3   Longitud           103029 non-null  float64\n",
      " 4   Categoria          103029 non-null  object \n",
      " 5   Promedio_Rating    103029 non-null  float64\n",
      " 6   Cantidad_Reviews   103029 non-null  int64  \n",
      " 7   Id_Estado          103029 non-null  int64  \n",
      " 8   Nombre_Estado      103029 non-null  object \n",
      " 9   Comentario         8592 non-null    object \n",
      "dtypes: float64(3), int64(3), object(4)\n",
      "memory usage: 8.6+ MB\n"
     ]
    }
   ],
   "source": [
    "Reviews.info()"
   ]
  },
  {
   "cell_type": "code",
   "execution_count": 219,
   "metadata": {},
   "outputs": [
    {
     "data": {
      "text/html": [
       "<div>\n",
       "<style scoped>\n",
       "    .dataframe tbody tr th:only-of-type {\n",
       "        vertical-align: middle;\n",
       "    }\n",
       "\n",
       "    .dataframe tbody tr th {\n",
       "        vertical-align: top;\n",
       "    }\n",
       "\n",
       "    .dataframe thead th {\n",
       "        text-align: right;\n",
       "    }\n",
       "</style>\n",
       "<table border=\"1\" class=\"dataframe\">\n",
       "  <thead>\n",
       "    <tr style=\"text-align: right;\">\n",
       "      <th></th>\n",
       "      <th>Id_Reviews</th>\n",
       "      <th>Nombre_Franquicia</th>\n",
       "      <th>Latitud</th>\n",
       "      <th>Longitud</th>\n",
       "      <th>Categoria</th>\n",
       "      <th>Promedio_Rating</th>\n",
       "      <th>Cantidad_Reviews</th>\n",
       "      <th>Id_Estado</th>\n",
       "      <th>Nombre_Estado</th>\n",
       "      <th>Comentario</th>\n",
       "    </tr>\n",
       "  </thead>\n",
       "  <tbody>\n",
       "    <tr>\n",
       "      <th>0</th>\n",
       "      <td>1</td>\n",
       "      <td>California Pizza Kitchen at Riverchase Galleria</td>\n",
       "      <td>33.381416</td>\n",
       "      <td>-86.807040</td>\n",
       "      <td>Pizza restaurant</td>\n",
       "      <td>4.1</td>\n",
       "      <td>18</td>\n",
       "      <td>1</td>\n",
       "      <td>Alabama</td>\n",
       "      <td>NaN</td>\n",
       "    </tr>\n",
       "    <tr>\n",
       "      <th>1</th>\n",
       "      <td>2</td>\n",
       "      <td>Pizza Hut</td>\n",
       "      <td>33.100547</td>\n",
       "      <td>-86.861968</td>\n",
       "      <td>Pizza delivery, Chicken wings restaurant, Pizz...</td>\n",
       "      <td>3.2</td>\n",
       "      <td>78</td>\n",
       "      <td>1</td>\n",
       "      <td>Alabama</td>\n",
       "      <td>NaN</td>\n",
       "    </tr>\n",
       "    <tr>\n",
       "      <th>2</th>\n",
       "      <td>3</td>\n",
       "      <td>Cheetos</td>\n",
       "      <td>32.631013</td>\n",
       "      <td>-85.437473</td>\n",
       "      <td>Asian fusion restaurant, Dessert restaurant</td>\n",
       "      <td>4.0</td>\n",
       "      <td>26</td>\n",
       "      <td>1</td>\n",
       "      <td>Alabama</td>\n",
       "      <td>NaN</td>\n",
       "    </tr>\n",
       "    <tr>\n",
       "      <th>3</th>\n",
       "      <td>4</td>\n",
       "      <td>Taco Bell</td>\n",
       "      <td>34.843859</td>\n",
       "      <td>-86.711656</td>\n",
       "      <td>Fast food restaurant, Breakfast restaurant, Bu...</td>\n",
       "      <td>3.0</td>\n",
       "      <td>17</td>\n",
       "      <td>1</td>\n",
       "      <td>Alabama</td>\n",
       "      <td>NaN</td>\n",
       "    </tr>\n",
       "    <tr>\n",
       "      <th>4</th>\n",
       "      <td>5</td>\n",
       "      <td>Doris Jean's Country Kitchen</td>\n",
       "      <td>34.681722</td>\n",
       "      <td>-85.681300</td>\n",
       "      <td>American restaurant</td>\n",
       "      <td>4.1</td>\n",
       "      <td>48</td>\n",
       "      <td>1</td>\n",
       "      <td>Alabama</td>\n",
       "      <td>NaN</td>\n",
       "    </tr>\n",
       "  </tbody>\n",
       "</table>\n",
       "</div>"
      ],
      "text/plain": [
       "   Id_Reviews                                Nombre_Franquicia    Latitud  \\\n",
       "0           1  California Pizza Kitchen at Riverchase Galleria  33.381416   \n",
       "1           2                                        Pizza Hut  33.100547   \n",
       "2           3                                          Cheetos  32.631013   \n",
       "3           4                                        Taco Bell  34.843859   \n",
       "4           5                     Doris Jean's Country Kitchen  34.681722   \n",
       "\n",
       "    Longitud                                          Categoria  \\\n",
       "0 -86.807040                                   Pizza restaurant   \n",
       "1 -86.861968  Pizza delivery, Chicken wings restaurant, Pizz...   \n",
       "2 -85.437473        Asian fusion restaurant, Dessert restaurant   \n",
       "3 -86.711656  Fast food restaurant, Breakfast restaurant, Bu...   \n",
       "4 -85.681300                                American restaurant   \n",
       "\n",
       "   Promedio_Rating  Cantidad_Reviews  Id_Estado Nombre_Estado Comentario  \n",
       "0              4.1                18          1       Alabama        NaN  \n",
       "1              3.2                78          1       Alabama        NaN  \n",
       "2              4.0                26          1       Alabama        NaN  \n",
       "3              3.0                17          1       Alabama        NaN  \n",
       "4              4.1                48          1       Alabama        NaN  "
      ]
     },
     "execution_count": 219,
     "metadata": {},
     "output_type": "execute_result"
    }
   ],
   "source": [
    "# Cambiar nombres\n",
    "Reviews.rename(columns={'Id_Local' : 'Id_Reviews'},inplace=True)\n",
    "Reviews.head()"
   ]
  },
  {
   "cell_type": "code",
   "execution_count": 220,
   "metadata": {},
   "outputs": [
    {
     "data": {
      "text/plain": [
       "0"
      ]
     },
     "execution_count": 220,
     "metadata": {},
     "output_type": "execute_result"
    }
   ],
   "source": [
    "#cantidad de duplicados\n",
    "Reviews.duplicated().sum()"
   ]
  },
  {
   "cell_type": "code",
   "execution_count": 221,
   "metadata": {},
   "outputs": [],
   "source": [
    "#cambiar na por sin comentario\n",
    "Reviews['Comentario'].fillna('sin comentario', inplace=True)"
   ]
  },
  {
   "cell_type": "code",
   "execution_count": 222,
   "metadata": {},
   "outputs": [
    {
     "data": {
      "text/html": [
       "<div>\n",
       "<style scoped>\n",
       "    .dataframe tbody tr th:only-of-type {\n",
       "        vertical-align: middle;\n",
       "    }\n",
       "\n",
       "    .dataframe tbody tr th {\n",
       "        vertical-align: top;\n",
       "    }\n",
       "\n",
       "    .dataframe thead th {\n",
       "        text-align: right;\n",
       "    }\n",
       "</style>\n",
       "<table border=\"1\" class=\"dataframe\">\n",
       "  <thead>\n",
       "    <tr style=\"text-align: right;\">\n",
       "      <th></th>\n",
       "      <th>Id_Reviews</th>\n",
       "      <th>Nombre_Franquicia</th>\n",
       "      <th>Latitud</th>\n",
       "      <th>Longitud</th>\n",
       "      <th>Categoria</th>\n",
       "      <th>Promedio_Rating</th>\n",
       "      <th>Cantidad_Reviews</th>\n",
       "      <th>Comentario</th>\n",
       "      <th>Id_Estado</th>\n",
       "      <th>Nombre_Estado</th>\n",
       "    </tr>\n",
       "  </thead>\n",
       "  <tbody>\n",
       "    <tr>\n",
       "      <th>0</th>\n",
       "      <td>1</td>\n",
       "      <td>California Pizza Kitchen at Riverchase Galleria</td>\n",
       "      <td>33.381416</td>\n",
       "      <td>-86.807040</td>\n",
       "      <td>Pizza restaurant</td>\n",
       "      <td>4.1</td>\n",
       "      <td>18</td>\n",
       "      <td>sin comentario</td>\n",
       "      <td>1</td>\n",
       "      <td>Alabama</td>\n",
       "    </tr>\n",
       "    <tr>\n",
       "      <th>1</th>\n",
       "      <td>2</td>\n",
       "      <td>Pizza Hut</td>\n",
       "      <td>33.100547</td>\n",
       "      <td>-86.861968</td>\n",
       "      <td>Pizza delivery, Chicken wings restaurant, Pizz...</td>\n",
       "      <td>3.2</td>\n",
       "      <td>78</td>\n",
       "      <td>sin comentario</td>\n",
       "      <td>1</td>\n",
       "      <td>Alabama</td>\n",
       "    </tr>\n",
       "    <tr>\n",
       "      <th>2</th>\n",
       "      <td>3</td>\n",
       "      <td>Cheetos</td>\n",
       "      <td>32.631013</td>\n",
       "      <td>-85.437473</td>\n",
       "      <td>Asian fusion restaurant, Dessert restaurant</td>\n",
       "      <td>4.0</td>\n",
       "      <td>26</td>\n",
       "      <td>sin comentario</td>\n",
       "      <td>1</td>\n",
       "      <td>Alabama</td>\n",
       "    </tr>\n",
       "    <tr>\n",
       "      <th>3</th>\n",
       "      <td>4</td>\n",
       "      <td>Taco Bell</td>\n",
       "      <td>34.843859</td>\n",
       "      <td>-86.711656</td>\n",
       "      <td>Fast food restaurant, Breakfast restaurant, Bu...</td>\n",
       "      <td>3.0</td>\n",
       "      <td>17</td>\n",
       "      <td>sin comentario</td>\n",
       "      <td>1</td>\n",
       "      <td>Alabama</td>\n",
       "    </tr>\n",
       "    <tr>\n",
       "      <th>4</th>\n",
       "      <td>5</td>\n",
       "      <td>Doris Jean's Country Kitchen</td>\n",
       "      <td>34.681722</td>\n",
       "      <td>-85.681300</td>\n",
       "      <td>American restaurant</td>\n",
       "      <td>4.1</td>\n",
       "      <td>48</td>\n",
       "      <td>sin comentario</td>\n",
       "      <td>1</td>\n",
       "      <td>Alabama</td>\n",
       "    </tr>\n",
       "  </tbody>\n",
       "</table>\n",
       "</div>"
      ],
      "text/plain": [
       "   Id_Reviews                                Nombre_Franquicia    Latitud  \\\n",
       "0           1  California Pizza Kitchen at Riverchase Galleria  33.381416   \n",
       "1           2                                        Pizza Hut  33.100547   \n",
       "2           3                                          Cheetos  32.631013   \n",
       "3           4                                        Taco Bell  34.843859   \n",
       "4           5                     Doris Jean's Country Kitchen  34.681722   \n",
       "\n",
       "    Longitud                                          Categoria  \\\n",
       "0 -86.807040                                   Pizza restaurant   \n",
       "1 -86.861968  Pizza delivery, Chicken wings restaurant, Pizz...   \n",
       "2 -85.437473        Asian fusion restaurant, Dessert restaurant   \n",
       "3 -86.711656  Fast food restaurant, Breakfast restaurant, Bu...   \n",
       "4 -85.681300                                American restaurant   \n",
       "\n",
       "   Promedio_Rating  Cantidad_Reviews      Comentario  Id_Estado Nombre_Estado  \n",
       "0              4.1                18  sin comentario          1       Alabama  \n",
       "1              3.2                78  sin comentario          1       Alabama  \n",
       "2              4.0                26  sin comentario          1       Alabama  \n",
       "3              3.0                17  sin comentario          1       Alabama  \n",
       "4              4.1                48  sin comentario          1       Alabama  "
      ]
     },
     "execution_count": 222,
     "metadata": {},
     "output_type": "execute_result"
    }
   ],
   "source": [
    "#reorganizar las columnas \n",
    "Reviews = Reviews[['Id_Reviews', 'Nombre_Franquicia', 'Latitud', 'Longitud', 'Categoria','Promedio_Rating','Cantidad_Reviews', 'Comentario', 'Id_Estado', 'Nombre_Estado']]\n",
    "#reinicio los indices\n",
    "Reviews.reset_index(drop=True).head()"
   ]
  },
  {
   "cell_type": "code",
   "execution_count": 223,
   "metadata": {},
   "outputs": [
    {
     "name": "stdout",
     "output_type": "stream",
     "text": [
      "<class 'pandas.core.frame.DataFrame'>\n",
      "Int64Index: 103029 entries, 0 to 103028\n",
      "Data columns (total 10 columns):\n",
      " #   Column             Non-Null Count   Dtype  \n",
      "---  ------             --------------   -----  \n",
      " 0   Id_Reviews         103029 non-null  int64  \n",
      " 1   Nombre_Franquicia  103029 non-null  object \n",
      " 2   Latitud            103029 non-null  float64\n",
      " 3   Longitud           103029 non-null  float64\n",
      " 4   Categoria          103029 non-null  object \n",
      " 5   Promedio_Rating    103029 non-null  float64\n",
      " 6   Cantidad_Reviews   103029 non-null  int64  \n",
      " 7   Comentario         103029 non-null  object \n",
      " 8   Id_Estado          103029 non-null  int64  \n",
      " 9   Nombre_Estado      103029 non-null  object \n",
      "dtypes: float64(3), int64(3), object(4)\n",
      "memory usage: 8.6+ MB\n"
     ]
    }
   ],
   "source": [
    "Reviews.info()"
   ]
  },
  {
   "cell_type": "code",
   "execution_count": 224,
   "metadata": {},
   "outputs": [
    {
     "name": "stdout",
     "output_type": "stream",
     "text": [
      "<class 'pandas.core.frame.DataFrame'>\n",
      "RangeIndex: 939 entries, 0 to 938\n",
      "Data columns (total 6 columns):\n",
      " #   Column             Non-Null Count  Dtype  \n",
      "---  ------             --------------  -----  \n",
      " 0   Id_Franquicia      939 non-null    int64  \n",
      " 1   Nombre_Franquicia  939 non-null    object \n",
      " 2   Min_Inversion      939 non-null    float64\n",
      " 3   Max_Inversion      939 non-null    float64\n",
      " 4   Año_Fundado        939 non-null    int64  \n",
      " 5   Unidades           939 non-null    int64  \n",
      "dtypes: float64(2), int64(3), object(1)\n",
      "memory usage: 44.1+ KB\n"
     ]
    }
   ],
   "source": [
    "#cargo franquicias\n",
    "franquicias = pd.read_csv('silver/Franquicias_Inversion.csv')\n",
    "franquicias.info()"
   ]
  },
  {
   "cell_type": "code",
   "execution_count": 225,
   "metadata": {},
   "outputs": [
    {
     "data": {
      "text/html": [
       "<div>\n",
       "<style scoped>\n",
       "    .dataframe tbody tr th:only-of-type {\n",
       "        vertical-align: middle;\n",
       "    }\n",
       "\n",
       "    .dataframe tbody tr th {\n",
       "        vertical-align: top;\n",
       "    }\n",
       "\n",
       "    .dataframe thead th {\n",
       "        text-align: right;\n",
       "    }\n",
       "</style>\n",
       "<table border=\"1\" class=\"dataframe\">\n",
       "  <thead>\n",
       "    <tr style=\"text-align: right;\">\n",
       "      <th></th>\n",
       "      <th>Id_Reviews</th>\n",
       "      <th>Nombre_Franquicia</th>\n",
       "      <th>Latitud</th>\n",
       "      <th>Longitud</th>\n",
       "      <th>Categoria</th>\n",
       "      <th>Promedio_Rating</th>\n",
       "      <th>Cantidad_Reviews</th>\n",
       "      <th>Comentario</th>\n",
       "      <th>Id_Estado</th>\n",
       "      <th>Nombre_Estado</th>\n",
       "      <th>Id_Franquicia</th>\n",
       "    </tr>\n",
       "  </thead>\n",
       "  <tbody>\n",
       "    <tr>\n",
       "      <th>0</th>\n",
       "      <td>1</td>\n",
       "      <td>California Pizza Kitchen at Riverchase Galleria</td>\n",
       "      <td>33.381416</td>\n",
       "      <td>-86.807040</td>\n",
       "      <td>Pizza restaurant</td>\n",
       "      <td>4.1</td>\n",
       "      <td>18</td>\n",
       "      <td>sin comentario</td>\n",
       "      <td>1</td>\n",
       "      <td>Alabama</td>\n",
       "      <td>NaN</td>\n",
       "    </tr>\n",
       "    <tr>\n",
       "      <th>1</th>\n",
       "      <td>2</td>\n",
       "      <td>Pizza Hut</td>\n",
       "      <td>33.100547</td>\n",
       "      <td>-86.861968</td>\n",
       "      <td>Pizza delivery, Chicken wings restaurant, Pizz...</td>\n",
       "      <td>3.2</td>\n",
       "      <td>78</td>\n",
       "      <td>sin comentario</td>\n",
       "      <td>1</td>\n",
       "      <td>Alabama</td>\n",
       "      <td>NaN</td>\n",
       "    </tr>\n",
       "    <tr>\n",
       "      <th>2</th>\n",
       "      <td>3</td>\n",
       "      <td>Cheetos</td>\n",
       "      <td>32.631013</td>\n",
       "      <td>-85.437473</td>\n",
       "      <td>Asian fusion restaurant, Dessert restaurant</td>\n",
       "      <td>4.0</td>\n",
       "      <td>26</td>\n",
       "      <td>sin comentario</td>\n",
       "      <td>1</td>\n",
       "      <td>Alabama</td>\n",
       "      <td>NaN</td>\n",
       "    </tr>\n",
       "    <tr>\n",
       "      <th>3</th>\n",
       "      <td>4</td>\n",
       "      <td>Taco Bell</td>\n",
       "      <td>34.843859</td>\n",
       "      <td>-86.711656</td>\n",
       "      <td>Fast food restaurant, Breakfast restaurant, Bu...</td>\n",
       "      <td>3.0</td>\n",
       "      <td>17</td>\n",
       "      <td>sin comentario</td>\n",
       "      <td>1</td>\n",
       "      <td>Alabama</td>\n",
       "      <td>NaN</td>\n",
       "    </tr>\n",
       "    <tr>\n",
       "      <th>4</th>\n",
       "      <td>5</td>\n",
       "      <td>Doris Jean's Country Kitchen</td>\n",
       "      <td>34.681722</td>\n",
       "      <td>-85.681300</td>\n",
       "      <td>American restaurant</td>\n",
       "      <td>4.1</td>\n",
       "      <td>48</td>\n",
       "      <td>sin comentario</td>\n",
       "      <td>1</td>\n",
       "      <td>Alabama</td>\n",
       "      <td>NaN</td>\n",
       "    </tr>\n",
       "  </tbody>\n",
       "</table>\n",
       "</div>"
      ],
      "text/plain": [
       "   Id_Reviews                                Nombre_Franquicia    Latitud  \\\n",
       "0           1  California Pizza Kitchen at Riverchase Galleria  33.381416   \n",
       "1           2                                        Pizza Hut  33.100547   \n",
       "2           3                                          Cheetos  32.631013   \n",
       "3           4                                        Taco Bell  34.843859   \n",
       "4           5                     Doris Jean's Country Kitchen  34.681722   \n",
       "\n",
       "    Longitud                                          Categoria  \\\n",
       "0 -86.807040                                   Pizza restaurant   \n",
       "1 -86.861968  Pizza delivery, Chicken wings restaurant, Pizz...   \n",
       "2 -85.437473        Asian fusion restaurant, Dessert restaurant   \n",
       "3 -86.711656  Fast food restaurant, Breakfast restaurant, Bu...   \n",
       "4 -85.681300                                American restaurant   \n",
       "\n",
       "   Promedio_Rating  Cantidad_Reviews      Comentario  Id_Estado Nombre_Estado  \\\n",
       "0              4.1                18  sin comentario          1       Alabama   \n",
       "1              3.2                78  sin comentario          1       Alabama   \n",
       "2              4.0                26  sin comentario          1       Alabama   \n",
       "3              3.0                17  sin comentario          1       Alabama   \n",
       "4              4.1                48  sin comentario          1       Alabama   \n",
       "\n",
       "   Id_Franquicia  \n",
       "0            NaN  \n",
       "1            NaN  \n",
       "2            NaN  \n",
       "3            NaN  \n",
       "4            NaN  "
      ]
     },
     "execution_count": 225,
     "metadata": {},
     "output_type": "execute_result"
    }
   ],
   "source": [
    "# creo una columna nueva id_estado relacionada con el dataset estado\n",
    "Reviews = Reviews.merge(franquicias[['Id_Franquicia', 'Nombre_Franquicia']], on='Nombre_Franquicia', how='left')\n",
    "Reviews.head()"
   ]
  },
  {
   "cell_type": "code",
   "execution_count": 226,
   "metadata": {},
   "outputs": [
    {
     "name": "stdout",
     "output_type": "stream",
     "text": [
      "<class 'pandas.core.frame.DataFrame'>\n",
      "Int64Index: 103029 entries, 0 to 103028\n",
      "Data columns (total 11 columns):\n",
      " #   Column             Non-Null Count   Dtype  \n",
      "---  ------             --------------   -----  \n",
      " 0   Id_Reviews         103029 non-null  int64  \n",
      " 1   Nombre_Franquicia  103029 non-null  object \n",
      " 2   Latitud            103029 non-null  float64\n",
      " 3   Longitud           103029 non-null  float64\n",
      " 4   Categoria          103029 non-null  object \n",
      " 5   Promedio_Rating    103029 non-null  float64\n",
      " 6   Cantidad_Reviews   103029 non-null  int64  \n",
      " 7   Comentario         103029 non-null  object \n",
      " 8   Id_Estado          103029 non-null  int64  \n",
      " 9   Nombre_Estado      103029 non-null  object \n",
      " 10  Id_Franquicia      15652 non-null   float64\n",
      "dtypes: float64(4), int64(3), object(4)\n",
      "memory usage: 9.4+ MB\n"
     ]
    }
   ],
   "source": [
    "Reviews.info()"
   ]
  },
  {
   "cell_type": "code",
   "execution_count": 227,
   "metadata": {},
   "outputs": [],
   "source": [
    "Reviews.to_csv('silver/Reviews_Completo.csv',index=False)"
   ]
  },
  {
   "cell_type": "markdown",
   "metadata": {},
   "source": [
    "### capa gold (dividir dataframe)"
   ]
  },
  {
   "cell_type": "code",
   "execution_count": 1,
   "metadata": {},
   "outputs": [],
   "source": [
    "import pandas as pd"
   ]
  },
  {
   "cell_type": "markdown",
   "metadata": {},
   "source": [
    "#### Review"
   ]
  },
  {
   "cell_type": "code",
   "execution_count": 228,
   "metadata": {},
   "outputs": [],
   "source": [
    "# 'reviews_completo'\n",
    "Reviews_Completo = pd.read_csv('silver/Reviews_Completo.csv')"
   ]
  },
  {
   "cell_type": "code",
   "execution_count": 238,
   "metadata": {},
   "outputs": [],
   "source": [
    "# Obtén la longitud total del DataFrame\n",
    "total_filas = len(Reviews_Completo)\n",
    "\n",
    "# Calcula la mitad del número total de filas\n",
    "mitad_filas = total_filas // 2\n",
    "\n",
    "# Divide el DataFrame en dos partes iguales\n",
    "Reviews_1 = Reviews_Completo.iloc[:mitad_filas]\n",
    "Reviews_2 = Reviews_Completo.iloc[mitad_filas:]\n",
    "\n",
    "# Opcionalmente, reiniciar los índices si es necesario\n",
    "Reviews_1.reset_index(drop=True, inplace=True)\n",
    "Reviews_2.reset_index(drop=True, inplace=True)"
   ]
  },
  {
   "cell_type": "code",
   "execution_count": 239,
   "metadata": {},
   "outputs": [],
   "source": [
    "Reviews_1.to_csv('gold/Reviews_1.csv',index=False)\n",
    "Reviews_2.to_csv('gold/Reviews_2.csv',index=False)"
   ]
  },
  {
   "cell_type": "markdown",
   "metadata": {},
   "source": [
    "#### estados"
   ]
  },
  {
   "cell_type": "code",
   "execution_count": 2,
   "metadata": {},
   "outputs": [],
   "source": [
    "# 'reviews_completo'\n",
    "Estados = pd.read_csv('silver/Estados.csv')"
   ]
  },
  {
   "cell_type": "code",
   "execution_count": 3,
   "metadata": {},
   "outputs": [],
   "source": [
    "# Obtén la longitud total del DataFrame\n",
    "total_filas = len(Estados)\n",
    "\n",
    "# Calcula la mitad del número total de filas\n",
    "mitad_filas = total_filas // 2\n",
    "\n",
    "# Divide el DataFrame en dos partes iguales\n",
    "Estados_1 = Estados.iloc[:mitad_filas]\n",
    "Estados_2 = Estados.iloc[mitad_filas:]\n",
    "\n",
    "# Opcionalmente, reiniciar los índices si es necesario\n",
    "Estados_1.reset_index(drop=True, inplace=True)\n",
    "Estados_2.reset_index(drop=True, inplace=True)"
   ]
  },
  {
   "cell_type": "code",
   "execution_count": 4,
   "metadata": {},
   "outputs": [],
   "source": [
    "Estados_1.to_csv('gold/Estados_1.csv',index=False)\n",
    "Estados_2.to_csv('gold/Estados_2.csv',index=False)"
   ]
  },
  {
   "cell_type": "markdown",
   "metadata": {},
   "source": [
    "#### franquicias"
   ]
  },
  {
   "cell_type": "code",
   "execution_count": 5,
   "metadata": {},
   "outputs": [],
   "source": [
    "# 'reviews_completo'\n",
    "Franquicias = pd.read_csv('silver/Franquicias_Inversion.csv')"
   ]
  },
  {
   "cell_type": "code",
   "execution_count": 6,
   "metadata": {},
   "outputs": [],
   "source": [
    "# Obtén la longitud total del DataFrame\n",
    "total_filas = len(Franquicias)\n",
    "\n",
    "# Calcula la mitad del número total de filas\n",
    "mitad_filas = total_filas // 2\n",
    "\n",
    "# Divide el DataFrame en dos partes iguales\n",
    "Franquicias_1 = Franquicias.iloc[:mitad_filas]\n",
    "Franquicias_2 = Franquicias.iloc[mitad_filas:]\n",
    "\n",
    "# Opcionalmente, reiniciar los índices si es necesario\n",
    "Franquicias_1.reset_index(drop=True, inplace=True)\n",
    "Franquicias_2.reset_index(drop=True, inplace=True)"
   ]
  },
  {
   "cell_type": "code",
   "execution_count": 7,
   "metadata": {},
   "outputs": [],
   "source": [
    "Franquicias_1.to_csv('gold/Franquicias_1.csv',index=False)\n",
    "Franquicias_2.to_csv('gold/Franquicias_2.csv',index=False)"
   ]
  }
 ],
 "metadata": {
  "kernelspec": {
   "display_name": "Python 3",
   "language": "python",
   "name": "python3"
  },
  "language_info": {
   "codemirror_mode": {
    "name": "ipython",
    "version": 3
   },
   "file_extension": ".py",
   "mimetype": "text/x-python",
   "name": "python",
   "nbconvert_exporter": "python",
   "pygments_lexer": "ipython3",
   "version": "3.10.11"
  },
  "orig_nbformat": 4
 },
 "nbformat": 4,
 "nbformat_minor": 2
}
