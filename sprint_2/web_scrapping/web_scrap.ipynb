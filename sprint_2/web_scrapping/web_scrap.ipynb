{
 "cells": [
  {
   "cell_type": "code",
   "execution_count": 11,
   "metadata": {},
   "outputs": [
    {
     "name": "stdout",
     "output_type": "stream",
     "text": [
      "            Nombre                Comida Principal  \\\n",
      "0  1.- McDonald´s   Comida Principal: Hamburguesas   \n",
      "1      2.- Dunkin´         Comida Principal: Donas   \n",
      "\n",
      "            Número de Franquicias al 2019 (estimado)  \\\n",
      "0                                  Número de Fran...   \n",
      "1                                  Número de Fran...   \n",
      "\n",
      "                          Inversión Inicial promedio  \\\n",
      "0                                  Inversión Inic...   \n",
      "1                                  Inversión Inic...   \n",
      "\n",
      "  Capital Líquido inicial necesario para calificar como Franquiciatario  \\\n",
      "0                                  Capital Líquid...                      \n",
      "1                                  Capital Líquid...                      \n",
      "\n",
      "                                       Cuota Inicial  \\\n",
      "0                                  Cuota Inicial:...   \n",
      "1                                  Cuota Inicial:...   \n",
      "\n",
      "                    Regalías por Ventas + Publicidad  \n",
      "0                                Regalías por Ven...  \n",
      "1                                Regalías por Ven...  \n"
     ]
    }
   ],
   "source": [
    "import requests\n",
    "from bs4 import BeautifulSoup\n",
    "import pandas as pd\n",
    "\n",
    "# URL de la página\n",
    "url = \"https://www.elosoberlin.com/franquicias.html\"\n",
    "\n",
    "# Realiza la solicitud GET con la codificación adecuada\n",
    "response = requests.get(url, headers={'Accept-Encoding': 'utf-8'})\n",
    "\n",
    "# Verifica si la solicitud fue exitosa\n",
    "if response.status_code == 200:\n",
    "    # Parsea el contenido con BeautifulSoup utilizando la codificación adecuada\n",
    "    soup = BeautifulSoup(response.content, \"html.parser\", from_encoding='utf-8')\n",
    "    \n",
    "    # Encuentra la lista con la clase \"list-icons list-unstyled\"\n",
    "    lista = soup.find(\"ul\", class_=\"list-icons list-unstyled\")\n",
    "    \n",
    "    # Comprueba si se encontró la lista\n",
    "    if lista:\n",
    "        # Encuentra todos los elementos de la lista\n",
    "        elementos = lista.find_all(\"li\")\n",
    "        \n",
    "        # Lista para almacenar los datos de las franquicias\n",
    "        franquicias_data = []\n",
    "        \n",
    "        # Recorre los elementos e almacena la información en la lista\n",
    "        for elemento in elementos:\n",
    "            info = elemento.get_text().strip().split(\"\\n\")\n",
    "            \n",
    "            # Verifica si hay suficientes elementos en la lista\n",
    "            if len(info) == 7:\n",
    "                franquicia = {\n",
    "                    \"Nombre\": info[0],\n",
    "                    \"Comida Principal\": info[1],\n",
    "                    \"Número de Franquicias al 2019 (estimado)\": info[2],\n",
    "                    \"Inversión Inicial promedio\": info[3],\n",
    "                    \"Capital Líquido inicial necesario para calificar como Franquiciatario\": info[4],\n",
    "                    \"Cuota Inicial\": info[5],\n",
    "                    \"Regalías por Ventas + Publicidad\": info[6]\n",
    "                }\n",
    "                franquicias_data.append(franquicia)\n",
    "        \n",
    "        # Crea un DataFrame de pandas a partir de la lista de diccionarios\n",
    "        df = pd.DataFrame(franquicias_data)\n",
    "        \n",
    "        # Imprime el DataFrame\n",
    "        print(df)\n",
    "    else:\n",
    "        print(\"No se encontró la lista especificada.\")\n",
    "else:\n",
    "    print(\"No se pudo acceder a la página. Código de estado:\", response.status_code)\n"
   ]
  },
  {
   "cell_type": "code",
   "execution_count": 12,
   "metadata": {},
   "outputs": [
    {
     "name": "stdout",
     "output_type": "stream",
     "text": [
      "       Nombre Comida Principal Número de Franquicias al 2019 (estimado)  \\\n",
      "0  McDonald's     Hamburguesas                                   38,000   \n",
      "1     Dunkin'            Donas                                   13,000   \n",
      "2   Taco Bell   Comida Tex-Mex                                    7,136   \n",
      "3   Pizza Hut           Pizzas                                   17,100   \n",
      "\n",
      "         Inversión Inicial promedio  \\\n",
      "0         USD $1.26 -$2.23 millones   \n",
      "1         USD $395 K-$1.59 millones   \n",
      "2       USD $525 K - $2.95 millones   \n",
      "3  USD $357,000 K - $2.213 millones   \n",
      "\n",
      "  Capital Líquido inicial necesario para calificar como Franquiciatario  \\\n",
      "0                                       USD $500,000                      \n",
      "1                         USD $125,000 – USD 250,000                      \n",
      "2                                       USD $750,000                      \n",
      "3                                       USD $350,000                      \n",
      "\n",
      "               Cuota Inicial Regalías por Ventas + Publicidad  \n",
      "0                USD $45,000                               8%  \n",
      "1  USD $40,000 – USD $90,000                            10.9%  \n",
      "2      USD $25,000 - $45,000                            5.29%  \n",
      "3                USD $25,000                           10.75%  \n"
     ]
    }
   ],
   "source": [
    "import pandas as pd\n",
    "\n",
    "# Tu lista de diccionarios franquicias_data\n",
    "franquicias_data = [\n",
    "    {\n",
    "        \"Nombre\": \"McDonald's\",\n",
    "        \"Comida Principal\": \"Hamburguesas\",\n",
    "        \"Número de Franquicias al 2019 (estimado)\": \"38,000\",\n",
    "        \"Inversión Inicial promedio\": \"USD $1.26 -$2.23 millones\",\n",
    "        \"Capital Líquido inicial necesario para calificar como Franquiciatario\": \"USD $500,000\",\n",
    "        \"Cuota Inicial\": \"USD $45,000\",\n",
    "        \"Regalías por Ventas + Publicidad\": \"8%\"\n",
    "    },\n",
    "    {\n",
    "        \"Nombre\": \"Dunkin'\",\n",
    "        \"Comida Principal\": \"Donas\",\n",
    "        \"Número de Franquicias al 2019 (estimado)\": \"13,000\",\n",
    "        \"Inversión Inicial promedio\": \"USD $395 K-$1.59 millones\",\n",
    "        \"Capital Líquido inicial necesario para calificar como Franquiciatario\": \"USD $125,000 – USD 250,000\",\n",
    "        \"Cuota Inicial\": \"USD $40,000 – USD $90,000\",\n",
    "        \"Regalías por Ventas + Publicidad\": \"10.9%\"\n",
    "    },\n",
    "    {   \"Nombre\": \"Taco Bell\",\n",
    "        \"Comida Principal\": \"Comida Tex-Mex\",\n",
    "        \"Número de Franquicias al 2019 (estimado)\": \"7,136\",\n",
    "        \"Inversión Inicial promedio\": \"USD $525 K - $2.95 millones\",\n",
    "        \"Capital Líquido inicial necesario para calificar como Franquiciatario\": \"USD $750,000\", \n",
    "        \"Cuota Inicial\": \"USD $25,000 - $45,000\",\n",
    "        \"Regalías por Ventas + Publicidad\": \"5.29%\"\n",
    "    },\n",
    "    {\n",
    "        \"Nombre\":\"Pizza Hut\",\n",
    "        \"Comida Principal\": \"Pizzas\",\n",
    "        \"Número de Franquicias al 2019 (estimado)\": \"17,100\",\n",
    "        \"Inversión Inicial promedio\": \"USD $357,000 K - $2.213 millones\",\n",
    "        \"Capital Líquido inicial necesario para calificar como Franquiciatario\": \"USD $350,000\",\n",
    "        \"Cuota Inicial\": \"USD $25,000\",\n",
    "        \"Regalías por Ventas + Publicidad\":\"10.75%\"\n",
    "    }\n",
    "]\n",
    "\n",
    "# Convierte franquicias_data en un DataFrame\n",
    "df = pd.DataFrame(franquicias_data)\n",
    "\n",
    "# Imprime el DataFrame en formato tabular\n",
    "print(df)"
   ]
  },
  {
   "cell_type": "code",
   "execution_count": 14,
   "metadata": {},
   "outputs": [
    {
     "data": {
      "text/plain": [
       "Index(['Nombre', 'Comida Principal',\n",
       "       'Número de Franquicias al 2019 (estimado)',\n",
       "       'Inversión Inicial promedio',\n",
       "       'Capital Líquido inicial necesario para calificar como Franquiciatario',\n",
       "       'Cuota Inicial', 'Regalías por Ventas + Publicidad'],\n",
       "      dtype='object')"
      ]
     },
     "execution_count": 14,
     "metadata": {},
     "output_type": "execute_result"
    }
   ],
   "source": [
    "df.columns"
   ]
  },
  {
   "cell_type": "code",
   "execution_count": 13,
   "metadata": {},
   "outputs": [],
   "source": [
    "# Guardar csv\n",
    "\n",
    "# Guardar el DataFrame en un archivo CSV\n",
    "df.to_csv('franquicias.csv', index=False)\n"
   ]
  }
 ],
 "metadata": {
  "kernelspec": {
   "display_name": "Python 3",
   "language": "python",
   "name": "python3"
  },
  "language_info": {
   "codemirror_mode": {
    "name": "ipython",
    "version": 3
   },
   "file_extension": ".py",
   "mimetype": "text/x-python",
   "name": "python",
   "nbconvert_exporter": "python",
   "pygments_lexer": "ipython3",
   "version": "3.11.5"
  },
  "orig_nbformat": 4
 },
 "nbformat": 4,
 "nbformat_minor": 2
}
