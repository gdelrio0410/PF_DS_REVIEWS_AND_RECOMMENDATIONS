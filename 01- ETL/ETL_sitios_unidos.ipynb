{
 "cells": [
  {
   "cell_type": "code",
   "execution_count": 21,
   "metadata": {},
   "outputs": [],
   "source": [
    "from sys import path\n",
    "import os\n",
    "path.append(os.path.realpath(\"../\"))"
   ]
  },
  {
   "cell_type": "code",
   "execution_count": 22,
   "metadata": {},
   "outputs": [],
   "source": [
    "import pandas as pd\n",
    "import numpy as np\n",
    "from biblioteca import misFunciones as mf"
   ]
  },
  {
   "cell_type": "code",
   "execution_count": 23,
   "metadata": {},
   "outputs": [],
   "source": [
    "sitios_unidos_df = pd.read_csv(\"Dataset/Sitios_Unidos.csv\")"
   ]
  },
  {
   "cell_type": "code",
   "execution_count": 24,
   "metadata": {},
   "outputs": [
    {
     "data": {
      "text/html": [
       "<div>\n",
       "<style scoped>\n",
       "    .dataframe tbody tr th:only-of-type {\n",
       "        vertical-align: middle;\n",
       "    }\n",
       "\n",
       "    .dataframe tbody tr th {\n",
       "        vertical-align: top;\n",
       "    }\n",
       "\n",
       "    .dataframe thead th {\n",
       "        text-align: right;\n",
       "    }\n",
       "</style>\n",
       "<table border=\"1\" class=\"dataframe\">\n",
       "  <thead>\n",
       "    <tr style=\"text-align: right;\">\n",
       "      <th></th>\n",
       "      <th>Unnamed: 0</th>\n",
       "      <th>name</th>\n",
       "      <th>address</th>\n",
       "      <th>gmap_id</th>\n",
       "      <th>description</th>\n",
       "      <th>latitude</th>\n",
       "      <th>longitude</th>\n",
       "      <th>category</th>\n",
       "      <th>avg_rating</th>\n",
       "      <th>num_of_reviews</th>\n",
       "      <th>price</th>\n",
       "      <th>hours</th>\n",
       "      <th>MISC</th>\n",
       "      <th>state</th>\n",
       "      <th>relative_results</th>\n",
       "      <th>url</th>\n",
       "    </tr>\n",
       "  </thead>\n",
       "  <tbody>\n",
       "    <tr>\n",
       "      <th>0</th>\n",
       "      <td>0</td>\n",
       "      <td>Porter Pharmacy</td>\n",
       "      <td>Porter Pharmacy, 129 N Second St, Cochran, GA ...</td>\n",
       "      <td>0x88f16e41928ff687:0x883dad4fd048e8f8</td>\n",
       "      <td>NaN</td>\n",
       "      <td>32.388300</td>\n",
       "      <td>-83.357100</td>\n",
       "      <td>['Pharmacy']</td>\n",
       "      <td>4.9</td>\n",
       "      <td>16</td>\n",
       "      <td>NaN</td>\n",
       "      <td>[['Friday', '8AM–6PM'], ['Saturday', '8AM–12PM...</td>\n",
       "      <td>{'Service options': ['In-store shopping', 'Sam...</td>\n",
       "      <td>Open ⋅ Closes 6PM</td>\n",
       "      <td>['0x88f16e41929435cf:0x5b2532a2885e9ef6', '0x8...</td>\n",
       "      <td>https://www.google.com/maps/place//data=!4m2!3...</td>\n",
       "    </tr>\n",
       "    <tr>\n",
       "      <th>1</th>\n",
       "      <td>1</td>\n",
       "      <td>City Textile</td>\n",
       "      <td>City Textile, 3001 E Pico Blvd, Los Angeles, C...</td>\n",
       "      <td>0x80c2c98c0e3c16fd:0x29ec8a728764fdf9</td>\n",
       "      <td>NaN</td>\n",
       "      <td>34.018891</td>\n",
       "      <td>-118.215290</td>\n",
       "      <td>['Textile exporter']</td>\n",
       "      <td>4.5</td>\n",
       "      <td>6</td>\n",
       "      <td>NaN</td>\n",
       "      <td>NaN</td>\n",
       "      <td>NaN</td>\n",
       "      <td>Open now</td>\n",
       "      <td>['0x80c2c624136ea88b:0xb0315367ed448771', '0x8...</td>\n",
       "      <td>https://www.google.com/maps/place//data=!4m2!3...</td>\n",
       "    </tr>\n",
       "    <tr>\n",
       "      <th>2</th>\n",
       "      <td>2</td>\n",
       "      <td>San Soo Dang</td>\n",
       "      <td>San Soo Dang, 761 S Vermont Ave, Los Angeles, ...</td>\n",
       "      <td>0x80c2c778e3b73d33:0xbdc58662a4a97d49</td>\n",
       "      <td>NaN</td>\n",
       "      <td>34.058092</td>\n",
       "      <td>-118.292130</td>\n",
       "      <td>['Korean restaurant']</td>\n",
       "      <td>4.4</td>\n",
       "      <td>18</td>\n",
       "      <td>NaN</td>\n",
       "      <td>[['Thursday', '6:30AM–6PM'], ['Friday', '6:30A...</td>\n",
       "      <td>{'Service options': ['Takeout', 'Dine-in', 'De...</td>\n",
       "      <td>Open ⋅ Closes 6PM</td>\n",
       "      <td>['0x80c2c78249aba68f:0x35bf16ce61be751d', '0x8...</td>\n",
       "      <td>https://www.google.com/maps/place//data=!4m2!3...</td>\n",
       "    </tr>\n",
       "    <tr>\n",
       "      <th>3</th>\n",
       "      <td>3</td>\n",
       "      <td>Nova Fabrics</td>\n",
       "      <td>Nova Fabrics, 2200 E 11th St, Los Angeles, CA ...</td>\n",
       "      <td>0x80c2c89923b27a41:0x32041559418d447</td>\n",
       "      <td>NaN</td>\n",
       "      <td>34.023669</td>\n",
       "      <td>-118.232930</td>\n",
       "      <td>['Fabric store']</td>\n",
       "      <td>3.3</td>\n",
       "      <td>6</td>\n",
       "      <td>NaN</td>\n",
       "      <td>[['Thursday', '9AM–5PM'], ['Friday', '9AM–5PM'...</td>\n",
       "      <td>{'Service options': ['In-store shopping'], 'Pa...</td>\n",
       "      <td>Open ⋅ Closes 5PM</td>\n",
       "      <td>['0x80c2c8811477253f:0x23a8a492df1918f7', '0x8...</td>\n",
       "      <td>https://www.google.com/maps/place//data=!4m2!3...</td>\n",
       "    </tr>\n",
       "    <tr>\n",
       "      <th>4</th>\n",
       "      <td>4</td>\n",
       "      <td>Nobel Textile Co</td>\n",
       "      <td>Nobel Textile Co, 719 E 9th St, Los Angeles, C...</td>\n",
       "      <td>0x80c2c632f933b073:0xc31785961fe826a6</td>\n",
       "      <td>NaN</td>\n",
       "      <td>34.036694</td>\n",
       "      <td>-118.249421</td>\n",
       "      <td>['Fabric store']</td>\n",
       "      <td>4.3</td>\n",
       "      <td>7</td>\n",
       "      <td>NaN</td>\n",
       "      <td>[['Thursday', '9AM–5PM'], ['Friday', '9AM–5PM'...</td>\n",
       "      <td>{'Service options': ['In-store pickup']}</td>\n",
       "      <td>Open ⋅ Closes 5PM</td>\n",
       "      <td>['0x80c2c62c496083d1:0xdefa11317fe870a1', '0x8...</td>\n",
       "      <td>https://www.google.com/maps/place//data=!4m2!3...</td>\n",
       "    </tr>\n",
       "  </tbody>\n",
       "</table>\n",
       "</div>"
      ],
      "text/plain": [
       "   Unnamed: 0              name  \\\n",
       "0           0   Porter Pharmacy   \n",
       "1           1      City Textile   \n",
       "2           2      San Soo Dang   \n",
       "3           3      Nova Fabrics   \n",
       "4           4  Nobel Textile Co   \n",
       "\n",
       "                                             address  \\\n",
       "0  Porter Pharmacy, 129 N Second St, Cochran, GA ...   \n",
       "1  City Textile, 3001 E Pico Blvd, Los Angeles, C...   \n",
       "2  San Soo Dang, 761 S Vermont Ave, Los Angeles, ...   \n",
       "3  Nova Fabrics, 2200 E 11th St, Los Angeles, CA ...   \n",
       "4  Nobel Textile Co, 719 E 9th St, Los Angeles, C...   \n",
       "\n",
       "                                 gmap_id description   latitude   longitude  \\\n",
       "0  0x88f16e41928ff687:0x883dad4fd048e8f8         NaN  32.388300  -83.357100   \n",
       "1  0x80c2c98c0e3c16fd:0x29ec8a728764fdf9         NaN  34.018891 -118.215290   \n",
       "2  0x80c2c778e3b73d33:0xbdc58662a4a97d49         NaN  34.058092 -118.292130   \n",
       "3   0x80c2c89923b27a41:0x32041559418d447         NaN  34.023669 -118.232930   \n",
       "4  0x80c2c632f933b073:0xc31785961fe826a6         NaN  34.036694 -118.249421   \n",
       "\n",
       "                category  avg_rating  num_of_reviews price  \\\n",
       "0           ['Pharmacy']         4.9              16   NaN   \n",
       "1   ['Textile exporter']         4.5               6   NaN   \n",
       "2  ['Korean restaurant']         4.4              18   NaN   \n",
       "3       ['Fabric store']         3.3               6   NaN   \n",
       "4       ['Fabric store']         4.3               7   NaN   \n",
       "\n",
       "                                               hours  \\\n",
       "0  [['Friday', '8AM–6PM'], ['Saturday', '8AM–12PM...   \n",
       "1                                                NaN   \n",
       "2  [['Thursday', '6:30AM–6PM'], ['Friday', '6:30A...   \n",
       "3  [['Thursday', '9AM–5PM'], ['Friday', '9AM–5PM'...   \n",
       "4  [['Thursday', '9AM–5PM'], ['Friday', '9AM–5PM'...   \n",
       "\n",
       "                                                MISC              state  \\\n",
       "0  {'Service options': ['In-store shopping', 'Sam...  Open ⋅ Closes 6PM   \n",
       "1                                                NaN           Open now   \n",
       "2  {'Service options': ['Takeout', 'Dine-in', 'De...  Open ⋅ Closes 6PM   \n",
       "3  {'Service options': ['In-store shopping'], 'Pa...  Open ⋅ Closes 5PM   \n",
       "4           {'Service options': ['In-store pickup']}  Open ⋅ Closes 5PM   \n",
       "\n",
       "                                    relative_results  \\\n",
       "0  ['0x88f16e41929435cf:0x5b2532a2885e9ef6', '0x8...   \n",
       "1  ['0x80c2c624136ea88b:0xb0315367ed448771', '0x8...   \n",
       "2  ['0x80c2c78249aba68f:0x35bf16ce61be751d', '0x8...   \n",
       "3  ['0x80c2c8811477253f:0x23a8a492df1918f7', '0x8...   \n",
       "4  ['0x80c2c62c496083d1:0xdefa11317fe870a1', '0x8...   \n",
       "\n",
       "                                                 url  \n",
       "0  https://www.google.com/maps/place//data=!4m2!3...  \n",
       "1  https://www.google.com/maps/place//data=!4m2!3...  \n",
       "2  https://www.google.com/maps/place//data=!4m2!3...  \n",
       "3  https://www.google.com/maps/place//data=!4m2!3...  \n",
       "4  https://www.google.com/maps/place//data=!4m2!3...  "
      ]
     },
     "execution_count": 24,
     "metadata": {},
     "output_type": "execute_result"
    }
   ],
   "source": [
    "sitios_unidos_df.head()"
   ]
  },
  {
   "cell_type": "code",
   "execution_count": 25,
   "metadata": {},
   "outputs": [
    {
     "name": "stdout",
     "output_type": "stream",
     "text": [
      "<class 'pandas.core.frame.DataFrame'>\n",
      "RangeIndex: 3025011 entries, 0 to 3025010\n",
      "Data columns (total 16 columns):\n",
      " #   Column            Dtype  \n",
      "---  ------            -----  \n",
      " 0   Unnamed: 0        int64  \n",
      " 1   name              object \n",
      " 2   address           object \n",
      " 3   gmap_id           object \n",
      " 4   description       object \n",
      " 5   latitude          float64\n",
      " 6   longitude         float64\n",
      " 7   category          object \n",
      " 8   avg_rating        float64\n",
      " 9   num_of_reviews    int64  \n",
      " 10  price             object \n",
      " 11  hours             object \n",
      " 12  MISC              object \n",
      " 13  state             object \n",
      " 14  relative_results  object \n",
      " 15  url               object \n",
      "dtypes: float64(3), int64(2), object(11)\n",
      "memory usage: 369.3+ MB\n"
     ]
    }
   ],
   "source": [
    "sitios_unidos_df.info()"
   ]
  },
  {
   "cell_type": "code",
   "execution_count": 26,
   "metadata": {},
   "outputs": [
    {
     "name": "stdout",
     "output_type": "stream",
     "text": [
      "Unnamed: 0                0\n",
      "name                     67\n",
      "address               80511\n",
      "gmap_id                   0\n",
      "description         2770722\n",
      "latitude                  0\n",
      "longitude                 0\n",
      "category              17419\n",
      "avg_rating                0\n",
      "num_of_reviews            0\n",
      "price               2749808\n",
      "hours                787405\n",
      "MISC                 690834\n",
      "state                746455\n",
      "relative_results     295058\n",
      "url                       0\n",
      "dtype: int64\n"
     ]
    }
   ],
   "source": [
    "nulos_por_columna = sitios_unidos_df.isnull().sum()\n",
    "\n",
    "print(nulos_por_columna)"
   ]
  },
  {
   "cell_type": "code",
   "execution_count": 27,
   "metadata": {},
   "outputs": [
    {
     "name": "stdout",
     "output_type": "stream",
     "text": [
      "[nan '$' '$$' '$$$' '$$$$' '₩' '₩₩' '₩₩₩' '₩₩₩₩']\n"
     ]
    }
   ],
   "source": [
    "mf.valorUnico(sitios_unidos_df, \"price\")"
   ]
  },
  {
   "cell_type": "code",
   "execution_count": 28,
   "metadata": {},
   "outputs": [
    {
     "name": "stdout",
     "output_type": "stream",
     "text": [
      "[nan\n",
      " 'Chain selling interior & exterior paints, primers & finishes, plus supplies.'\n",
      " 'Wireless provider offering prepaid mobile phones, coverage plans & a range of accessories.'\n",
      " ...\n",
      " 'Trendy spot for creative Chinese dim sum & larger plates including ample seafood plus sweets.'\n",
      " 'Spacious beauty boutique offering hair coloring & cuts, plus manicures, pedicures & makeup services.'\n",
      " 'Innovative, globally inspired dishes are paired with wine, cocktails & sake in offbeat surrounds.']\n"
     ]
    }
   ],
   "source": [
    "mf.valorUnico(sitios_unidos_df, \"description\")"
   ]
  },
  {
   "cell_type": "code",
   "execution_count": 29,
   "metadata": {},
   "outputs": [
    {
     "name": "stdout",
     "output_type": "stream",
     "text": [
      "[\"['Pharmacy']\" \"['Textile exporter']\" \"['Korean restaurant']\" ...\n",
      " \"['Distribution service', 'Construction', 'Store']\"\n",
      " \"['BMX park', 'BMX club', 'BMX track', 'Sports complex']\"\n",
      " \"['Bar & grill', 'Karaoke bar', 'Pub']\"]\n"
     ]
    }
   ],
   "source": [
    "mf.valorUnico(sitios_unidos_df, \"category\")"
   ]
  },
  {
   "cell_type": "code",
   "execution_count": 30,
   "metadata": {},
   "outputs": [],
   "source": [
    "# mf.verificarTipoDato(sitios_unidos_df)"
   ]
  },
  {
   "cell_type": "code",
   "execution_count": null,
   "metadata": {},
   "outputs": [],
   "source": []
  },
  {
   "cell_type": "code",
   "execution_count": 31,
   "metadata": {},
   "outputs": [],
   "source": [
    "# sitios_unidos_df[\"category\"] = sitios_unidos_df[\"category\"].apply(mf.transformar_cadena)"
   ]
  },
  {
   "cell_type": "code",
   "execution_count": 32,
   "metadata": {},
   "outputs": [],
   "source": [
    "# sitios_unidos_df[\"hours\"] = sitios_unidos_df[\"hours\"].apply(mf.transformar_cadena)"
   ]
  },
  {
   "cell_type": "code",
   "execution_count": 33,
   "metadata": {},
   "outputs": [],
   "source": [
    "# sitios_unidos_df[\"MISC\"] = sitios_unidos_df[\"MISC\"].apply(mf.transformar_cadena)"
   ]
  },
  {
   "cell_type": "code",
   "execution_count": 34,
   "metadata": {},
   "outputs": [],
   "source": [
    "# mf.verificarTipoDato(sitios_unidos_df)"
   ]
  },
  {
   "cell_type": "code",
   "execution_count": 35,
   "metadata": {},
   "outputs": [
    {
     "name": "stdout",
     "output_type": "stream",
     "text": [
      "0          False\n",
      "1          False\n",
      "2           True\n",
      "3          False\n",
      "4          False\n",
      "           ...  \n",
      "3025006     True\n",
      "3025007    False\n",
      "3025008    False\n",
      "3025009    False\n",
      "3025010    False\n",
      "Name: category, Length: 3025011, dtype: object\n"
     ]
    }
   ],
   "source": [
    "# Verificar si la palabra \"restaurant\" está presente en la columna \"category\"\n",
    "restaurant_present = sitios_unidos_df['category'].str.contains('restaurant', case=False)\n",
    "\n",
    "# Mostrar los resultados\n",
    "print(restaurant_present)"
   ]
  },
  {
   "cell_type": "code",
   "execution_count": null,
   "metadata": {},
   "outputs": [],
   "source": []
  }
 ],
 "metadata": {
  "kernelspec": {
   "display_name": "Python 3",
   "language": "python",
   "name": "python3"
  },
  "language_info": {
   "codemirror_mode": {
    "name": "ipython",
    "version": 3
   },
   "file_extension": ".py",
   "mimetype": "text/x-python",
   "name": "python",
   "nbconvert_exporter": "python",
   "pygments_lexer": "ipython3",
   "version": "3.11.5"
  },
  "orig_nbformat": 4
 },
 "nbformat": 4,
 "nbformat_minor": 2
}
