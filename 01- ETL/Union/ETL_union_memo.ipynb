{
 "cells": [
  {
   "cell_type": "code",
   "execution_count": 1,
   "metadata": {},
   "outputs": [],
   "source": [
    "from sys import path\n",
    "import os\n",
    "path.append(os.path.realpath(\"../../\"))"
   ]
  },
  {
   "cell_type": "code",
   "execution_count": 2,
   "metadata": {},
   "outputs": [],
   "source": [
    "import pandas as pd\n",
    "import seaborn as sns\n",
    "import matplotlib as plt\n",
    "from biblioteca import misFunciones as mf"
   ]
  },
  {
   "cell_type": "code",
   "execution_count": 3,
   "metadata": {},
   "outputs": [],
   "source": [
    "sitio=pd.read_csv(\"../../Dataset/Sitios_Unidos.csv\")"
   ]
  },
  {
   "cell_type": "code",
   "execution_count": 4,
   "metadata": {},
   "outputs": [
    {
     "data": {
      "text/html": [
       "<div>\n",
       "<style scoped>\n",
       "    .dataframe tbody tr th:only-of-type {\n",
       "        vertical-align: middle;\n",
       "    }\n",
       "\n",
       "    .dataframe tbody tr th {\n",
       "        vertical-align: top;\n",
       "    }\n",
       "\n",
       "    .dataframe thead th {\n",
       "        text-align: right;\n",
       "    }\n",
       "</style>\n",
       "<table border=\"1\" class=\"dataframe\">\n",
       "  <thead>\n",
       "    <tr style=\"text-align: right;\">\n",
       "      <th></th>\n",
       "      <th>Unnamed: 0</th>\n",
       "      <th>name</th>\n",
       "      <th>address</th>\n",
       "      <th>gmap_id</th>\n",
       "      <th>description</th>\n",
       "      <th>latitude</th>\n",
       "      <th>longitude</th>\n",
       "      <th>category</th>\n",
       "      <th>avg_rating</th>\n",
       "      <th>num_of_reviews</th>\n",
       "      <th>price</th>\n",
       "      <th>hours</th>\n",
       "      <th>MISC</th>\n",
       "      <th>state</th>\n",
       "      <th>relative_results</th>\n",
       "      <th>url</th>\n",
       "    </tr>\n",
       "  </thead>\n",
       "  <tbody>\n",
       "    <tr>\n",
       "      <th>0</th>\n",
       "      <td>0</td>\n",
       "      <td>Porter Pharmacy</td>\n",
       "      <td>Porter Pharmacy, 129 N Second St, Cochran, GA ...</td>\n",
       "      <td>0x88f16e41928ff687:0x883dad4fd048e8f8</td>\n",
       "      <td>NaN</td>\n",
       "      <td>32.388300</td>\n",
       "      <td>-83.35710</td>\n",
       "      <td>['Pharmacy']</td>\n",
       "      <td>4.9</td>\n",
       "      <td>16</td>\n",
       "      <td>NaN</td>\n",
       "      <td>[['Friday', '8AM–6PM'], ['Saturday', '8AM–12PM...</td>\n",
       "      <td>{'Service options': ['In-store shopping', 'Sam...</td>\n",
       "      <td>Open ⋅ Closes 6PM</td>\n",
       "      <td>['0x88f16e41929435cf:0x5b2532a2885e9ef6', '0x8...</td>\n",
       "      <td>https://www.google.com/maps/place//data=!4m2!3...</td>\n",
       "    </tr>\n",
       "    <tr>\n",
       "      <th>1</th>\n",
       "      <td>1</td>\n",
       "      <td>City Textile</td>\n",
       "      <td>City Textile, 3001 E Pico Blvd, Los Angeles, C...</td>\n",
       "      <td>0x80c2c98c0e3c16fd:0x29ec8a728764fdf9</td>\n",
       "      <td>NaN</td>\n",
       "      <td>34.018891</td>\n",
       "      <td>-118.21529</td>\n",
       "      <td>['Textile exporter']</td>\n",
       "      <td>4.5</td>\n",
       "      <td>6</td>\n",
       "      <td>NaN</td>\n",
       "      <td>NaN</td>\n",
       "      <td>NaN</td>\n",
       "      <td>Open now</td>\n",
       "      <td>['0x80c2c624136ea88b:0xb0315367ed448771', '0x8...</td>\n",
       "      <td>https://www.google.com/maps/place//data=!4m2!3...</td>\n",
       "    </tr>\n",
       "  </tbody>\n",
       "</table>\n",
       "</div>"
      ],
      "text/plain": [
       "   Unnamed: 0             name  \\\n",
       "0           0  Porter Pharmacy   \n",
       "1           1     City Textile   \n",
       "\n",
       "                                             address  \\\n",
       "0  Porter Pharmacy, 129 N Second St, Cochran, GA ...   \n",
       "1  City Textile, 3001 E Pico Blvd, Los Angeles, C...   \n",
       "\n",
       "                                 gmap_id description   latitude  longitude  \\\n",
       "0  0x88f16e41928ff687:0x883dad4fd048e8f8         NaN  32.388300  -83.35710   \n",
       "1  0x80c2c98c0e3c16fd:0x29ec8a728764fdf9         NaN  34.018891 -118.21529   \n",
       "\n",
       "               category  avg_rating  num_of_reviews price  \\\n",
       "0          ['Pharmacy']         4.9              16   NaN   \n",
       "1  ['Textile exporter']         4.5               6   NaN   \n",
       "\n",
       "                                               hours  \\\n",
       "0  [['Friday', '8AM–6PM'], ['Saturday', '8AM–12PM...   \n",
       "1                                                NaN   \n",
       "\n",
       "                                                MISC              state  \\\n",
       "0  {'Service options': ['In-store shopping', 'Sam...  Open ⋅ Closes 6PM   \n",
       "1                                                NaN           Open now   \n",
       "\n",
       "                                    relative_results  \\\n",
       "0  ['0x88f16e41929435cf:0x5b2532a2885e9ef6', '0x8...   \n",
       "1  ['0x80c2c624136ea88b:0xb0315367ed448771', '0x8...   \n",
       "\n",
       "                                                 url  \n",
       "0  https://www.google.com/maps/place//data=!4m2!3...  \n",
       "1  https://www.google.com/maps/place//data=!4m2!3...  "
      ]
     },
     "execution_count": 4,
     "metadata": {},
     "output_type": "execute_result"
    }
   ],
   "source": [
    "sitio.head(2)"
   ]
  },
  {
   "cell_type": "code",
   "execution_count": 5,
   "metadata": {},
   "outputs": [],
   "source": [
    "sitio=sitio[[\"category\",\"avg_rating\",\"gmap_id\",\"name\", \"latitude\", \"longitude\"]]"
   ]
  },
  {
   "cell_type": "code",
   "execution_count": 6,
   "metadata": {},
   "outputs": [
    {
     "data": {
      "text/plain": [
       "category      3025011\n",
       "avg_rating    3025011\n",
       "gmap_id       3025011\n",
       "name          3025011\n",
       "latitude      3025011\n",
       "longitude     3025011\n",
       "dtype: int64"
      ]
     },
     "execution_count": 6,
     "metadata": {},
     "output_type": "execute_result"
    }
   ],
   "source": [
    "sitio.isnull().count()"
   ]
  },
  {
   "cell_type": "code",
   "execution_count": 7,
   "metadata": {},
   "outputs": [
    {
     "data": {
      "text/html": [
       "<div>\n",
       "<style scoped>\n",
       "    .dataframe tbody tr th:only-of-type {\n",
       "        vertical-align: middle;\n",
       "    }\n",
       "\n",
       "    .dataframe tbody tr th {\n",
       "        vertical-align: top;\n",
       "    }\n",
       "\n",
       "    .dataframe thead th {\n",
       "        text-align: right;\n",
       "    }\n",
       "</style>\n",
       "<table border=\"1\" class=\"dataframe\">\n",
       "  <thead>\n",
       "    <tr style=\"text-align: right;\">\n",
       "      <th></th>\n",
       "      <th>category</th>\n",
       "      <th>avg_rating</th>\n",
       "      <th>gmap_id</th>\n",
       "      <th>name</th>\n",
       "      <th>latitude</th>\n",
       "      <th>longitude</th>\n",
       "    </tr>\n",
       "  </thead>\n",
       "  <tbody>\n",
       "    <tr>\n",
       "      <th>0</th>\n",
       "      <td>['Pharmacy']</td>\n",
       "      <td>4.9</td>\n",
       "      <td>0x88f16e41928ff687:0x883dad4fd048e8f8</td>\n",
       "      <td>Porter Pharmacy</td>\n",
       "      <td>32.3883</td>\n",
       "      <td>-83.3571</td>\n",
       "    </tr>\n",
       "  </tbody>\n",
       "</table>\n",
       "</div>"
      ],
      "text/plain": [
       "       category  avg_rating                                gmap_id  \\\n",
       "0  ['Pharmacy']         4.9  0x88f16e41928ff687:0x883dad4fd048e8f8   \n",
       "\n",
       "              name  latitude  longitude  \n",
       "0  Porter Pharmacy   32.3883   -83.3571  "
      ]
     },
     "execution_count": 7,
     "metadata": {},
     "output_type": "execute_result"
    }
   ],
   "source": [
    "sitio.head(1)"
   ]
  },
  {
   "cell_type": "code",
   "execution_count": 8,
   "metadata": {},
   "outputs": [],
   "source": [
    "Estado=pd.read_csv(\"../../Dataset/Estados.csv\")"
   ]
  },
  {
   "cell_type": "code",
   "execution_count": 9,
   "metadata": {},
   "outputs": [],
   "source": [
    "Estado=Estado[[\"gmap_id\",\"Estado\"]]"
   ]
  },
  {
   "cell_type": "code",
   "execution_count": 10,
   "metadata": {},
   "outputs": [],
   "source": [
    "Dataframe = pd.merge(Estado,sitio, on='gmap_id')"
   ]
  },
  {
   "cell_type": "code",
   "execution_count": 11,
   "metadata": {},
   "outputs": [],
   "source": [
    "Dataframe.to_csv(\"../../Dataset/Union_modificado.csv\")"
   ]
  },
  {
   "cell_type": "code",
   "execution_count": 12,
   "metadata": {},
   "outputs": [],
   "source": [
    "Union_modificado = pd.read_csv(\"../../Dataset/Union_modificado.csv\")"
   ]
  },
  {
   "cell_type": "code",
   "execution_count": 13,
   "metadata": {},
   "outputs": [],
   "source": [
    "split_point = len(Union_modificado) // 2\n",
    "df1 = Union_modificado[:split_point].copy()\n",
    "df2 = Union_modificado[split_point:].copy()\n",
    "\n"
   ]
  },
  {
   "cell_type": "code",
   "execution_count": 15,
   "metadata": {},
   "outputs": [],
   "source": [
    "df1.to_csv('../../Dataset/Union_modificado_parte1.csv', index=False)\n",
    "df2.to_csv('../../Dataset/Union_modificado_parte2.csv', index=False)"
   ]
  },
  {
   "cell_type": "code",
   "execution_count": null,
   "metadata": {},
   "outputs": [],
   "source": []
  }
 ],
 "metadata": {
  "kernelspec": {
   "display_name": "Python 3",
   "language": "python",
   "name": "python3"
  },
  "language_info": {
   "codemirror_mode": {
    "name": "ipython",
    "version": 3
   },
   "file_extension": ".py",
   "mimetype": "text/x-python",
   "name": "python",
   "nbconvert_exporter": "python",
   "pygments_lexer": "ipython3",
   "version": "3.11.5"
  },
  "orig_nbformat": 4
 },
 "nbformat": 4,
 "nbformat_minor": 2
}
